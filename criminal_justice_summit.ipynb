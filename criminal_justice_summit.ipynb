{
 "cells": [
  {
   "cell_type": "markdown",
   "metadata": {
    "colab_type": "text",
    "id": "view-in-github"
   },
   "source": [
    "[View in Colaboratory](https://colab.research.google.com/github/jdungan/oscn-notebooks/blob/master/criminal_justice_summit.ipynb)"
   ]
  },
  {
   "cell_type": "markdown",
   "metadata": {
    "colab_type": "text",
    "id": "_7eFFao0mCRX"
   },
   "source": [
    "# OSCN Usage Examples"
   ]
  },
  {
   "cell_type": "code",
   "execution_count": 1,
   "metadata": {
    "colab": {
     "base_uri": "https://localhost:8080/",
     "height": 160
    },
    "colab_type": "code",
    "id": "gfJ0Zh2cc3Dd",
    "outputId": "baa9ad3a-e30a-4052-8438-998fcb05b2f8"
   },
   "outputs": [
    {
     "name": "stdout",
     "output_type": "stream",
     "text": [
      "Requirement already satisfied: oscn in /Users/owner/projects/cft/oscn (0.0.0.19)\n",
      "Requirement already satisfied: requests in /Users/owner/projects/python_envs/oscn/lib/python3.6/site-packages (from oscn) (2.19.1)\n",
      "Requirement already satisfied: beautifulsoup4 in /Users/owner/projects/python_envs/oscn/lib/python3.6/site-packages (from oscn) (4.6.0)\n",
      "Requirement already satisfied: certifi>=2017.4.17 in /Users/owner/projects/python_envs/oscn/lib/python3.6/site-packages (from requests->oscn) (2018.4.16)\n",
      "Requirement already satisfied: urllib3<1.24,>=1.21.1 in /Users/owner/projects/python_envs/oscn/lib/python3.6/site-packages (from requests->oscn) (1.23)\n",
      "Requirement already satisfied: idna<2.8,>=2.5 in /Users/owner/projects/python_envs/oscn/lib/python3.6/site-packages (from requests->oscn) (2.7)\n",
      "Requirement already satisfied: chardet<3.1.0,>=3.0.2 in /Users/owner/projects/python_envs/oscn/lib/python3.6/site-packages (from requests->oscn) (3.0.4)\n"
     ]
    }
   ],
   "source": [
    "!pip install oscn\n",
    "import oscn\n"
   ]
  },
  {
   "cell_type": "markdown",
   "metadata": {
    "colab_type": "text",
    "id": "uTiWYs4rltv3"
   },
   "source": [
    "## Single cases"
   ]
  },
  {
   "cell_type": "code",
   "execution_count": 3,
   "metadata": {
    "colab": {
     "base_uri": "https://localhost:8080/",
     "height": 69
    },
    "colab_type": "code",
    "id": "DUIHVR-tc_jK",
    "outputId": "a7598fde-259d-441c-c152-3b444bca6aa4"
   },
   "outputs": [
    {
     "data": {
      "text/plain": [
       "[{'description': 'CONJOINT ROBBERY,'}]"
      ]
     },
     "execution_count": 3,
     "metadata": {},
     "output_type": "execute_result"
    }
   ],
   "source": [
    "oscn.request.Case(county='adair',type=\"CF\", number=75).counts"
   ]
  },
  {
   "cell_type": "code",
   "execution_count": 9,
   "metadata": {
    "colab": {
     "base_uri": "https://localhost:8080/",
     "height": 52
    },
    "colab_type": "code",
    "id": "MlOo9ypBIGxD",
    "outputId": "ee43f1fa-02cc-4e0d-9920-e4131efd205c"
   },
   "outputs": [
    {
     "data": {
      "text/plain": [
       "[{'description': 'UNLAWFUL POSSESSION OF CONTROLLED DANGEROUS DRUG WITH INTENT TO DISTRIBUTE,'},\n",
       " {'description': 'UNLAWFUL POSSESSION OF DRUG PARAPHERNALIA,'}]"
      ]
     },
     "execution_count": 9,
     "metadata": {},
     "output_type": "execute_result"
    }
   ],
   "source": [
    "case = oscn.request.Case(county='adair', number=55)\n",
    "case.counts\n"
   ]
  },
  {
   "cell_type": "markdown",
   "metadata": {
    "colab_type": "text",
    "id": "eVFliveBnPP2"
   },
   "source": [
    "## List of cases"
   ]
  },
  {
   "cell_type": "code",
   "execution_count": 12,
   "metadata": {
    "colab": {
     "base_uri": "https://localhost:8080/",
     "height": 208
    },
    "colab_type": "code",
    "id": "ZVLhNLZZdHKq",
    "outputId": "18b036ab-a50c-44d0-e0f8-6becb515ee5e"
   },
   "outputs": [],
   "source": [
    "cases = oscn.request.CaseList(county='washington',year='2016',start=15, stop=10)\n",
    "for case in cases:\n",
    "  print(f'filed: {case.filed} closed:{case.closed}')\n"
   ]
  }
 ],
 "metadata": {
  "colab": {
   "collapsed_sections": [],
   "include_colab_link": true,
   "name": "oscn example.ipynb",
   "provenance": [],
   "toc_visible": true,
   "version": "0.3.2"
  },
  "kernelspec": {
   "display_name": "Python 3",
   "language": "python",
   "name": "python3"
  },
  "language_info": {
   "codemirror_mode": {
    "name": "ipython",
    "version": 3
   },
   "file_extension": ".py",
   "mimetype": "text/x-python",
   "name": "python",
   "nbconvert_exporter": "python",
   "pygments_lexer": "ipython3",
   "version": "3.6.5"
  }
 },
 "nbformat": 4,
 "nbformat_minor": 1
}
