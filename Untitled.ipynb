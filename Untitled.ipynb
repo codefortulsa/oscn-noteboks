{
 "cells": [
  {
   "cell_type": "code",
   "execution_count": 2,
   "metadata": {},
   "outputs": [],
   "source": [
    "years = ['2016','2017','2018']\n",
    "counties = ['mayes', 'love','rogers','delaware']\n",
    "types =['CM','CF']"
   ]
  },
  {
   "cell_type": "code",
   "execution_count": 20,
   "metadata": {},
   "outputs": [
    {
     "name": "stdout",
     "output_type": "stream",
     "text": [
      "old save: 47636692\n",
      "new save: 5129835\n",
      "old save: 76713926\n",
      "new save: 5995655\n",
      "old save: 46562771\n",
      "new save: 5632442\n",
      "old save: 55378068\n",
      "new save: 4610071\n",
      "old save: 22905857\n",
      "new save: 3224128\n",
      "old save: 20593006\n",
      "new save: 2432128\n",
      "old save: 34626041\n",
      "new save: 5286738\n",
      "old save: 25977861\n",
      "new save: 3125047\n",
      "old save: 40094102\n",
      "new save: 6308137\n",
      "old save: 21486532\n",
      "new save: 2726218\n",
      "old save: 27133012\n",
      "new save: 4706710\n",
      "old save: 10847369\n",
      "new save: 1697708\n",
      "old save: 75194527\n",
      "new save: 10980808\n",
      "old save: 100780612\n",
      "new save: 12233967\n",
      "old save: 64001267\n",
      "new save: 10249170\n",
      "old save: 72041264\n",
      "new save: 10353458\n",
      "old save: 36259059\n",
      "new save: 7538919\n",
      "old save: 23508961\n",
      "new save: 4795633\n",
      "old save: 54262303\n",
      "new save: 6662631\n",
      "old save: 57331989\n",
      "new save: 4811078\n",
      "old save: 66602596\n",
      "new save: 8232240\n",
      "old save: 48886067\n",
      "new save: 4429950\n",
      "old save: 41020502\n",
      "new save: 6041422\n",
      "old save: 25921419\n",
      "new save: 3088994\n"
     ]
    }
   ],
   "source": [
    "import pickle\n",
    "import os\n",
    "import zlib\n",
    "import gzip\n",
    "\n",
    "case_count =0 \n",
    "saved_cases =[]\n",
    "\n",
    "file_size = lambda file: os.stat(file).st_size\n",
    "\n",
    "def compact_case(case):\n",
    "#     return zlib.compress(b'{case.text}',9)\n",
    "      return zlib.compress(pickle.dumps(case),9) \n",
    "\n",
    "for county in counties:\n",
    "    for year in years:\n",
    "        for type in types:      \n",
    "            file_name = f'data/{type}.{county}.{year}.oscn'\n",
    "            retr_cases = pickle.load(open(file_name, 'rb'))\n",
    "            print(f'old save: {file_size(file_name)}')\n",
    "\n",
    "            new_cases = [compact_case(c) for c in retr_cases ]\n",
    "\n",
    "            new_file_name = f'data/{county}.{year}.{type}.cases'\n",
    "            f = open(new_file_name, 'wb')\n",
    "            pickle.dump(new_cases, f)\n",
    "            f.close()\n",
    "            print(f'new save: {file_size(new_file_name)}')\n",
    "    \n",
    "              \n",
    "      "
   ]
  },
  {
   "cell_type": "code",
   "execution_count": null,
   "metadata": {},
   "outputs": [],
   "source": [
    "import pickle\n",
    "\n",
    "case_count =0 \n",
    "\n",
    "for county in counties:\n",
    "  for year in years:\n",
    "    for type in types:      \n",
    "          print(f'{file_name}: {len(all_cases)}')\n",
    "        \n",
    "print(f'counted case: {case_count} length saved {len(saved_cases)}')\n"
   ]
  }
 ],
 "metadata": {
  "kernelspec": {
   "display_name": "Python 3",
   "language": "python",
   "name": "python3"
  },
  "language_info": {
   "codemirror_mode": {
    "name": "ipython",
    "version": 3
   },
   "file_extension": ".py",
   "mimetype": "text/x-python",
   "name": "python",
   "nbconvert_exporter": "python",
   "pygments_lexer": "ipython3",
   "version": "3.6.5"
  }
 },
 "nbformat": 4,
 "nbformat_minor": 2
}
