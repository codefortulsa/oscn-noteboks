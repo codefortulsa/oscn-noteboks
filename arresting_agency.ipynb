{
 "cells": [
  {
   "cell_type": "markdown",
   "metadata": {},
   "source": [
    "# Analysis of Arresting Agencies in Rogers and Love County"
   ]
  },
  {
   "cell_type": "code",
   "execution_count": null,
   "metadata": {},
   "outputs": [],
   "source": [
    "!pip install oscn==0.0.0.19\n",
    "import oscn"
   ]
  },
  {
   "cell_type": "markdown",
   "metadata": {},
   "source": [
    "## Request and save cases from Rogers and Love \n",
    "\n",
    "\n",
    "### Step 1. Define the data to request"
   ]
  },
  {
   "cell_type": "code",
   "execution_count": 2,
   "metadata": {},
   "outputs": [],
   "source": [
    "years = ['2017','2018']\n",
    "counties = ['love','rogers']\n",
    "types =['CM','CF']\n"
   ]
  },
  {
   "cell_type": "markdown",
   "metadata": {},
   "source": [
    "### Step 2.  Request and save the cases\n",
    "This takes approximately 90 minutes"
   ]
  },
  {
   "cell_type": "code",
   "execution_count": 13,
   "metadata": {},
   "outputs": [
    {
     "name": "stdout",
     "output_type": "stream",
     "text": [
      "\u001b[34mApplications\u001b[m\u001b[m      \u001b[34mMusic\u001b[m\u001b[m             \u001b[34manaconda2\u001b[m\u001b[m         \u001b[34morion\u001b[m\u001b[m\r\n",
      "\u001b[34mDesktop\u001b[m\u001b[m           \u001b[34mPictures\u001b[m\u001b[m          \u001b[34mgoogle-cloud-sdk\u001b[m\u001b[m  \u001b[35mp3envs\u001b[m\u001b[m\r\n",
      "\u001b[34mDocuments\u001b[m\u001b[m         \u001b[34mPublic\u001b[m\u001b[m            logfile           \u001b[34mprojects\u001b[m\u001b[m\r\n",
      "\u001b[34mDownloads\u001b[m\u001b[m         \u001b[34mSites\u001b[m\u001b[m             love.2017.CM.pckl \u001b[34mreverse\u001b[m\u001b[m\r\n",
      "\u001b[34mLibrary\u001b[m\u001b[m           Untitled.ipynb    \u001b[34mmltut\u001b[m\u001b[m             \u001b[34mtmp\u001b[m\u001b[m\r\n",
      "\u001b[34mMovies\u001b[m\u001b[m            \u001b[34mVirtualBox VMs\u001b[m\u001b[m    \u001b[34mnode_modules\u001b[m\u001b[m      \u001b[34mvenvs\u001b[m\u001b[m\r\n"
     ]
    }
   ],
   "source": [
    "\n",
    "\n",
    "import pickle\n",
    "\n",
    "for year in years:\n",
    "  for county in counties:\n",
    "    for type in types:      \n",
    "      cases=oscn.request.CaseList(type=type, year=year,county=county)\n",
    "      all_cases = [c for c in cases]\n",
    "      f = open(f'{county}.{year}.{type}.pckl', 'wb')\n",
    "      pickle.dump(all_cases, f)\n",
    "      f.close()"
   ]
  },
  {
   "cell_type": "markdown",
   "metadata": {},
   "source": [
    "### Step 2.  Retrieve the data from saved files"
   ]
  },
  {
   "cell_type": "code",
   "execution_count": 3,
   "metadata": {},
   "outputs": [
    {
     "name": "stdout",
     "output_type": "stream",
     "text": [
      "/Users/owner/projects/cft/oscn-notebooks/data/love.2017.CM.pckl\n",
      " added 785\n",
      "/Users/owner/projects/cft/oscn-notebooks/data/love.2017.CF.pckl\n",
      " added 305\n",
      "/Users/owner/projects/cft/oscn-notebooks/data/rogers.2017.CM.pckl\n",
      " added 1114\n",
      "/Users/owner/projects/cft/oscn-notebooks/data/rogers.2017.CF.pckl\n",
      " added 1060\n",
      "/Users/owner/projects/cft/oscn-notebooks/data/love.2018.CM.pckl\n",
      " added 552\n",
      "/Users/owner/projects/cft/oscn-notebooks/data/love.2018.CF.pckl\n",
      " added 197\n",
      "/Users/owner/projects/cft/oscn-notebooks/data/rogers.2018.CM.pckl\n",
      " added 853\n",
      "/Users/owner/projects/cft/oscn-notebooks/data/rogers.2018.CF.pckl\n",
      " added 534\n",
      "counted case: 5400 length saved 5400\n"
     ]
    }
   ],
   "source": [
    "\n",
    "\n",
    "import pickle\n",
    "\n",
    "\n",
    "\n",
    "saved_cases = []\n",
    "case_count =0 \n",
    "for year in years:\n",
    "  for county in counties:\n",
    "    for type in types:\n",
    "        file_name = f'/Users/owner/projects/cft/oscn-notebooks/data/{county}.{year}.{type}.pckl'\n",
    "        print(file_name)\n",
    "        new_cases = pickle.load(open(file_name, 'rb'))\n",
    "        new_case_count = len(new_cases)\n",
    "        case_count += new_case_count\n",
    "        print(f' added {new_case_count}')\n",
    "        saved_cases += new_cases\n",
    "        \n",
    "print(f'counted case: {case_count} length saved {len(saved_cases)}')\n"
   ]
  },
  {
   "cell_type": "markdown",
   "metadata": {},
   "source": [
    "### Step 3.  Load the data for analysis\n",
    "This takes about 8 minutes"
   ]
  },
  {
   "cell_type": "code",
   "execution_count": 5,
   "metadata": {},
   "outputs": [
    {
     "name": "stdout",
     "output_type": "stream",
     "text": [
      "CPU times: user 8min 4s, sys: 324 ms, total: 8min 5s\n",
      "Wall time: 8min 5s\n"
     ]
    }
   ],
   "source": [
    "import numpy as np\n",
    "\n",
    "import pandas as pd\n",
    "\n",
    "\n",
    "columns = ['Year','County','Type','Agency','Officer','Case Number']\n",
    "\n",
    "\n",
    "\n",
    "def agency(case):\n",
    "  agency_desc = 'ARRESTING AGENCY'\n",
    "  for p in case.parties:\n",
    "    if agency_desc in p['type']:\n",
    "      return p['name']\n",
    "  return 'UNKNOWN'\n",
    "\n",
    "def officer(case):\n",
    "  agency_desc = 'ARRESTING OFFICER'\n",
    "  for p in case.parties:\n",
    "    if agency_desc in p['type']:\n",
    "      return p['name']\n",
    "  return 'UNKNOWN'\n",
    "  \n",
    "case_data = lambda c: [c.year, c.county, c.type, agency(c), officer(c),  c.case_number ]\n",
    "%time df = pd.DataFrame([case_data(c) for c in saved_cases], columns = columns)"
   ]
  },
  {
   "cell_type": "code",
   "execution_count": 6,
   "metadata": {},
   "outputs": [
    {
     "data": {
      "text/plain": [
       "<matplotlib.axes._subplots.AxesSubplot at 0x1231ae9b0>"
      ]
     },
     "execution_count": 6,
     "metadata": {},
     "output_type": "execute_result"
    },
    {
     "data": {
      "image/png": "[encoded data removed]",
      "text/plain": [
       "<Figure size 360x360 with 1 Axes>"
      ]
     },
     "metadata": {},
     "output_type": "display_data"
    }
   ],
   "source": [
    "import numpy as np\n",
    "\n",
    "import pandas as pd\n",
    "import matplotlib.pyplot as plt\n",
    "\n",
    "\n",
    "\n",
    "df['Year'].value_counts()\n",
    "# df['Type'].value_counts()\n",
    "# df['Agency'].value_counts()\n",
    "# df.filter(like='LIGHTHORSE',axis=0)\n",
    "# qf = df.query(\"Type == 'CF'\")\n",
    "\n",
    "agency_group = df.groupby(['County','Type','Year'])['Agency'].value_counts().head(5)\n",
    "\n",
    "\n",
    "\n",
    "agency_group.plot.pie(y='Agency', figsize=(5, 5))\n"
   ]
  },
  {
   "cell_type": "code",
   "execution_count": null,
   "metadata": {},
   "outputs": [],
   "source": [
    "\n"
   ]
  }
 ],
 "metadata": {
  "kernelspec": {
   "display_name": "Python 3",
   "language": "python",
   "name": "python3"
  },
  "language_info": {
   "codemirror_mode": {
    "name": "ipython",
    "version": 3
   },
   "file_extension": ".py",
   "mimetype": "text/x-python",
   "name": "python",
   "nbconvert_exporter": "python",
   "pygments_lexer": "ipython3",
   "version": "3.6.5"
  }
 },
 "nbformat": 4,
 "nbformat_minor": 2
}
