{
  "nbformat": 4,
  "nbformat_minor": 0,
  "metadata": {
    "colab": {
      "name": "oscn example.ipynb",
      "version": "0.3.2",
      "provenance": [],
      "collapsed_sections": [],
      "include_colab_link": true
    },
    "kernelspec": {
      "name": "python3",
      "display_name": "Python 3"
    }
  },
  "cells": [
    {
      "cell_type": "markdown",
      "metadata": {
        "id": "view-in-github",
        "colab_type": "text"
      },
      "source": [
        "[View in Colaboratory](https://colab.research.google.com/github/jdungan/oscn-notebooks/blob/master/oscn_example.ipynb)"
      ]
    },
    {
      "metadata": {
        "id": "gfJ0Zh2cc3Dd",
        "colab_type": "code",
        "colab": {
          "base_uri": "https://localhost:8080/",
          "height": 139
        },
        "outputId": "bcecc1d5-d5a8-4d86-895a-07cd0e91ce28"
      },
      "cell_type": "code",
      "source": [
        "!pip install oscn\n",
        "import oscn\n"
      ],
      "execution_count": 6,
      "outputs": [
        {
          "output_type": "stream",
          "text": [
            "Requirement already satisfied: oscn in /usr/local/lib/python3.6/dist-packages (0.0.0.6)\r\n",
            "Requirement already satisfied: requests in /usr/local/lib/python3.6/dist-packages (from oscn) (2.18.4)\r\n",
            "Requirement already satisfied: beautifulsoup4 in /usr/local/lib/python3.6/dist-packages (from oscn) (4.6.1)\r\n",
            "Requirement already satisfied: chardet<3.1.0,>=3.0.2 in /usr/local/lib/python3.6/dist-packages (from requests->oscn) (3.0.4)\r\n",
            "Requirement already satisfied: idna<2.7,>=2.5 in /usr/local/lib/python3.6/dist-packages (from requests->oscn) (2.6)\r\n",
            "Requirement already satisfied: certifi>=2017.4.17 in /usr/local/lib/python3.6/dist-packages (from requests->oscn) (2018.4.16)\r\n",
            "Requirement already satisfied: urllib3<1.23,>=1.21.1 in /usr/local/lib/python3.6/dist-packages (from requests->oscn) (1.22)\r\n"
          ],
          "name": "stdout"
        }
      ]
    },
    {
      "metadata": {
        "id": "DUIHVR-tc_jK",
        "colab_type": "code",
        "colab": {
          "base_uri": "https://localhost:8080/",
          "height": 69
        },
        "outputId": "a7598fde-259d-441c-c152-3b444bca6aa4"
      },
      "cell_type": "code",
      "source": [
        "oscn.request.Case().parties"
      ],
      "execution_count": 11,
      "outputs": [
        {
          "output_type": "execute_result",
          "data": {
            "text/plain": [
              "[{'name': 'BROWN,\\xa0 GALON\\xa0 TERRELLE', 'type': 'Defendant'},\n",
              " {'name': 'STATE OF OKLAHOMA', 'type': 'Plaintiff'},\n",
              " {'name': 'Tulsa Police Department', 'type': 'ARRESTING AGENCY'}]"
            ]
          },
          "metadata": {
            "tags": []
          },
          "execution_count": 11
        }
      ]
    },
    {
      "metadata": {
        "id": "ZVLhNLZZdHKq",
        "colab_type": "code",
        "colab": {
          "base_uri": "https://localhost:8080/",
          "height": 208
        },
        "outputId": "18b036ab-a50c-44d0-e0f8-6becb515ee5e"
      },
      "cell_type": "code",
      "source": [
        "cases = oscn.request.CaseList(county='washington',year='2016',start=15, stop=25)\n",
        "for case in cases:\n",
        "  print(f'filed: {case.filed} closed:{case.closed}')\n"
      ],
      "execution_count": 16,
      "outputs": [
        {
          "output_type": "stream",
          "text": [
            "filed: 01/14/2016 closed:None\n",
            "filed: 01/14/2016 closed:None\n",
            "filed: 01/14/2016 closed:None\n",
            "filed: 01/14/2016 closed:None\n",
            "filed: 01/14/2016 closed:None\n",
            "filed: 01/15/2016 closed:None\n",
            "filed: 01/15/2016 closed:None\n",
            "filed: 01/19/2016 closed:None\n",
            "filed: 01/19/2016 closed:None\n",
            "filed: 01/20/2016 closed:None\n",
            "filed: 01/20/2016 closed:None\n"
          ],
          "name": "stdout"
        }
      ]
    },
    {
      "metadata": {
        "id": "MlOo9ypBIGxD",
        "colab_type": "code",
        "colab": {
          "base_uri": "https://localhost:8080/",
          "height": 52
        },
        "outputId": "ee43f1fa-02cc-4e0d-9920-e4131efd205c"
      },
      "cell_type": "code",
      "source": [
        "case = oscn.request.Case(county='adair', number=55)\n",
        "case.counts\n"
      ],
      "execution_count": 18,
      "outputs": [
        {
          "output_type": "execute_result",
          "data": {
            "text/plain": [
              "[{'description': 'UNLAWFUL POSSESSION OF CONTROLLED DANGEROUS DRUG WITH INTENT TO DISTRIBUTE,'},\n",
              " {'description': 'UNLAWFUL POSSESSION OF DRUG PARAPHERNALIA,'}]"
            ]
          },
          "metadata": {
            "tags": []
          },
          "execution_count": 18
        }
      ]
    },
    {
      "metadata": {
        "id": "2vpfOnzG0jKm",
        "colab_type": "code",
        "colab": {
          "base_uri": "https://localhost:8080/",
          "height": 52
        },
        "outputId": "feaf0797-a364-47da-b2b6-050ae7564c03"
      },
      "cell_type": "code",
      "source": [
        "case = oscn.request.Case(year='2013', county='cimarron', number=5)\n",
        "case.counts\n",
        "case.events\n"
      ],
      "execution_count": 23,
      "outputs": [
        {
          "output_type": "execute_result",
          "data": {
            "text/plain": [
              "[<oscn.parse.events.Event at 0x7ff9007bd940>,\n",
              " <oscn.parse.events.Event at 0x7ff9007bd978>]"
            ]
          },
          "metadata": {
            "tags": []
          },
          "execution_count": 23
        }
      ]
    },
    {
      "metadata": {
        "id": "aw5wAEzU039i",
        "colab_type": "code",
        "colab": {}
      },
      "cell_type": "code",
      "source": [
        ""
      ],
      "execution_count": 0,
      "outputs": []
    }
  ]
}