{
 "cells": [
  {
   "cell_type": "markdown",
   "metadata": {
    "colab_type": "text",
    "id": "r4YClOh81xIu"
   },
   "source": [
    "# Comparision of Pro Se cases by county"
   ]
  },
  {
   "cell_type": "markdown",
   "metadata": {
    "colab_type": "text",
    "id": "5LBBUqGyJQ8Q"
   },
   "source": [
    "### Set up environment"
   ]
  },
  {
   "cell_type": "code",
   "execution_count": 1,
   "metadata": {
    "colab": {
     "base_uri": "https://localhost:8080/",
     "height": 213
    },
    "colab_type": "code",
    "id": "bpG2zPdyJNtf",
    "outputId": "bc9f2919-8c18-4b9a-95eb-fa50eb13d21b"
   },
   "outputs": [
    {
     "name": "stdout",
     "output_type": "stream",
     "text": [
      "Requirement already satisfied: oscn==0.0.0.25 in /Users/owner/projects/cft/oscn (0.0.0.25)\n",
      "Requirement already satisfied: requests in /Users/owner/projects/python_envs/oscn/lib/python3.6/site-packages (from oscn==0.0.0.25) (2.19.1)\n",
      "Requirement already satisfied: beautifulsoup4 in /Users/owner/projects/python_envs/oscn/lib/python3.6/site-packages (from oscn==0.0.0.25) (4.6.0)\n",
      "Requirement already satisfied: urllib3<1.24,>=1.21.1 in /Users/owner/projects/python_envs/oscn/lib/python3.6/site-packages (from requests->oscn==0.0.0.25) (1.23)\n",
      "Requirement already satisfied: chardet<3.1.0,>=3.0.2 in /Users/owner/projects/python_envs/oscn/lib/python3.6/site-packages (from requests->oscn==0.0.0.25) (3.0.4)\n",
      "Requirement already satisfied: certifi>=2017.4.17 in /Users/owner/projects/python_envs/oscn/lib/python3.6/site-packages (from requests->oscn==0.0.0.25) (2018.4.16)\n",
      "Requirement already satisfied: idna<2.8,>=2.5 in /Users/owner/projects/python_envs/oscn/lib/python3.6/site-packages (from requests->oscn==0.0.0.25) (2.7)\n"
     ]
    }
   ],
   "source": [
    "!pip install oscn==0.0.0.25\n",
    "\n",
    "import oscn"
   ]
  },
  {
   "cell_type": "markdown",
   "metadata": {
    "colab_type": "text",
    "id": "SpYkP0g316dT"
   },
   "source": [
    "### Set up the OSCN information needed"
   ]
  },
  {
   "cell_type": "code",
   "execution_count": 2,
   "metadata": {
    "colab": {},
    "colab_type": "code",
    "id": "ePxYAgknPIYw"
   },
   "outputs": [],
   "source": [
    "\n",
    "years = ['2017','2018']\n",
    "counties = ['mayes', 'love','rogers','delaware']\n",
    "types =['CM','CF']"
   ]
  },
  {
   "cell_type": "markdown",
   "metadata": {},
   "source": [
    "### Request the cases from OSCN and save as files\n",
    "This takes a couple hours"
   ]
  },
  {
   "cell_type": "code",
   "execution_count": 28,
   "metadata": {
    "colab": {
     "base_uri": "https://localhost:8080/",
     "height": 623
    },
    "colab_type": "code",
    "id": "901XB5X2PLMQ",
    "outputId": "0a055488-40dd-4cd3-ce7e-6fbc8f3925e6"
   },
   "outputs": [
    {
     "name": "stdout",
     "output_type": "stream",
     "text": [
      "data/CF.mayes.2018.oscn: 270\n"
     ]
    }
   ],
   "source": [
    "import pickle\n",
    "\n",
    "\n",
    "for county in counties:\n",
    "  for year in years:\n",
    "    for type in types:      \n",
    "      cases=oscn.request.CaseList(type=type, year=year,county=county)\n",
    "      all_cases = [c for c in cases]\n",
    "      file_name = f'data/{type}.{county}.{year}.oscn'\n",
    "      f = open(file_name, 'wb')\n",
    "      pickle.dump(all_cases, f)\n",
    "      f.close()\n",
    "      print(f'{file_name}: {len(all_cases)}')\n"
   ]
  },
  {
   "cell_type": "markdown",
   "metadata": {},
   "source": [
    "### Retrieve the saved files"
   ]
  },
  {
   "cell_type": "code",
   "execution_count": 3,
   "metadata": {
    "colab": {
     "base_uri": "https://localhost:8080/",
     "height": 237
    },
    "colab_type": "code",
    "id": "qVsbnkB-1v6T",
    "outputId": "80d17652-1b74-4cc6-b8a6-6b611e3a1bfe"
   },
   "outputs": [
    {
     "name": "stdout",
     "output_type": "stream",
     "text": [
      "data/CM.mayes.2017.oscn added 632\n",
      "data/CF.mayes.2017.oscn added 425\n",
      "data/CM.mayes.2018.oscn added 371\n",
      "data/CF.mayes.2018.oscn added 270\n",
      "data/CM.love.2017.oscn added 767\n",
      "data/CF.love.2017.oscn added 305\n",
      "data/CM.love.2018.oscn added 565\n",
      "data/CF.love.2018.oscn added 204\n",
      "data/CM.rogers.2017.oscn added 1114\n",
      "data/CF.rogers.2017.oscn added 1060\n",
      "data/CM.rogers.2018.oscn added 884\n",
      "data/CF.rogers.2018.oscn added 555\n",
      "data/CM.delaware.2017.oscn added 936\n",
      "data/CF.delaware.2017.oscn added 439\n",
      "data/CM.delaware.2018.oscn added 713\n",
      "data/CF.delaware.2018.oscn added 337\n",
      "counted case: 9577 length saved 9577\n"
     ]
    }
   ],
   "source": [
    "import pickle\n",
    "\n",
    "\n",
    "saved_cases = []\n",
    "\n",
    "case_count =0 \n",
    "\n",
    "for county in counties:\n",
    "  for year in years:\n",
    "    for type in types:      \n",
    "      file_name = f'data/{type}.{county}.{year}.oscn'\n",
    "      new_cases = pickle.load(open(file_name, 'rb'))\n",
    "      new_case_count = len(new_cases)\n",
    "      case_count += new_case_count\n",
    "      print(f'{file_name} added {new_case_count}')\n",
    "      saved_cases += new_cases\n",
    "        \n",
    "print(f'counted case: {case_count} length saved {len(saved_cases)}')\n"
   ]
  },
  {
   "cell_type": "markdown",
   "metadata": {},
   "source": [
    "## Create a pandas dataframe"
   ]
  },
  {
   "cell_type": "code",
   "execution_count": 6,
   "metadata": {
    "colab": {
     "base_uri": "https://localhost:8080/",
     "height": 35
    },
    "colab_type": "code",
    "id": "gbDCRWzhxVSh",
    "outputId": "a61c3a75-95c9-4c5f-d15f-94a051809a45"
   },
   "outputs": [
    {
     "name": "stdout",
     "output_type": "stream",
     "text": [
      "CPU times: user 1min 10s, sys: 118 ms, total: 1min 10s\n",
      "Wall time: 1min 10s\n"
     ]
    }
   ],
   "source": [
    "import re\n",
    "import numpy as np\n",
    "import pandas as pd\n",
    "from datetime import datetime\n",
    "\n",
    "columns = ['Filed','County','Type','Judge','Case Number', 'Pro_Se','Source']\n",
    "\n",
    "# this function determines if a case is Pro Se or not\n",
    "pro_se_re = re.compile(r'(waive.*right.*attorney|represented.*pro se)', re.I | re.M)\n",
    "\n",
    "def is_pro_se(case):\n",
    "# First see if the Pro Se test is anywhere on the page to speed up processing\n",
    "    if pro_se_re.search(case.text):\n",
    "        if case.docket:\n",
    "            for minute in case.docket:\n",
    "                if pro_se_re.search(minute.description):\n",
    "                    return True\n",
    "    return False\n",
    "\n",
    "\n",
    "case_data = lambda c: [c.filed, c.county, c.type, oscn.parse.judge(c.text),  c.case_number, is_pro_se(c), c.source]\n",
    "%time all_cases = pd.DataFrame([case_data(c) for c in saved_cases], columns = columns)"
   ]
  },
  {
   "cell_type": "markdown",
   "metadata": {},
   "source": [
    "## Basic Reports"
   ]
  },
  {
   "cell_type": "code",
   "execution_count": 10,
   "metadata": {},
   "outputs": [
    {
     "data": {
      "text/html": [
       "<div>\n",
       "<style scoped>\n",
       "    .dataframe tbody tr th:only-of-type {\n",
       "        vertical-align: middle;\n",
       "    }\n",
       "\n",
       "    .dataframe tbody tr th {\n",
       "        vertical-align: top;\n",
       "    }\n",
       "\n",
       "    .dataframe thead th {\n",
       "        text-align: right;\n",
       "    }\n",
       "</style>\n",
       "<table border=\"1\" class=\"dataframe\">\n",
       "  <thead>\n",
       "    <tr style=\"text-align: right;\">\n",
       "      <th></th>\n",
       "      <th>Filed</th>\n",
       "      <th>County</th>\n",
       "      <th>Type</th>\n",
       "      <th>Judge</th>\n",
       "      <th>Case Number</th>\n",
       "      <th>Pro_Se</th>\n",
       "      <th>Source</th>\n",
       "      <th>FiledDate</th>\n",
       "    </tr>\n",
       "  </thead>\n",
       "  <tbody>\n",
       "    <tr>\n",
       "      <th>0</th>\n",
       "      <td>2017-01-03</td>\n",
       "      <td>mayes</td>\n",
       "      <td>CM</td>\n",
       "      <td>UNASSIGNED</td>\n",
       "      <td>CM-2017-1</td>\n",
       "      <td>False</td>\n",
       "      <td>https://www.oscn.net/dockets/GetCaseInformatio...</td>\n",
       "      <td>2017-01-03</td>\n",
       "    </tr>\n",
       "    <tr>\n",
       "      <th>1</th>\n",
       "      <td>2017-01-03</td>\n",
       "      <td>mayes</td>\n",
       "      <td>CM</td>\n",
       "      <td>UNASSIGNED</td>\n",
       "      <td>CM-2017-2</td>\n",
       "      <td>False</td>\n",
       "      <td>https://www.oscn.net/dockets/GetCaseInformatio...</td>\n",
       "      <td>2017-01-03</td>\n",
       "    </tr>\n",
       "    <tr>\n",
       "      <th>2</th>\n",
       "      <td>2017-01-04</td>\n",
       "      <td>mayes</td>\n",
       "      <td>CM</td>\n",
       "      <td>UNASSIGNED</td>\n",
       "      <td>CM-2017-3</td>\n",
       "      <td>False</td>\n",
       "      <td>https://www.oscn.net/dockets/GetCaseInformatio...</td>\n",
       "      <td>2017-01-04</td>\n",
       "    </tr>\n",
       "    <tr>\n",
       "      <th>3</th>\n",
       "      <td>2017-01-04</td>\n",
       "      <td>mayes</td>\n",
       "      <td>CM</td>\n",
       "      <td>UNASSIGNED</td>\n",
       "      <td>CM-2017-4</td>\n",
       "      <td>False</td>\n",
       "      <td>https://www.oscn.net/dockets/GetCaseInformatio...</td>\n",
       "      <td>2017-01-04</td>\n",
       "    </tr>\n",
       "    <tr>\n",
       "      <th>4</th>\n",
       "      <td>2017-01-04</td>\n",
       "      <td>mayes</td>\n",
       "      <td>CM</td>\n",
       "      <td>UNASSIGNED</td>\n",
       "      <td>CM-2017-5</td>\n",
       "      <td>False</td>\n",
       "      <td>https://www.oscn.net/dockets/GetCaseInformatio...</td>\n",
       "      <td>2017-01-04</td>\n",
       "    </tr>\n",
       "  </tbody>\n",
       "</table>\n",
       "</div>"
      ],
      "text/plain": [
       "       Filed County Type       Judge Case Number  Pro_Se  \\\n",
       "0 2017-01-03  mayes   CM  UNASSIGNED   CM-2017-1   False   \n",
       "1 2017-01-03  mayes   CM  UNASSIGNED   CM-2017-2   False   \n",
       "2 2017-01-04  mayes   CM  UNASSIGNED   CM-2017-3   False   \n",
       "3 2017-01-04  mayes   CM  UNASSIGNED   CM-2017-4   False   \n",
       "4 2017-01-04  mayes   CM  UNASSIGNED   CM-2017-5   False   \n",
       "\n",
       "                                              Source  FiledDate  \n",
       "0  https://www.oscn.net/dockets/GetCaseInformatio... 2017-01-03  \n",
       "1  https://www.oscn.net/dockets/GetCaseInformatio... 2017-01-03  \n",
       "2  https://www.oscn.net/dockets/GetCaseInformatio... 2017-01-04  \n",
       "3  https://www.oscn.net/dockets/GetCaseInformatio... 2017-01-04  \n",
       "4  https://www.oscn.net/dockets/GetCaseInformatio... 2017-01-04  "
      ]
     },
     "execution_count": 10,
     "metadata": {},
     "output_type": "execute_result"
    }
   ],
   "source": [
    "# convert the date from a string to a ptyhon DateTime type\n",
    "all_cases['FiledDate'] = pd.to_datetime(all_cases['Filed'])\n",
    "all_cases.head()\n"
   ]
  },
  {
   "cell_type": "markdown",
   "metadata": {},
   "source": [
    "### Count of all cases by county and type in 2017 and 2018"
   ]
  },
  {
   "cell_type": "code",
   "execution_count": 11,
   "metadata": {},
   "outputs": [
    {
     "data": {
      "text/plain": [
       "County    Type\n",
       "delaware  CM      1574\n",
       "          CF       851\n",
       "love      CM      1332\n",
       "          CF       509\n",
       "mayes     CM      1003\n",
       "          CF       695\n",
       "rogers    CM      1998\n",
       "          CF      1615\n",
       "Name: Type, dtype: int64"
      ]
     },
     "execution_count": 11,
     "metadata": {},
     "output_type": "execute_result"
    }
   ],
   "source": [
    "all_cases.groupby(['County'])['Type'].value_counts()"
   ]
  },
  {
   "cell_type": "markdown",
   "metadata": {},
   "source": [
    "### Count of Pro Se cases by county in 2018 and 2018"
   ]
  },
  {
   "cell_type": "code",
   "execution_count": 12,
   "metadata": {},
   "outputs": [
    {
     "data": {
      "text/plain": [
       "County    Pro_Se\n",
       "delaware  False     2117\n",
       "          True       308\n",
       "love      False     1841\n",
       "mayes     False     1698\n",
       "rogers    False     3596\n",
       "          True        17\n",
       "Name: Pro_Se, dtype: int64"
      ]
     },
     "execution_count": 12,
     "metadata": {},
     "output_type": "execute_result"
    }
   ],
   "source": [
    "all_cases.groupby(['County'])['Pro_Se'].value_counts()"
   ]
  },
  {
   "cell_type": "markdown",
   "metadata": {},
   "source": [
    "### Count of Pro Se cases by county, judge and type in 2018 and 2017\n"
   ]
  },
  {
   "cell_type": "code",
   "execution_count": 14,
   "metadata": {
    "colab": {},
    "colab_type": "code",
    "id": "Z7AAKuj8EGcq"
   },
   "outputs": [
    {
     "data": {
      "text/plain": [
       "County    Judge                Type\n",
       "delaware  DENNEY, BARRY        CM       15\n",
       "          HANEY, ROBERT G      CM       10\n",
       "          LITTLEFIELD, ALICIA  CM      259\n",
       "                               CF       11\n",
       "          UNASSIGNED           CM       13\n",
       "rogers    CROSSON, TERRELL S   CM        2\n",
       "          STEIDLEY, J          CF       15\n",
       "Name: Type, dtype: int64"
      ]
     },
     "execution_count": 14,
     "metadata": {},
     "output_type": "execute_result"
    }
   ],
   "source": [
    "pro_se_cases = all_cases.query(\"Pro_Se == True\")\n",
    "pro_se_cases.groupby(['County','Judge'])['Type'].value_counts()"
   ]
  },
  {
   "cell_type": "markdown",
   "metadata": {},
   "source": [
    "### Graph of Pro Se case count by judge in 2018 and 2017"
   ]
  },
  {
   "cell_type": "code",
   "execution_count": 16,
   "metadata": {
    "slideshow": {
     "slide_type": "slide"
    }
   },
   "outputs": [
    {
     "data": {
      "text/plain": [
       "<matplotlib.axes._subplots.AxesSubplot at 0x11d399c88>"
      ]
     },
     "execution_count": 16,
     "metadata": {},
     "output_type": "execute_result"
    },
    {
     "data": {
      "image/png": "[encoded data removed]",
      "text/plain": [
       "<Figure size 432x288 with 1 Axes>"
      ]
     },
     "metadata": {},
     "output_type": "display_data"
    }
   ],
   "source": [
    "import matplotlib.pyplot as plt\n",
    "pro_se_cases['Judge'].value_counts().plot.bar()"
   ]
  },
  {
   "cell_type": "markdown",
   "metadata": {},
   "source": [
    "### Case count by type, county, and judge in 2018 and 2017"
   ]
  },
  {
   "cell_type": "code",
   "execution_count": 17,
   "metadata": {},
   "outputs": [
    {
     "data": {
      "text/plain": [
       "County    Judge                Type\n",
       "delaware  DENNEY, BARRY        CM        78\n",
       "                               CF        67\n",
       "          HANEY, ROBERT G      CF        86\n",
       "                               CM        44\n",
       "          LITTLEFIELD, ALICIA  CM       942\n",
       "                               CF       577\n",
       "          UNASSIGNED           CM       510\n",
       "                               CF       121\n",
       "love      COPPEDGE, WALLACE    CF       139\n",
       "                               CM        94\n",
       "          CORBIN,  LAURA J     CM         2\n",
       "          HICKS,  TODD         CM      1214\n",
       "                               CF       364\n",
       "          JOHNSON,  GREG       CM         2\n",
       "                               CF         1\n",
       "          ROBERTS,  CHARLES E  CF         1\n",
       "                               CM         1\n",
       "          UNASSIGNED           CM        19\n",
       "                               CF         4\n",
       "mayes     MCBRIDE,  TERRY H    CF         1\n",
       "          UNASSIGNED           CM      1003\n",
       "                               CF       694\n",
       "rogers    CONDREN, SHEILA A    CF         1\n",
       "          CROSSON, TERRELL S   CM      1979\n",
       "          MCBRIDE, TERRY H     CM         1\n",
       "          STEIDLEY, J          CF      1612\n",
       "          UNASSIGNED           CM        18\n",
       "                               CF         2\n",
       "Name: Type, dtype: int64"
      ]
     },
     "execution_count": 17,
     "metadata": {},
     "output_type": "execute_result"
    }
   ],
   "source": [
    "all_cases.groupby(['County','Judge'])['Type'].value_counts()"
   ]
  },
  {
   "cell_type": "markdown",
   "metadata": {},
   "source": [
    "### Pro Se Cases by county, judge, and type in 2018 and 2017"
   ]
  },
  {
   "cell_type": "code",
   "execution_count": 18,
   "metadata": {},
   "outputs": [
    {
     "data": {
      "text/plain": [
       "County    Judge                Type\n",
       "delaware  DENNEY, BARRY        CM       15\n",
       "          HANEY, ROBERT G      CM       10\n",
       "          LITTLEFIELD, ALICIA  CM      259\n",
       "                               CF       11\n",
       "          UNASSIGNED           CM       13\n",
       "rogers    CROSSON, TERRELL S   CM        2\n",
       "          STEIDLEY, J          CF       15\n",
       "Name: Type, dtype: int64"
      ]
     },
     "execution_count": 18,
     "metadata": {},
     "output_type": "execute_result"
    }
   ],
   "source": [
    "pro_se_cases.groupby(['County','Judge'])['Type'].value_counts()"
   ]
  },
  {
   "cell_type": "markdown",
   "metadata": {},
   "source": [
    "### Percentage Pro Se by Year, County and Type"
   ]
  },
  {
   "cell_type": "code",
   "execution_count": 20,
   "metadata": {},
   "outputs": [
    {
     "data": {
      "text/plain": [
       "FiledDate  County    Type\n",
       "2017       delaware  CF       2.08\n",
       "                     CM      22.60\n",
       "           love      CF        NaN\n",
       "                     CM        NaN\n",
       "           mayes     CF        NaN\n",
       "                     CM        NaN\n",
       "           rogers    CF       1.32\n",
       "                     CM       0.18\n",
       "2018       delaware  CF       0.27\n",
       "                     CM      13.97\n",
       "           love      CF        NaN\n",
       "                     CM        NaN\n",
       "           mayes     CF        NaN\n",
       "                     CM        NaN\n",
       "           rogers    CF       0.18\n",
       "                     CM        NaN\n",
       "dtype: float64"
      ]
     },
     "execution_count": 20,
     "metadata": {},
     "output_type": "execute_result"
    }
   ],
   "source": [
    "year = all_cases.FiledDate.dt.to_period(\"Y\")\n",
    "\n",
    "groups = [year,'County','Type']\n",
    "round(pro_se_cases.groupby(groups).size()/all_cases.groupby(groups).size()*100,2)\n"
   ]
  },
  {
   "cell_type": "code",
   "execution_count": null,
   "metadata": {},
   "outputs": [],
   "source": []
  },
  {
   "cell_type": "markdown",
   "metadata": {},
   "source": [
    "### Percentage Pro Se by Year, Type, and Judge"
   ]
  },
  {
   "cell_type": "code",
   "execution_count": 21,
   "metadata": {
    "scrolled": true
   },
   "outputs": [
    {
     "data": {
      "text/plain": [
       "FiledDate  Type  Judge              \n",
       "2017       CF    CONDREN, SHEILA A        NaN\n",
       "                 COPPEDGE, WALLACE        NaN\n",
       "                 DENNEY, BARRY            NaN\n",
       "                 HANEY, ROBERT G          NaN\n",
       "                 HICKS,  TODD             NaN\n",
       "                 JOHNSON,  GREG           NaN\n",
       "                 LITTLEFIELD, ALICIA     2.78\n",
       "                 MCBRIDE,  TERRY H        NaN\n",
       "                 ROBERTS,  CHARLES E      NaN\n",
       "                 STEIDLEY, J             1.32\n",
       "                 UNASSIGNED               NaN\n",
       "           CM    COPPEDGE, WALLACE        NaN\n",
       "                 CROSSON, TERRELL S      0.18\n",
       "                 DENNEY, BARRY          23.08\n",
       "                 HANEY, ROBERT G        26.92\n",
       "                 HICKS,  TODD             NaN\n",
       "                 JOHNSON,  GREG           NaN\n",
       "                 LITTLEFIELD, ALICIA    30.58\n",
       "                 ROBERTS,  CHARLES E      NaN\n",
       "                 UNASSIGNED              0.90\n",
       "2018       CF    COPPEDGE, WALLACE        NaN\n",
       "                 DENNEY, BARRY            NaN\n",
       "                 HANEY, ROBERT G          NaN\n",
       "                 HICKS,  TODD             NaN\n",
       "                 LITTLEFIELD, ALICIA     0.46\n",
       "                 STEIDLEY, J             0.18\n",
       "                 UNASSIGNED               NaN\n",
       "           CM    COPPEDGE, WALLACE        NaN\n",
       "                 CORBIN,  LAURA J         NaN\n",
       "                 CROSSON, TERRELL S       NaN\n",
       "                 DENNEY, BARRY          15.38\n",
       "                 HANEY, ROBERT G        16.67\n",
       "                 HICKS,  TODD             NaN\n",
       "                 JOHNSON,  GREG           NaN\n",
       "                 LITTLEFIELD, ALICIA    22.50\n",
       "                 MCBRIDE, TERRY H         NaN\n",
       "                 UNASSIGNED              0.77\n",
       "dtype: float64"
      ]
     },
     "execution_count": 21,
     "metadata": {},
     "output_type": "execute_result"
    }
   ],
   "source": [
    "year = all_cases.FiledDate.dt.to_period(\"Y\")\n",
    "\n",
    "groups = [year,'Type','Judge']\n",
    "round(pro_se_cases.groupby(groups).size()/all_cases.groupby(groups).size()*100,2)\n"
   ]
  },
  {
   "cell_type": "markdown",
   "metadata": {},
   "source": [
    "### History of Percentage CM Pro Se cases in Delaware County\n",
    "### (January 2017 - August 2018)"
   ]
  },
  {
   "cell_type": "code",
   "execution_count": 36,
   "metadata": {},
   "outputs": [
    {
     "data": {
      "text/plain": [
       "<matplotlib.axes._subplots.AxesSubplot at 0x11d243278>"
      ]
     },
     "execution_count": 36,
     "metadata": {},
     "output_type": "execute_result"
    },
    {
     "data": {
      "image/png": "[encoded data removed]",
      "text/plain": [
       "<Figure size 432x288 with 1 Axes>"
      ]
     },
     "metadata": {},
     "output_type": "display_data"
    }
   ],
   "source": [
    "month = all_cases.FiledDate.dt.to_period(\"M\")\n",
    "\n",
    "delaware_cases = all_cases.query(\"County == 'delaware'\").query(\"Type == 'CM'\")\n",
    "delaware_pro_se_cases = delaware_cases.query(\"Pro_Se == True\")\n",
    "groups = [month]\n",
    "by_month=round(delaware_pro_se_cases.groupby(groups).size()/delaware_cases.groupby(groups).size()*100,2)\n",
    "by_month.plot.line()"
   ]
  },
  {
   "cell_type": "code",
   "execution_count": 49,
   "metadata": {},
   "outputs": [
    {
     "name": "stdout",
     "output_type": "stream",
     "text": [
      "https://www.oscn.net/dockets/GetCaseInformation.aspx?db=delaware&number=CM-2017-3\n",
      "https://www.oscn.net/dockets/GetCaseInformation.aspx?db=delaware&number=CM-2017-4\n",
      "https://www.oscn.net/dockets/GetCaseInformation.aspx?db=delaware&number=CM-2017-10\n",
      "https://www.oscn.net/dockets/GetCaseInformation.aspx?db=delaware&number=CM-2017-19\n",
      "https://www.oscn.net/dockets/GetCaseInformation.aspx?db=delaware&number=CM-2017-23\n",
      "https://www.oscn.net/dockets/GetCaseInformation.aspx?db=delaware&number=CM-2017-24\n",
      "https://www.oscn.net/dockets/GetCaseInformation.aspx?db=delaware&number=CM-2017-26\n",
      "https://www.oscn.net/dockets/GetCaseInformation.aspx?db=delaware&number=CM-2017-27\n",
      "https://www.oscn.net/dockets/GetCaseInformation.aspx?db=delaware&number=CM-2017-44\n",
      "https://www.oscn.net/dockets/GetCaseInformation.aspx?db=delaware&number=CM-2017-45\n",
      "https://www.oscn.net/dockets/GetCaseInformation.aspx?db=delaware&number=CM-2017-58\n",
      "https://www.oscn.net/dockets/GetCaseInformation.aspx?db=delaware&number=CM-2017-60\n",
      "https://www.oscn.net/dockets/GetCaseInformation.aspx?db=delaware&number=CM-2017-61\n",
      "https://www.oscn.net/dockets/GetCaseInformation.aspx?db=delaware&number=CM-2017-64\n",
      "https://www.oscn.net/dockets/GetCaseInformation.aspx?db=delaware&number=CM-2017-65\n",
      "https://www.oscn.net/dockets/GetCaseInformation.aspx?db=delaware&number=CM-2017-68\n",
      "https://www.oscn.net/dockets/GetCaseInformation.aspx?db=delaware&number=CM-2017-72\n",
      "https://www.oscn.net/dockets/GetCaseInformation.aspx?db=delaware&number=CM-2017-73\n",
      "https://www.oscn.net/dockets/GetCaseInformation.aspx?db=delaware&number=CM-2017-74\n",
      "https://www.oscn.net/dockets/GetCaseInformation.aspx?db=delaware&number=CM-2017-75\n",
      "https://www.oscn.net/dockets/GetCaseInformation.aspx?db=delaware&number=CM-2017-80\n",
      "https://www.oscn.net/dockets/GetCaseInformation.aspx?db=delaware&number=CM-2017-83\n",
      "https://www.oscn.net/dockets/GetCaseInformation.aspx?db=delaware&number=CM-2017-93\n",
      "https://www.oscn.net/dockets/GetCaseInformation.aspx?db=delaware&number=CM-2017-94\n",
      "https://www.oscn.net/dockets/GetCaseInformation.aspx?db=delaware&number=CM-2017-115\n",
      "https://www.oscn.net/dockets/GetCaseInformation.aspx?db=delaware&number=CM-2017-116\n",
      "https://www.oscn.net/dockets/GetCaseInformation.aspx?db=delaware&number=CM-2017-117\n",
      "https://www.oscn.net/dockets/GetCaseInformation.aspx?db=delaware&number=CM-2017-118\n",
      "https://www.oscn.net/dockets/GetCaseInformation.aspx?db=delaware&number=CM-2017-120\n",
      "https://www.oscn.net/dockets/GetCaseInformation.aspx?db=delaware&number=CM-2017-121\n",
      "https://www.oscn.net/dockets/GetCaseInformation.aspx?db=delaware&number=CM-2017-123\n",
      "https://www.oscn.net/dockets/GetCaseInformation.aspx?db=delaware&number=CM-2017-126\n",
      "https://www.oscn.net/dockets/GetCaseInformation.aspx?db=delaware&number=CM-2017-129\n",
      "https://www.oscn.net/dockets/GetCaseInformation.aspx?db=delaware&number=CM-2017-132\n",
      "https://www.oscn.net/dockets/GetCaseInformation.aspx?db=delaware&number=CM-2017-141\n",
      "https://www.oscn.net/dockets/GetCaseInformation.aspx?db=delaware&number=CM-2017-145\n",
      "https://www.oscn.net/dockets/GetCaseInformation.aspx?db=delaware&number=CM-2017-156\n",
      "https://www.oscn.net/dockets/GetCaseInformation.aspx?db=delaware&number=CM-2017-158\n",
      "https://www.oscn.net/dockets/GetCaseInformation.aspx?db=delaware&number=CM-2017-170\n",
      "https://www.oscn.net/dockets/GetCaseInformation.aspx?db=delaware&number=CM-2017-172\n",
      "https://www.oscn.net/dockets/GetCaseInformation.aspx?db=delaware&number=CM-2017-185\n",
      "https://www.oscn.net/dockets/GetCaseInformation.aspx?db=delaware&number=CM-2017-187\n",
      "https://www.oscn.net/dockets/GetCaseInformation.aspx?db=delaware&number=CM-2017-191\n",
      "https://www.oscn.net/dockets/GetCaseInformation.aspx?db=delaware&number=CM-2017-193\n",
      "https://www.oscn.net/dockets/GetCaseInformation.aspx?db=delaware&number=CM-2017-194\n",
      "https://www.oscn.net/dockets/GetCaseInformation.aspx?db=delaware&number=CM-2017-196\n",
      "https://www.oscn.net/dockets/GetCaseInformation.aspx?db=delaware&number=CM-2017-201\n",
      "https://www.oscn.net/dockets/GetCaseInformation.aspx?db=delaware&number=CM-2017-203\n",
      "https://www.oscn.net/dockets/GetCaseInformation.aspx?db=delaware&number=CM-2017-215\n",
      "https://www.oscn.net/dockets/GetCaseInformation.aspx?db=delaware&number=CM-2017-219\n",
      "https://www.oscn.net/dockets/GetCaseInformation.aspx?db=delaware&number=CM-2017-220\n",
      "https://www.oscn.net/dockets/GetCaseInformation.aspx?db=delaware&number=CM-2017-224\n",
      "https://www.oscn.net/dockets/GetCaseInformation.aspx?db=delaware&number=CM-2017-229\n",
      "https://www.oscn.net/dockets/GetCaseInformation.aspx?db=delaware&number=CM-2017-245\n",
      "https://www.oscn.net/dockets/GetCaseInformation.aspx?db=delaware&number=CM-2017-251\n",
      "https://www.oscn.net/dockets/GetCaseInformation.aspx?db=delaware&number=CM-2017-252\n",
      "https://www.oscn.net/dockets/GetCaseInformation.aspx?db=delaware&number=CM-2017-253\n",
      "https://www.oscn.net/dockets/GetCaseInformation.aspx?db=delaware&number=CM-2017-259\n",
      "https://www.oscn.net/dockets/GetCaseInformation.aspx?db=delaware&number=CM-2017-264\n",
      "https://www.oscn.net/dockets/GetCaseInformation.aspx?db=delaware&number=CM-2017-270\n",
      "https://www.oscn.net/dockets/GetCaseInformation.aspx?db=delaware&number=CM-2017-272\n",
      "https://www.oscn.net/dockets/GetCaseInformation.aspx?db=delaware&number=CM-2017-274\n",
      "https://www.oscn.net/dockets/GetCaseInformation.aspx?db=delaware&number=CM-2017-278\n",
      "https://www.oscn.net/dockets/GetCaseInformation.aspx?db=delaware&number=CM-2017-282\n",
      "https://www.oscn.net/dockets/GetCaseInformation.aspx?db=delaware&number=CM-2017-289\n",
      "https://www.oscn.net/dockets/GetCaseInformation.aspx?db=delaware&number=CM-2017-290\n",
      "https://www.oscn.net/dockets/GetCaseInformation.aspx?db=delaware&number=CM-2017-293\n",
      "https://www.oscn.net/dockets/GetCaseInformation.aspx?db=delaware&number=CM-2017-305\n",
      "https://www.oscn.net/dockets/GetCaseInformation.aspx?db=delaware&number=CM-2017-310\n",
      "https://www.oscn.net/dockets/GetCaseInformation.aspx?db=delaware&number=CM-2017-313\n",
      "https://www.oscn.net/dockets/GetCaseInformation.aspx?db=delaware&number=CM-2017-318\n",
      "https://www.oscn.net/dockets/GetCaseInformation.aspx?db=delaware&number=CM-2017-319\n",
      "https://www.oscn.net/dockets/GetCaseInformation.aspx?db=delaware&number=CM-2017-320\n",
      "https://www.oscn.net/dockets/GetCaseInformation.aspx?db=delaware&number=CM-2017-323\n",
      "https://www.oscn.net/dockets/GetCaseInformation.aspx?db=delaware&number=CM-2017-329\n",
      "https://www.oscn.net/dockets/GetCaseInformation.aspx?db=delaware&number=CM-2017-332\n",
      "https://www.oscn.net/dockets/GetCaseInformation.aspx?db=delaware&number=CM-2017-335\n",
      "https://www.oscn.net/dockets/GetCaseInformation.aspx?db=delaware&number=CM-2017-351\n",
      "https://www.oscn.net/dockets/GetCaseInformation.aspx?db=delaware&number=CM-2017-352\n",
      "https://www.oscn.net/dockets/GetCaseInformation.aspx?db=delaware&number=CM-2017-354\n",
      "https://www.oscn.net/dockets/GetCaseInformation.aspx?db=delaware&number=CM-2017-355\n",
      "https://www.oscn.net/dockets/GetCaseInformation.aspx?db=delaware&number=CM-2017-363\n",
      "https://www.oscn.net/dockets/GetCaseInformation.aspx?db=delaware&number=CM-2017-370\n",
      "https://www.oscn.net/dockets/GetCaseInformation.aspx?db=delaware&number=CM-2017-380\n",
      "https://www.oscn.net/dockets/GetCaseInformation.aspx?db=delaware&number=CM-2017-382\n",
      "https://www.oscn.net/dockets/GetCaseInformation.aspx?db=delaware&number=CM-2017-386\n",
      "https://www.oscn.net/dockets/GetCaseInformation.aspx?db=delaware&number=CM-2017-389\n",
      "https://www.oscn.net/dockets/GetCaseInformation.aspx?db=delaware&number=CM-2017-390\n",
      "https://www.oscn.net/dockets/GetCaseInformation.aspx?db=delaware&number=CM-2017-399\n",
      "https://www.oscn.net/dockets/GetCaseInformation.aspx?db=delaware&number=CM-2017-407\n",
      "https://www.oscn.net/dockets/GetCaseInformation.aspx?db=delaware&number=CM-2017-413\n",
      "https://www.oscn.net/dockets/GetCaseInformation.aspx?db=delaware&number=CM-2017-420\n",
      "https://www.oscn.net/dockets/GetCaseInformation.aspx?db=delaware&number=CM-2017-440\n",
      "https://www.oscn.net/dockets/GetCaseInformation.aspx?db=delaware&number=CM-2017-445\n",
      "https://www.oscn.net/dockets/GetCaseInformation.aspx?db=delaware&number=CM-2017-456\n",
      "https://www.oscn.net/dockets/GetCaseInformation.aspx?db=delaware&number=CM-2017-460\n",
      "https://www.oscn.net/dockets/GetCaseInformation.aspx?db=delaware&number=CM-2017-464\n",
      "https://www.oscn.net/dockets/GetCaseInformation.aspx?db=delaware&number=CM-2017-465\n",
      "https://www.oscn.net/dockets/GetCaseInformation.aspx?db=delaware&number=CM-2017-467\n",
      "https://www.oscn.net/dockets/GetCaseInformation.aspx?db=delaware&number=CM-2017-476\n",
      "https://www.oscn.net/dockets/GetCaseInformation.aspx?db=delaware&number=CM-2017-480\n",
      "https://www.oscn.net/dockets/GetCaseInformation.aspx?db=delaware&number=CM-2017-481\n",
      "https://www.oscn.net/dockets/GetCaseInformation.aspx?db=delaware&number=CM-2017-483\n",
      "https://www.oscn.net/dockets/GetCaseInformation.aspx?db=delaware&number=CM-2017-484\n",
      "https://www.oscn.net/dockets/GetCaseInformation.aspx?db=delaware&number=CM-2017-487\n",
      "https://www.oscn.net/dockets/GetCaseInformation.aspx?db=delaware&number=CM-2017-490\n",
      "https://www.oscn.net/dockets/GetCaseInformation.aspx?db=delaware&number=CM-2017-492\n",
      "https://www.oscn.net/dockets/GetCaseInformation.aspx?db=delaware&number=CM-2017-499\n",
      "https://www.oscn.net/dockets/GetCaseInformation.aspx?db=delaware&number=CM-2017-503\n",
      "https://www.oscn.net/dockets/GetCaseInformation.aspx?db=delaware&number=CM-2017-508\n",
      "https://www.oscn.net/dockets/GetCaseInformation.aspx?db=delaware&number=CM-2017-509\n",
      "https://www.oscn.net/dockets/GetCaseInformation.aspx?db=delaware&number=CM-2017-510\n",
      "https://www.oscn.net/dockets/GetCaseInformation.aspx?db=delaware&number=CM-2017-516\n",
      "https://www.oscn.net/dockets/GetCaseInformation.aspx?db=delaware&number=CM-2017-519\n",
      "https://www.oscn.net/dockets/GetCaseInformation.aspx?db=delaware&number=CM-2017-522\n",
      "https://www.oscn.net/dockets/GetCaseInformation.aspx?db=delaware&number=CM-2017-526\n",
      "https://www.oscn.net/dockets/GetCaseInformation.aspx?db=delaware&number=CM-2017-529\n",
      "https://www.oscn.net/dockets/GetCaseInformation.aspx?db=delaware&number=CM-2017-532\n",
      "https://www.oscn.net/dockets/GetCaseInformation.aspx?db=delaware&number=CM-2017-546\n",
      "https://www.oscn.net/dockets/GetCaseInformation.aspx?db=delaware&number=CM-2017-548\n",
      "https://www.oscn.net/dockets/GetCaseInformation.aspx?db=delaware&number=CM-2017-550\n",
      "https://www.oscn.net/dockets/GetCaseInformation.aspx?db=delaware&number=CM-2017-551\n",
      "https://www.oscn.net/dockets/GetCaseInformation.aspx?db=delaware&number=CM-2017-552\n",
      "https://www.oscn.net/dockets/GetCaseInformation.aspx?db=delaware&number=CM-2017-553\n",
      "https://www.oscn.net/dockets/GetCaseInformation.aspx?db=delaware&number=CM-2017-557\n",
      "https://www.oscn.net/dockets/GetCaseInformation.aspx?db=delaware&number=CM-2017-565\n",
      "https://www.oscn.net/dockets/GetCaseInformation.aspx?db=delaware&number=CM-2017-567\n",
      "https://www.oscn.net/dockets/GetCaseInformation.aspx?db=delaware&number=CM-2017-569\n",
      "https://www.oscn.net/dockets/GetCaseInformation.aspx?db=delaware&number=CM-2017-571\n",
      "https://www.oscn.net/dockets/GetCaseInformation.aspx?db=delaware&number=CM-2017-574\n",
      "https://www.oscn.net/dockets/GetCaseInformation.aspx?db=delaware&number=CM-2017-578\n",
      "https://www.oscn.net/dockets/GetCaseInformation.aspx?db=delaware&number=CM-2017-583\n",
      "https://www.oscn.net/dockets/GetCaseInformation.aspx?db=delaware&number=CM-2017-593\n",
      "https://www.oscn.net/dockets/GetCaseInformation.aspx?db=delaware&number=CM-2017-597\n",
      "https://www.oscn.net/dockets/GetCaseInformation.aspx?db=delaware&number=CM-2017-599\n",
      "https://www.oscn.net/dockets/GetCaseInformation.aspx?db=delaware&number=CM-2017-609\n",
      "https://www.oscn.net/dockets/GetCaseInformation.aspx?db=delaware&number=CM-2017-617\n",
      "https://www.oscn.net/dockets/GetCaseInformation.aspx?db=delaware&number=CM-2017-619\n",
      "https://www.oscn.net/dockets/GetCaseInformation.aspx?db=delaware&number=CM-2017-625\n",
      "https://www.oscn.net/dockets/GetCaseInformation.aspx?db=delaware&number=CM-2017-632\n",
      "https://www.oscn.net/dockets/GetCaseInformation.aspx?db=delaware&number=CM-2017-633\n",
      "https://www.oscn.net/dockets/GetCaseInformation.aspx?db=delaware&number=CM-2017-635\n",
      "https://www.oscn.net/dockets/GetCaseInformation.aspx?db=delaware&number=CM-2017-640\n",
      "https://www.oscn.net/dockets/GetCaseInformation.aspx?db=delaware&number=CM-2017-652\n",
      "https://www.oscn.net/dockets/GetCaseInformation.aspx?db=delaware&number=CM-2017-660\n",
      "https://www.oscn.net/dockets/GetCaseInformation.aspx?db=delaware&number=CM-2017-674\n",
      "https://www.oscn.net/dockets/GetCaseInformation.aspx?db=delaware&number=CM-2017-675\n",
      "https://www.oscn.net/dockets/GetCaseInformation.aspx?db=delaware&number=CM-2017-676\n",
      "https://www.oscn.net/dockets/GetCaseInformation.aspx?db=delaware&number=CM-2017-677\n",
      "https://www.oscn.net/dockets/GetCaseInformation.aspx?db=delaware&number=CM-2017-680\n",
      "https://www.oscn.net/dockets/GetCaseInformation.aspx?db=delaware&number=CM-2017-681\n",
      "https://www.oscn.net/dockets/GetCaseInformation.aspx?db=delaware&number=CM-2017-682\n",
      "https://www.oscn.net/dockets/GetCaseInformation.aspx?db=delaware&number=CM-2017-683\n",
      "https://www.oscn.net/dockets/GetCaseInformation.aspx?db=delaware&number=CM-2017-689\n",
      "https://www.oscn.net/dockets/GetCaseInformation.aspx?db=delaware&number=CM-2017-691\n",
      "https://www.oscn.net/dockets/GetCaseInformation.aspx?db=delaware&number=CM-2017-696\n",
      "https://www.oscn.net/dockets/GetCaseInformation.aspx?db=delaware&number=CM-2017-701\n",
      "https://www.oscn.net/dockets/GetCaseInformation.aspx?db=delaware&number=CM-2017-709\n",
      "https://www.oscn.net/dockets/GetCaseInformation.aspx?db=delaware&number=CM-2017-711\n",
      "https://www.oscn.net/dockets/GetCaseInformation.aspx?db=delaware&number=CM-2017-715\n",
      "https://www.oscn.net/dockets/GetCaseInformation.aspx?db=delaware&number=CM-2017-726\n",
      "https://www.oscn.net/dockets/GetCaseInformation.aspx?db=delaware&number=CM-2017-728\n",
      "https://www.oscn.net/dockets/GetCaseInformation.aspx?db=delaware&number=CM-2017-732\n",
      "https://www.oscn.net/dockets/GetCaseInformation.aspx?db=delaware&number=CM-2017-737\n",
      "https://www.oscn.net/dockets/GetCaseInformation.aspx?db=delaware&number=CM-2017-748\n",
      "https://www.oscn.net/dockets/GetCaseInformation.aspx?db=delaware&number=CM-2017-749\n",
      "https://www.oscn.net/dockets/GetCaseInformation.aspx?db=delaware&number=CM-2017-755\n",
      "https://www.oscn.net/dockets/GetCaseInformation.aspx?db=delaware&number=CM-2017-756\n",
      "https://www.oscn.net/dockets/GetCaseInformation.aspx?db=delaware&number=CM-2017-760\n",
      "https://www.oscn.net/dockets/GetCaseInformation.aspx?db=delaware&number=CM-2017-768\n",
      "https://www.oscn.net/dockets/GetCaseInformation.aspx?db=delaware&number=CM-2017-771\n",
      "https://www.oscn.net/dockets/GetCaseInformation.aspx?db=delaware&number=CM-2017-775\n",
      "https://www.oscn.net/dockets/GetCaseInformation.aspx?db=delaware&number=CM-2017-779\n",
      "https://www.oscn.net/dockets/GetCaseInformation.aspx?db=delaware&number=CM-2017-781\n",
      "https://www.oscn.net/dockets/GetCaseInformation.aspx?db=delaware&number=CM-2017-785\n",
      "https://www.oscn.net/dockets/GetCaseInformation.aspx?db=delaware&number=CM-2017-789\n",
      "https://www.oscn.net/dockets/GetCaseInformation.aspx?db=delaware&number=CM-2017-803\n",
      "https://www.oscn.net/dockets/GetCaseInformation.aspx?db=delaware&number=CM-2017-804\n",
      "https://www.oscn.net/dockets/GetCaseInformation.aspx?db=delaware&number=CM-2017-805\n",
      "https://www.oscn.net/dockets/GetCaseInformation.aspx?db=delaware&number=CM-2017-806\n",
      "https://www.oscn.net/dockets/GetCaseInformation.aspx?db=delaware&number=CM-2017-811\n",
      "https://www.oscn.net/dockets/GetCaseInformation.aspx?db=delaware&number=CM-2017-819\n",
      "https://www.oscn.net/dockets/GetCaseInformation.aspx?db=delaware&number=CM-2017-820\n",
      "https://www.oscn.net/dockets/GetCaseInformation.aspx?db=delaware&number=CM-2017-822\n",
      "https://www.oscn.net/dockets/GetCaseInformation.aspx?db=delaware&number=CM-2017-823\n",
      "https://www.oscn.net/dockets/GetCaseInformation.aspx?db=delaware&number=CM-2017-824\n",
      "https://www.oscn.net/dockets/GetCaseInformation.aspx?db=delaware&number=CM-2017-825\n",
      "https://www.oscn.net/dockets/GetCaseInformation.aspx?db=delaware&number=CM-2017-829\n",
      "https://www.oscn.net/dockets/GetCaseInformation.aspx?db=delaware&number=CM-2017-830\n",
      "https://www.oscn.net/dockets/GetCaseInformation.aspx?db=delaware&number=CM-2017-831\n",
      "https://www.oscn.net/dockets/GetCaseInformation.aspx?db=delaware&number=CM-2017-835\n",
      "https://www.oscn.net/dockets/GetCaseInformation.aspx?db=delaware&number=CM-2017-839\n",
      "https://www.oscn.net/dockets/GetCaseInformation.aspx?db=delaware&number=CM-2017-846\n",
      "https://www.oscn.net/dockets/GetCaseInformation.aspx?db=delaware&number=CM-2017-849\n",
      "https://www.oscn.net/dockets/GetCaseInformation.aspx?db=delaware&number=CM-2017-853\n",
      "https://www.oscn.net/dockets/GetCaseInformation.aspx?db=delaware&number=CM-2017-855\n",
      "https://www.oscn.net/dockets/GetCaseInformation.aspx?db=delaware&number=CM-2017-871\n",
      "https://www.oscn.net/dockets/GetCaseInformation.aspx?db=delaware&number=CM-2017-872\n",
      "https://www.oscn.net/dockets/GetCaseInformation.aspx?db=delaware&number=CM-2017-878\n",
      "https://www.oscn.net/dockets/GetCaseInformation.aspx?db=delaware&number=CM-2017-879\n",
      "https://www.oscn.net/dockets/GetCaseInformation.aspx?db=delaware&number=CM-2017-892\n",
      "https://www.oscn.net/dockets/GetCaseInformation.aspx?db=delaware&number=CM-2017-903\n",
      "https://www.oscn.net/dockets/GetCaseInformation.aspx?db=delaware&number=CM-2018-9\n",
      "https://www.oscn.net/dockets/GetCaseInformation.aspx?db=delaware&number=CM-2018-10\n",
      "https://www.oscn.net/dockets/GetCaseInformation.aspx?db=delaware&number=CM-2018-11\n",
      "https://www.oscn.net/dockets/GetCaseInformation.aspx?db=delaware&number=CM-2018-12\n",
      "https://www.oscn.net/dockets/GetCaseInformation.aspx?db=delaware&number=CM-2018-14\n",
      "https://www.oscn.net/dockets/GetCaseInformation.aspx?db=delaware&number=CM-2018-15\n",
      "https://www.oscn.net/dockets/GetCaseInformation.aspx?db=delaware&number=CM-2018-16\n",
      "https://www.oscn.net/dockets/GetCaseInformation.aspx?db=delaware&number=CM-2018-19\n",
      "https://www.oscn.net/dockets/GetCaseInformation.aspx?db=delaware&number=CM-2018-23\n",
      "https://www.oscn.net/dockets/GetCaseInformation.aspx?db=delaware&number=CM-2018-32\n",
      "https://www.oscn.net/dockets/GetCaseInformation.aspx?db=delaware&number=CM-2018-38\n",
      "https://www.oscn.net/dockets/GetCaseInformation.aspx?db=delaware&number=CM-2018-41\n",
      "https://www.oscn.net/dockets/GetCaseInformation.aspx?db=delaware&number=CM-2018-44\n",
      "https://www.oscn.net/dockets/GetCaseInformation.aspx?db=delaware&number=CM-2018-59\n",
      "https://www.oscn.net/dockets/GetCaseInformation.aspx?db=delaware&number=CM-2018-61\n",
      "https://www.oscn.net/dockets/GetCaseInformation.aspx?db=delaware&number=CM-2018-83\n",
      "https://www.oscn.net/dockets/GetCaseInformation.aspx?db=delaware&number=CM-2018-84\n",
      "https://www.oscn.net/dockets/GetCaseInformation.aspx?db=delaware&number=CM-2018-94\n",
      "https://www.oscn.net/dockets/GetCaseInformation.aspx?db=delaware&number=CM-2018-98\n",
      "https://www.oscn.net/dockets/GetCaseInformation.aspx?db=delaware&number=CM-2018-99\n",
      "https://www.oscn.net/dockets/GetCaseInformation.aspx?db=delaware&number=CM-2018-107\n",
      "https://www.oscn.net/dockets/GetCaseInformation.aspx?db=delaware&number=CM-2018-112\n",
      "https://www.oscn.net/dockets/GetCaseInformation.aspx?db=delaware&number=CM-2018-117\n",
      "https://www.oscn.net/dockets/GetCaseInformation.aspx?db=delaware&number=CM-2018-121\n",
      "https://www.oscn.net/dockets/GetCaseInformation.aspx?db=delaware&number=CM-2018-126\n",
      "https://www.oscn.net/dockets/GetCaseInformation.aspx?db=delaware&number=CM-2018-136\n",
      "https://www.oscn.net/dockets/GetCaseInformation.aspx?db=delaware&number=CM-2018-137\n",
      "https://www.oscn.net/dockets/GetCaseInformation.aspx?db=delaware&number=CM-2018-140\n",
      "https://www.oscn.net/dockets/GetCaseInformation.aspx?db=delaware&number=CM-2018-141\n",
      "https://www.oscn.net/dockets/GetCaseInformation.aspx?db=delaware&number=CM-2018-149\n",
      "https://www.oscn.net/dockets/GetCaseInformation.aspx?db=delaware&number=CM-2018-173\n",
      "https://www.oscn.net/dockets/GetCaseInformation.aspx?db=delaware&number=CM-2018-174\n",
      "https://www.oscn.net/dockets/GetCaseInformation.aspx?db=delaware&number=CM-2018-184\n",
      "https://www.oscn.net/dockets/GetCaseInformation.aspx?db=delaware&number=CM-2018-187\n",
      "https://www.oscn.net/dockets/GetCaseInformation.aspx?db=delaware&number=CM-2018-189\n",
      "https://www.oscn.net/dockets/GetCaseInformation.aspx?db=delaware&number=CM-2018-190\n",
      "https://www.oscn.net/dockets/GetCaseInformation.aspx?db=delaware&number=CM-2018-199\n",
      "https://www.oscn.net/dockets/GetCaseInformation.aspx?db=delaware&number=CM-2018-214\n",
      "https://www.oscn.net/dockets/GetCaseInformation.aspx?db=delaware&number=CM-2018-215\n",
      "https://www.oscn.net/dockets/GetCaseInformation.aspx?db=delaware&number=CM-2018-219\n",
      "https://www.oscn.net/dockets/GetCaseInformation.aspx?db=delaware&number=CM-2018-220\n",
      "https://www.oscn.net/dockets/GetCaseInformation.aspx?db=delaware&number=CM-2018-226\n",
      "https://www.oscn.net/dockets/GetCaseInformation.aspx?db=delaware&number=CM-2018-228\n",
      "https://www.oscn.net/dockets/GetCaseInformation.aspx?db=delaware&number=CM-2018-239\n",
      "https://www.oscn.net/dockets/GetCaseInformation.aspx?db=delaware&number=CM-2018-245\n",
      "https://www.oscn.net/dockets/GetCaseInformation.aspx?db=delaware&number=CM-2018-252\n",
      "https://www.oscn.net/dockets/GetCaseInformation.aspx?db=delaware&number=CM-2018-262\n",
      "https://www.oscn.net/dockets/GetCaseInformation.aspx?db=delaware&number=CM-2018-273\n",
      "https://www.oscn.net/dockets/GetCaseInformation.aspx?db=delaware&number=CM-2018-277\n",
      "https://www.oscn.net/dockets/GetCaseInformation.aspx?db=delaware&number=CM-2018-278\n",
      "https://www.oscn.net/dockets/GetCaseInformation.aspx?db=delaware&number=CM-2018-279\n",
      "https://www.oscn.net/dockets/GetCaseInformation.aspx?db=delaware&number=CM-2018-283\n",
      "https://www.oscn.net/dockets/GetCaseInformation.aspx?db=delaware&number=CM-2018-308\n",
      "https://www.oscn.net/dockets/GetCaseInformation.aspx?db=delaware&number=CM-2018-314\n",
      "https://www.oscn.net/dockets/GetCaseInformation.aspx?db=delaware&number=CM-2018-317\n",
      "https://www.oscn.net/dockets/GetCaseInformation.aspx?db=delaware&number=CM-2018-320\n",
      "https://www.oscn.net/dockets/GetCaseInformation.aspx?db=delaware&number=CM-2018-325\n",
      "https://www.oscn.net/dockets/GetCaseInformation.aspx?db=delaware&number=CM-2018-328\n",
      "https://www.oscn.net/dockets/GetCaseInformation.aspx?db=delaware&number=CM-2018-336\n",
      "https://www.oscn.net/dockets/GetCaseInformation.aspx?db=delaware&number=CM-2018-338\n",
      "https://www.oscn.net/dockets/GetCaseInformation.aspx?db=delaware&number=CM-2018-358\n",
      "https://www.oscn.net/dockets/GetCaseInformation.aspx?db=delaware&number=CM-2018-361\n",
      "https://www.oscn.net/dockets/GetCaseInformation.aspx?db=delaware&number=CM-2018-366\n",
      "https://www.oscn.net/dockets/GetCaseInformation.aspx?db=delaware&number=CM-2018-384\n",
      "https://www.oscn.net/dockets/GetCaseInformation.aspx?db=delaware&number=CM-2018-412\n",
      "https://www.oscn.net/dockets/GetCaseInformation.aspx?db=delaware&number=CM-2018-423\n",
      "https://www.oscn.net/dockets/GetCaseInformation.aspx?db=delaware&number=CM-2018-425\n",
      "https://www.oscn.net/dockets/GetCaseInformation.aspx?db=delaware&number=CM-2018-427\n",
      "https://www.oscn.net/dockets/GetCaseInformation.aspx?db=delaware&number=CM-2018-440\n",
      "https://www.oscn.net/dockets/GetCaseInformation.aspx?db=delaware&number=CM-2018-448\n",
      "https://www.oscn.net/dockets/GetCaseInformation.aspx?db=delaware&number=CM-2018-453\n",
      "https://www.oscn.net/dockets/GetCaseInformation.aspx?db=delaware&number=CM-2018-461\n",
      "https://www.oscn.net/dockets/GetCaseInformation.aspx?db=delaware&number=CM-2018-463\n",
      "https://www.oscn.net/dockets/GetCaseInformation.aspx?db=delaware&number=CM-2018-469\n",
      "https://www.oscn.net/dockets/GetCaseInformation.aspx?db=delaware&number=CM-2018-470\n",
      "https://www.oscn.net/dockets/GetCaseInformation.aspx?db=delaware&number=CM-2018-477\n",
      "https://www.oscn.net/dockets/GetCaseInformation.aspx?db=delaware&number=CM-2018-482\n",
      "https://www.oscn.net/dockets/GetCaseInformation.aspx?db=delaware&number=CM-2018-485\n",
      "https://www.oscn.net/dockets/GetCaseInformation.aspx?db=delaware&number=CM-2018-497\n",
      "https://www.oscn.net/dockets/GetCaseInformation.aspx?db=delaware&number=CM-2018-501\n",
      "https://www.oscn.net/dockets/GetCaseInformation.aspx?db=delaware&number=CM-2018-504\n",
      "https://www.oscn.net/dockets/GetCaseInformation.aspx?db=delaware&number=CM-2018-511\n",
      "https://www.oscn.net/dockets/GetCaseInformation.aspx?db=delaware&number=CM-2018-512\n",
      "https://www.oscn.net/dockets/GetCaseInformation.aspx?db=delaware&number=CM-2018-514\n",
      "https://www.oscn.net/dockets/GetCaseInformation.aspx?db=delaware&number=CM-2018-532\n",
      "https://www.oscn.net/dockets/GetCaseInformation.aspx?db=delaware&number=CM-2018-541\n",
      "https://www.oscn.net/dockets/GetCaseInformation.aspx?db=delaware&number=CM-2018-565\n",
      "https://www.oscn.net/dockets/GetCaseInformation.aspx?db=delaware&number=CM-2018-576\n",
      "https://www.oscn.net/dockets/GetCaseInformation.aspx?db=delaware&number=CM-2018-579\n",
      "https://www.oscn.net/dockets/GetCaseInformation.aspx?db=delaware&number=CM-2018-580\n",
      "https://www.oscn.net/dockets/GetCaseInformation.aspx?db=delaware&number=CM-2018-582\n",
      "https://www.oscn.net/dockets/GetCaseInformation.aspx?db=delaware&number=CM-2018-594\n",
      "https://www.oscn.net/dockets/GetCaseInformation.aspx?db=delaware&number=CM-2018-640\n",
      "https://www.oscn.net/dockets/GetCaseInformation.aspx?db=delaware&number=CM-2018-663\n",
      "https://www.oscn.net/dockets/GetCaseInformation.aspx?db=delaware&number=CM-2018-669\n"
     ]
    }
   ],
   "source": [
    "for source in delaware_pro_se_cases['Source']:\n",
    "    print(source)"
   ]
  },
  {
   "cell_type": "code",
   "execution_count": null,
   "metadata": {},
   "outputs": [],
   "source": []
  }
 ],
 "metadata": {
  "colab": {
   "name": "delaware county pro se.ipynb",
   "provenance": [],
   "toc_visible": true,
   "version": "0.3.2"
  },
  "kernelspec": {
   "display_name": "Python 3",
   "language": "python",
   "name": "python3"
  },
  "language_info": {
   "codemirror_mode": {
    "name": "ipython",
    "version": 3
   },
   "file_extension": ".py",
   "mimetype": "text/x-python",
   "name": "python",
   "nbconvert_exporter": "python",
   "pygments_lexer": "ipython3",
   "version": "3.6.5"
  }
 },
 "nbformat": 4,
 "nbformat_minor": 1
}
