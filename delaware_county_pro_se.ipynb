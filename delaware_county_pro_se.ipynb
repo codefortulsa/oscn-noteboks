{
  "nbformat": 4,
  "nbformat_minor": 0,
  "metadata": {
    "colab": {
      "name": "delaware county pro se.ipynb",
      "version": "0.3.2",
      "provenance": [],
      "toc_visible": true,
      "include_colab_link": true
    },
    "kernelspec": {
      "name": "python3",
      "display_name": "Python 3"
    }
  },
  "cells": [
    {
      "cell_type": "markdown",
      "metadata": {
        "id": "view-in-github",
        "colab_type": "text"
      },
      "source": [
        "[View in Colaboratory](https://colab.research.google.com/github/jdungan/oscn-notebooks/blob/master/delaware_county_pro_se.ipynb)"
      ]
    },
    {
      "metadata": {
        "id": "r4YClOh81xIu",
        "colab_type": "text"
      },
      "cell_type": "markdown",
      "source": [
        "# **Pro Se Cases in Delaware County**"
      ]
    },
    {
      "metadata": {
        "id": "5LBBUqGyJQ8Q",
        "colab_type": "text"
      },
      "cell_type": "markdown",
      "source": [
        "### Set up environment"
      ]
    },
    {
      "metadata": {
        "id": "bpG2zPdyJNtf",
        "colab_type": "code",
        "colab": {
          "base_uri": "https://localhost:8080/",
          "height": 213
        },
        "outputId": "06717265-238e-4d21-eda2-9f1b25426fa3"
      },
      "cell_type": "code",
      "source": [
        "!pip install oscn==0.0.0.16\n",
        "\n",
        "import oscn"
      ],
      "execution_count": 1,
      "outputs": [
        {
          "output_type": "stream",
          "text": [
            "Collecting oscn==0.0.0.16\n",
            "  Downloading https://files.pythonhosted.org/packages/71/0e/615c84790c678aeb39197cc730400fd97fe97b60b405d719c3a9f4995f13/oscn-0.0.0.16-py3-none-any.whl\n",
            "Requirement already satisfied: requests in /usr/local/lib/python3.6/dist-packages (from oscn==0.0.0.16) (2.18.4)\n",
            "Requirement already satisfied: beautifulsoup4 in /usr/local/lib/python3.6/dist-packages (from oscn==0.0.0.16) (4.6.3)\n",
            "Requirement already satisfied: idna<2.7,>=2.5 in /usr/local/lib/python3.6/dist-packages (from requests->oscn==0.0.0.16) (2.6)\n",
            "Requirement already satisfied: urllib3<1.23,>=1.21.1 in /usr/local/lib/python3.6/dist-packages (from requests->oscn==0.0.0.16) (1.22)\n",
            "Requirement already satisfied: chardet<3.1.0,>=3.0.2 in /usr/local/lib/python3.6/dist-packages (from requests->oscn==0.0.0.16) (3.0.4)\n",
            "Requirement already satisfied: certifi>=2017.4.17 in /usr/local/lib/python3.6/dist-packages (from requests->oscn==0.0.0.16) (2018.8.13)\n",
            "Installing collected packages: oscn\n",
            "Successfully installed oscn-0.0.0.16\n"
          ],
          "name": "stdout"
        }
      ]
    },
    {
      "metadata": {
        "id": "SpYkP0g316dT",
        "colab_type": "text"
      },
      "cell_type": "markdown",
      "source": [
        "### Step 1.  Collect all CM and CF cases in Delaware county in 2017 and 2018"
      ]
    },
    {
      "metadata": {
        "id": "HJKxeJg2OB5W",
        "colab_type": "code",
        "colab": {
          "base_uri": "https://localhost:8080/",
          "height": 52
        },
        "outputId": "c0a7e5a8-e83a-4260-ae04-7bcc6fe46459"
      },
      "cell_type": "code",
      "source": [
        "\n",
        "\n",
        "cases = oscn.request.CaseList(county='delaware', year=['2017','2018'])\n",
        "\n",
        "all_cases = list(cases)\n",
        "\n",
        "%store all_cases\n",
        "\n",
        "print(f'ALL cases: {len(all_cases)}')\n"
      ],
      "execution_count": 2,
      "outputs": [
        {
          "output_type": "stream",
          "text": [
            "Stored 'all_cases' (list)\n",
            "ALL dockets: 12\n"
          ],
          "name": "stdout"
        }
      ]
    },
    {
      "metadata": {
        "id": "qVsbnkB-1v6T",
        "colab_type": "code",
        "colab": {
          "base_uri": "https://localhost:8080/",
          "height": 52
        },
        "outputId": "07866705-08c1-44bc-f872-4c125788efca"
      },
      "cell_type": "code",
      "source": [
        "print(all_cases[0].case_number)\n",
        "print(all_cases[11].case_number)"
      ],
      "execution_count": 4,
      "outputs": [
        {
          "output_type": "stream",
          "text": [
            "CF-2017-1\n",
            "CM-2018-3\n"
          ],
          "name": "stdout"
        }
      ]
    },
    {
      "metadata": {
        "id": "CIqvWd132fQ_",
        "colab_type": "text"
      },
      "cell_type": "markdown",
      "source": [
        "### Step 2.  Find all pro se cases"
      ]
    },
    {
      "metadata": {
        "id": "tqLRNIxFqbGQ",
        "colab_type": "code",
        "colab": {
          "base_uri": "https://localhost:8080/",
          "height": 52
        },
        "outputId": "28212dd5-16f4-41d5-9850-ea24503776b5"
      },
      "cell_type": "code",
      "source": [
        "\n",
        "\n",
        "import re\n",
        "\n",
        "def is_pro_se(docket):\n",
        "  pro_se_re = re.compile(r'waive.*right.*attorney', re.IGNORECASE) \n",
        "  if docket: \n",
        "    for event in docket:\n",
        "      if pro_se_re.match(event.Description):\n",
        "        return True\n",
        "  return False\n",
        "\n",
        "\n",
        "pro_se_cases =[]\n",
        "\n",
        "for case in all_cases:\n",
        "  if is_pro_se(case.docket):\n",
        "    pro_se_cases.append(case)\n",
        "\n",
        "    \n",
        "print(f'pro se cases: {len(pro_se_cases)}')    \n",
        "print(f'all cases: {len(all_cases)}')\n",
        "  \n",
        "  "
      ],
      "execution_count": 7,
      "outputs": [
        {
          "output_type": "stream",
          "text": [
            "pro se cases: 1\n",
            "all cases: 12\n"
          ],
          "name": "stdout"
        }
      ]
    },
    {
      "metadata": {
        "id": "gbDCRWzhxVSh",
        "colab_type": "code",
        "colab": {}
      },
      "cell_type": "code",
      "source": [
        ""
      ],
      "execution_count": 0,
      "outputs": []
    }
  ]
}