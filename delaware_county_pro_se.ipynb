{
  "nbformat": 4,
  "nbformat_minor": 0,
  "metadata": {
    "colab": {
      "name": "delaware county pro se.ipynb",
      "version": "0.3.2",
      "provenance": [],
      "toc_visible": true,
      "include_colab_link": true
    },
    "kernelspec": {
      "name": "python3",
      "display_name": "Python 3"
    }
  },
  "cells": [
    {
      "cell_type": "markdown",
      "metadata": {
        "id": "view-in-github",
        "colab_type": "text"
      },
      "source": [
        "[View in Colaboratory](https://colab.research.google.com/github/jdungan/oscn-notebooks/blob/master/delaware_county_pro_se.ipynb)"
      ]
    },
    {
      "metadata": {
        "id": "r4YClOh81xIu",
        "colab_type": "text"
      },
      "cell_type": "markdown",
      "source": [
        "# **Pro Se Cases in Delaware County**"
      ]
    },
    {
      "metadata": {
        "id": "5LBBUqGyJQ8Q",
        "colab_type": "text"
      },
      "cell_type": "markdown",
      "source": [
        "### Set up environment"
      ]
    },
    {
      "metadata": {
        "id": "bpG2zPdyJNtf",
        "colab_type": "code",
        "colab": {
          "base_uri": "https://localhost:8080/",
          "height": 160
        },
        "outputId": "04a846e5-79d9-44b0-e595-eb9e9493501b"
      },
      "cell_type": "code",
      "source": [
        "!pip install oscn==0.0.0.13\n",
        "\n",
        "import oscn"
      ],
      "execution_count": 2,
      "outputs": [
        {
          "output_type": "stream",
          "text": [
            "Requirement already satisfied: oscn==0.0.0.13 in /usr/local/lib/python3.6/dist-packages (0.0.0.13)\r\n",
            "Requirement already satisfied: beautifulsoup4 in /usr/local/lib/python3.6/dist-packages (from oscn==0.0.0.13) (4.6.1)\r\n",
            "Requirement already satisfied: requests in /usr/local/lib/python3.6/dist-packages (from oscn==0.0.0.13) (2.18.4)\r\n",
            "Requirement already satisfied: idna<2.7,>=2.5 in /usr/local/lib/python3.6/dist-packages (from requests->oscn==0.0.0.13) (2.6)\r\n",
            "Requirement already satisfied: urllib3<1.23,>=1.21.1 in /usr/local/lib/python3.6/dist-packages (from requests->oscn==0.0.0.13) (1.22)\n",
            "Requirement already satisfied: chardet<3.1.0,>=3.0.2 in /usr/local/lib/python3.6/dist-packages (from requests->oscn==0.0.0.13) (3.0.4)\n",
            "Requirement already satisfied: certifi>=2017.4.17 in /usr/local/lib/python3.6/dist-packages (from requests->oscn==0.0.0.13) (2018.4.16)\n"
          ],
          "name": "stdout"
        }
      ]
    },
    {
      "metadata": {
        "id": "SpYkP0g316dT",
        "colab_type": "text"
      },
      "cell_type": "markdown",
      "source": [
        "### Step 1.  Collect all CM and CF cases in Delaware county in 2017 and 2018"
      ]
    },
    {
      "metadata": {
        "id": "HJKxeJg2OB5W",
        "colab_type": "code",
        "colab": {
          "base_uri": "https://localhost:8080/",
          "height": 87
        },
        "outputId": "3a876e20-3807-4ef6-d5eb-9a7e7d60dd98"
      },
      "cell_type": "code",
      "source": [
        "\n",
        "\n",
        "cm_cases = oscn.request.CaseList(type='CM', county='delaware', year=['2017','2018'])\n",
        "cf_cases = oscn.request.CaseList(type=\"CF\", county='delaware', year=['2017','2018'])\n",
        "\n",
        "case_details = lambda case:{'county': case.county, 'case_number':case.case_number, 'docket': case.docket}\n",
        "    \n",
        "cm_dockets = [case_details(c) for c in cm_cases]\n",
        "cf_dockets = [case_details(c) for c in cf_cases]\n",
        "\n",
        "all_dockets = cm_dockets + cf_dockets\n",
        "\n",
        "%store all_dockets\n",
        "\n",
        "print(f'CM dockets: {len(cm_dockets)}')\n",
        "print(f'CF dockets: {len(cf_dockets)}')\n",
        "print(f'ALL dockets: {len(all_dockets)}')\n"
      ],
      "execution_count": 3,
      "outputs": [
        {
          "output_type": "stream",
          "text": [
            "Stored 'all_dockets' (list)\n",
            "CM dockets: 1577\n",
            "CF dockets: 661\n",
            "ALL dockets: 2238\n"
          ],
          "name": "stdout"
        }
      ]
    },
    {
      "metadata": {
        "id": "CIqvWd132fQ_",
        "colab_type": "text"
      },
      "cell_type": "markdown",
      "source": [
        "### Step 2.  Find all pro se cases"
      ]
    },
    {
      "metadata": {
        "id": "tqLRNIxFqbGQ",
        "colab_type": "code",
        "colab": {
          "base_uri": "https://localhost:8080/",
          "height": 52
        },
        "outputId": "fb7929b2-dcc2-4a77-e295-6185f535e8a9"
      },
      "cell_type": "code",
      "source": [
        "\n",
        "\n",
        "import re\n",
        "\n",
        "def is_pro_se(docket):\n",
        "  pro_se_re = re.compile(r'waive.*right.*attorney', re.IGNORECASE) \n",
        "  if docket: \n",
        "    for event in docket:\n",
        "      if pro_se_re.match(event.Description):\n",
        "        return True\n",
        "  return False\n",
        "\n",
        "\n",
        "pro_se_cases =[]\n",
        "\n",
        "for case in all_dockets:\n",
        "  if is_pro_se(case['docket']):\n",
        "    pro_se_cases.append(case)\n",
        "\n",
        "    \n",
        "print(f'pro se cases: {len(pro_se_cases)}')    \n",
        "print(f'all cases: {len(all_dockets)}')\n",
        "  \n",
        "  "
      ],
      "execution_count": 4,
      "outputs": [
        {
          "output_type": "stream",
          "text": [
            "pro se cases: 294\n",
            "all cases: 2238\n"
          ],
          "name": "stdout"
        }
      ]
    },
    {
      "metadata": {
        "id": "gbDCRWzhxVSh",
        "colab_type": "code",
        "colab": {}
      },
      "cell_type": "code",
      "source": [
        ""
      ],
      "execution_count": 0,
      "outputs": []
    }
  ]
}