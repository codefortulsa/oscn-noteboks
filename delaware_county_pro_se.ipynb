{
  "nbformat": 4,
  "nbformat_minor": 0,
  "metadata": {
    "colab": {
      "name": "delaware county pro se.ipynb",
      "version": "0.3.2",
      "provenance": [],
      "toc_visible": true,
      "include_colab_link": true
    },
    "kernelspec": {
      "name": "python3",
      "display_name": "Python 3"
    }
  },
  "cells": [
    {
      "cell_type": "markdown",
      "metadata": {
        "id": "view-in-github",
        "colab_type": "text"
      },
      "source": [
        "[View in Colaboratory](https://colab.research.google.com/github/jdungan/oscn-notebooks/blob/master/delaware_county_pro_se.ipynb)"
      ]
    },
    {
      "metadata": {
        "id": "r4YClOh81xIu",
        "colab_type": "text"
      },
      "cell_type": "markdown",
      "source": [
        "# **Pro Se Cases in Delaware County**"
      ]
    },
    {
      "metadata": {
        "id": "5LBBUqGyJQ8Q",
        "colab_type": "text"
      },
      "cell_type": "markdown",
      "source": [
        "### Set up environment"
      ]
    },
    {
      "metadata": {
        "id": "bpG2zPdyJNtf",
        "colab_type": "code",
        "colab": {
          "base_uri": "https://localhost:8080/",
          "height": 215
        },
        "outputId": "bc1d1d3c-3f72-4b51-f09f-38299b4edce9"
      },
      "cell_type": "code",
      "source": [
        "!pip install oscn\n",
        "\n",
        "import oscn"
      ],
      "execution_count": 3,
      "outputs": [
        {
          "output_type": "stream",
          "text": [
            "Collecting oscn\n",
            "  Downloading https://files.pythonhosted.org/packages/3d/6b/7a008af616f5adfe163af6ed30efc6cd60d1b1a7be1bf0e5c129abac1e6b/oscn-0.0.0.9-py3-none-any.whl\n",
            "Requirement already satisfied: beautifulsoup4 in /usr/local/lib/python3.6/dist-packages (from oscn) (4.6.1)\n",
            "Requirement already satisfied: requests in /usr/local/lib/python3.6/dist-packages (from oscn) (2.18.4)\n",
            "Requirement already satisfied: certifi>=2017.4.17 in /usr/local/lib/python3.6/dist-packages (from requests->oscn) (2018.4.16)\n",
            "Requirement already satisfied: urllib3<1.23,>=1.21.1 in /usr/local/lib/python3.6/dist-packages (from requests->oscn) (1.22)\n",
            "Requirement already satisfied: chardet<3.1.0,>=3.0.2 in /usr/local/lib/python3.6/dist-packages (from requests->oscn) (3.0.4)\n",
            "Requirement already satisfied: idna<2.7,>=2.5 in /usr/local/lib/python3.6/dist-packages (from requests->oscn) (2.6)\n",
            "Installing collected packages: oscn\n",
            "Successfully installed oscn-0.0.0.9\n"
          ],
          "name": "stdout"
        }
      ]
    },
    {
      "metadata": {
        "id": "SpYkP0g316dT",
        "colab_type": "text"
      },
      "cell_type": "markdown",
      "source": [
        "### Step 1.  Collect all CM and CF cases in Delaware county in 2017 and 2018"
      ]
    },
    {
      "metadata": {
        "id": "HJKxeJg2OB5W",
        "colab_type": "code",
        "colab": {
          "base_uri": "https://localhost:8080/",
          "height": 70
        },
        "outputId": "52c4bff3-bfc1-48d7-81fe-5d3c7c98eb82"
      },
      "cell_type": "code",
      "source": [
        "\n",
        "\n",
        "cm_cases = oscn.request.CaseList(type='CM', county='delaware', year=['2017','2018'])\n",
        "cf_cases = oscn.request.CaseList(type=\"CF\", county='delaware', year=['2017','2018'])\n",
        "\n",
        "case_details = lambda case:{'case_number':case.case_number, 'docket': case.docket}\n",
        "    \n",
        "cm_dockets = [case_details(c) for c in cm_cases]\n",
        "cf_dockets = [case_details(c) for c in cf_cases]\n",
        "\n",
        "all_dockets = cm_dockets + cf_dockets\n",
        "\n",
        "print(f'CM dockets: {len(cm_dockets)}')\n",
        "print(f'CF dockets: {len(cf_dockets)}')\n",
        "print(f'ALL dockets: {len(all_dockets)}')\n"
      ],
      "execution_count": 7,
      "outputs": [
        {
          "output_type": "stream",
          "text": [
            "CM dockets: 32\n",
            "CF dockets: 43\n",
            "ALL dockets: 75\n"
          ],
          "name": "stdout"
        }
      ]
    },
    {
      "metadata": {
        "id": "CIqvWd132fQ_",
        "colab_type": "text"
      },
      "cell_type": "markdown",
      "source": [
        "### Step 2.  Find all pro se cases"
      ]
    },
    {
      "metadata": {
        "id": "tqLRNIxFqbGQ",
        "colab_type": "code",
        "colab": {
          "base_uri": "https://localhost:8080/",
          "height": 53
        },
        "outputId": "500738ca-cc52-4e3c-c7c3-f3de95c9db25"
      },
      "cell_type": "code",
      "source": [
        "\n",
        "\n",
        "def is_pro_se(docket):\n",
        "  PRO_SE_TERM =\"WAIVER OF RIGHT TO AN ATTORNEY\"  \n",
        "  if not docket: return False\n",
        "  for event in docket:\n",
        "#     print(event.Description)\n",
        "    if PRO_SE_TERM in event.Description:\n",
        "      return True\n",
        "  return False\n",
        "\n",
        "pro_se_cases =[]\n",
        "\n",
        "for case in all_dockets:\n",
        "  if is_pro_se(case['docket']):\n",
        "    pro_se_cases.append(case)\n",
        "\n",
        "    \n",
        "print(f'pro se cases: {len(pro_se_cases)}')    \n",
        "print(f'all cases: {len(all_dockets)}')\n",
        "  \n",
        "  "
      ],
      "execution_count": 11,
      "outputs": [
        {
          "output_type": "stream",
          "text": [
            "pro se cases: 11\n",
            "all cases: 75\n"
          ],
          "name": "stdout"
        }
      ]
    }
  ]
}