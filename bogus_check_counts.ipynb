{
 "cells": [
  {
   "cell_type": "markdown",
   "metadata": {
    "colab_type": "text",
    "id": "5LBBUqGyJQ8Q"
   },
   "source": [
    "### Set up environment"
   ]
  },
  {
   "cell_type": "code",
   "execution_count": 1,
   "metadata": {
    "colab": {
     "base_uri": "https://localhost:8080/",
     "height": 213
    },
    "colab_type": "code",
    "id": "bpG2zPdyJNtf",
    "outputId": "bc9f2919-8c18-4b9a-95eb-fa50eb13d21b"
   },
   "outputs": [
    {
     "name": "stdout",
     "output_type": "stream",
     "text": [
      "Collecting oscn==0.0.0.25\n",
      "  Downloading https://files.pythonhosted.org/packages/91/2b/362a3d8533b83b72dbd5201686baba4515c0b62041c429dc0dafb24933ba/oscn-0.0.0.25-py3-none-any.whl\n",
      "Requirement already satisfied: beautifulsoup4 in /Users/owner/projects/python_envs/oscn/lib/python3.6/site-packages (from oscn==0.0.0.25) (4.6.0)\n",
      "Requirement already satisfied: requests in /Users/owner/projects/python_envs/oscn/lib/python3.6/site-packages (from oscn==0.0.0.25) (2.20.0)\n",
      "Requirement already satisfied: urllib3<1.25,>=1.21.1 in /Users/owner/projects/python_envs/oscn/lib/python3.6/site-packages (from requests->oscn==0.0.0.25) (1.23)\n",
      "Requirement already satisfied: idna<2.8,>=2.5 in /Users/owner/projects/python_envs/oscn/lib/python3.6/site-packages (from requests->oscn==0.0.0.25) (2.7)\n",
      "Requirement already satisfied: certifi>=2017.4.17 in /Users/owner/projects/python_envs/oscn/lib/python3.6/site-packages (from requests->oscn==0.0.0.25) (2018.4.16)\n",
      "Requirement already satisfied: chardet<3.1.0,>=3.0.2 in /Users/owner/projects/python_envs/oscn/lib/python3.6/site-packages (from requests->oscn==0.0.0.25) (3.0.4)\n",
      "Installing collected packages: oscn\n",
      "  Found existing installation: oscn 0.0.0.31\n",
      "    Uninstalling oscn-0.0.0.31:\n",
      "      Successfully uninstalled oscn-0.0.0.31\n",
      "Successfully installed oscn-0.0.0.25\n"
     ]
    }
   ],
   "source": [
    "!pip install oscn==0.0.0.25\n",
    "\n",
    "import oscn"
   ]
  },
  {
   "cell_type": "code",
   "execution_count": 2,
   "metadata": {},
   "outputs": [
    {
     "data": {
      "text/plain": [
       "[<oscn.parse.docket.DocketMinute at 0x10fcb9c50>,\n",
       " <oscn.parse.docket.DocketMinute at 0x10fcb9cf8>,\n",
       " <oscn.parse.docket.DocketMinute at 0x10fcb9860>,\n",
       " <oscn.parse.docket.DocketMinute at 0x10fcb9d68>,\n",
       " <oscn.parse.docket.DocketMinute at 0x10fcb9da0>,\n",
       " <oscn.parse.docket.DocketMinute at 0x10fcb9f98>,\n",
       " <oscn.parse.docket.DocketMinute at 0x10fcc2048>,\n",
       " <oscn.parse.docket.DocketMinute at 0x10fcc2080>,\n",
       " <oscn.parse.docket.DocketMinute at 0x10fcc20f0>,\n",
       " <oscn.parse.docket.DocketMinute at 0x10fcc2160>,\n",
       " <oscn.parse.docket.DocketMinute at 0x10fcc21d0>,\n",
       " <oscn.parse.docket.DocketMinute at 0x10fcc2240>,\n",
       " <oscn.parse.docket.DocketMinute at 0x10fcc22b0>,\n",
       " <oscn.parse.docket.DocketMinute at 0x10fcc2358>,\n",
       " <oscn.parse.docket.DocketMinute at 0x10fcc2390>,\n",
       " <oscn.parse.docket.DocketMinute at 0x10fcc2400>,\n",
       " <oscn.parse.docket.DocketMinute at 0x10fcc24a8>,\n",
       " <oscn.parse.docket.DocketMinute at 0x10fcc2518>,\n",
       " <oscn.parse.docket.DocketMinute at 0x10fcc2550>,\n",
       " <oscn.parse.docket.DocketMinute at 0x10fcc25f8>,\n",
       " <oscn.parse.docket.DocketMinute at 0x10fcc2668>]"
      ]
     },
     "execution_count": 2,
     "metadata": {},
     "output_type": "execute_result"
    }
   ],
   "source": [
    "oscn.request.Case().docket"
   ]
  },
  {
   "cell_type": "markdown",
   "metadata": {
    "colab_type": "text",
    "id": "SpYkP0g316dT"
   },
   "source": [
    "### Set up the OSCN information needed"
   ]
  },
  {
   "cell_type": "code",
   "execution_count": 2,
   "metadata": {
    "colab": {},
    "colab_type": "code",
    "id": "ePxYAgknPIYw"
   },
   "outputs": [],
   "source": [
    "\n",
    "years = ['2017','2018']\n",
    "counties = ['tulsa', 'mayes', 'delaware']\n",
    "types =['CM','CF']"
   ]
  },
  {
   "cell_type": "markdown",
   "metadata": {},
   "source": [
    "### Request the cases from OSCN and save as files\n",
    "This takes a couple hours"
   ]
  },
  {
   "cell_type": "code",
   "execution_count": 3,
   "metadata": {
    "colab": {
     "base_uri": "https://localhost:8080/",
     "height": 623
    },
    "colab_type": "code",
    "id": "901XB5X2PLMQ",
    "outputId": "0a055488-40dd-4cd3-ce7e-6fbc8f3925e6"
   },
   "outputs": [],
   "source": [
    "import pickle\n",
    "\n",
    "\n",
    "# for county in counties:\n",
    "#   for year in years:\n",
    "#     for type in types:      \n",
    "#       cases=oscn.request.CaseList(type=type, year=year,county=county)\n",
    "#       all_cases = [c for c in cases]\n",
    "#       file_name = f'data/{type}.{county}.{year}.oscn'\n",
    "#       f = open(file_name, 'wb')\n",
    "#       z(all_cases, f)\n",
    "#       f.close()\n",
    "#       print(f'{file_name}: {len(all_cases)}')\n"
   ]
  },
  {
   "cell_type": "markdown",
   "metadata": {},
   "source": [
    "### Retrieve the saved files"
   ]
  },
  {
   "cell_type": "code",
   "execution_count": 4,
   "metadata": {
    "colab": {
     "base_uri": "https://localhost:8080/",
     "height": 237
    },
    "colab_type": "code",
    "id": "qVsbnkB-1v6T",
    "outputId": "80d17652-1b74-4cc6-b8a6-6b611e3a1bfe",
    "scrolled": true
   },
   "outputs": [
    {
     "name": "stdout",
     "output_type": "stream",
     "text": [
      "data/tulsa.2017.CM.cases added 6050\n",
      "data/tulsa.2017.CF.cases added 6587\n",
      "data/tulsa.2018.CM.cases added 5024\n",
      "data/tulsa.2018.CF.cases added 4834\n",
      "data/mayes.2017.CM.cases added 629\n",
      "data/mayes.2017.CF.cases added 425\n",
      "data/mayes.2018.CM.cases added 451\n",
      "data/mayes.2018.CF.cases added 332\n",
      "data/delaware.2017.CM.cases added 930\n",
      "data/delaware.2017.CF.cases added 440\n",
      "data/delaware.2018.CM.cases added 861\n",
      "data/delaware.2018.CF.cases added 433\n",
      "counted case: 26996 length saved 26996\n"
     ]
    }
   ],
   "source": [
    "import pickle\n",
    "import zlib\n",
    "\n",
    "case_count =0 \n",
    "saved_cases =[]\n",
    "\n",
    "\n",
    "# restore_cases = lambda compressed_case: pickle.loads(zlib.decompress(compressed_case) )\n",
    "\n",
    "for county in counties:\n",
    "  for year in years:\n",
    "    for type in types:      \n",
    "      file_name = f'data/{county}.{year}.{type}.cases'\n",
    "      pickled_cases = zlib.decompress(open(file_name, 'rb').read(), zlib.MAX_WBITS)  \n",
    "      new_cases =  [case for case in pickle.loads(pickled_cases)]\n",
    "    \n",
    "      new_case_count = len(new_cases)\n",
    "      case_count += new_case_count\n",
    "      print(f'{file_name} added {new_case_count}')\n",
    "      saved_cases += new_cases\n",
    "        \n",
    "print(f'counted case: {case_count} length saved {len(saved_cases)}')"
   ]
  },
  {
   "cell_type": "markdown",
   "metadata": {},
   "source": [
    "## Create a pandas dataframe"
   ]
  },
  {
   "cell_type": "code",
   "execution_count": 6,
   "metadata": {
    "colab": {
     "base_uri": "https://localhost:8080/",
     "height": 35
    },
    "colab_type": "code",
    "id": "gbDCRWzhxVSh",
    "outputId": "a61c3a75-95c9-4c5f-d15f-94a051809a45"
   },
   "outputs": [
    {
     "data": {
      "text/plain": [
       "['Filed', 'County', 'Type', 'CaseNumber', 'Counts', 'Source']"
      ]
     },
     "execution_count": 6,
     "metadata": {},
     "output_type": "execute_result"
    }
   ],
   "source": [
    "import re\n",
    "import numpy as np\n",
    "import pandas as pd\n",
    "\n",
    "columns = ['Filed','County','Type', 'CaseNumber', 'Counts','Source']\n",
    "case_data = lambda c: [c.filed, c.county, c.type, c.case_number, c.counts, c.source]\n",
    "%time all_cases = pd.DataFrame([case_data(c) for c in saved_cases], columns = columns)"
   ]
  },
  {
   "cell_type": "code",
   "execution_count": null,
   "metadata": {
    "scrolled": true
   },
   "outputs": [],
   "source": [
    "all_cases.groupby(['County']).count()"
   ]
  },
  {
   "cell_type": "code",
   "execution_count": 21,
   "metadata": {},
   "outputs": [
    {
     "data": {
      "text/html": [
       "<div>\n",
       "<style scoped>\n",
       "    .dataframe tbody tr th:only-of-type {\n",
       "        vertical-align: middle;\n",
       "    }\n",
       "\n",
       "    .dataframe tbody tr th {\n",
       "        vertical-align: top;\n",
       "    }\n",
       "\n",
       "    .dataframe thead th {\n",
       "        text-align: right;\n",
       "    }\n",
       "</style>\n",
       "<table border=\"1\" class=\"dataframe\">\n",
       "  <thead>\n",
       "    <tr style=\"text-align: right;\">\n",
       "      <th></th>\n",
       "      <th>Filed</th>\n",
       "      <th>County</th>\n",
       "      <th>Type</th>\n",
       "      <th>CaseNumber</th>\n",
       "      <th>Counts</th>\n",
       "      <th>Source</th>\n",
       "      <th>Charge</th>\n",
       "    </tr>\n",
       "  </thead>\n",
       "  <tbody>\n",
       "    <tr>\n",
       "      <th>0</th>\n",
       "      <td>2017-01-03</td>\n",
       "      <td>mayes</td>\n",
       "      <td>CM</td>\n",
       "      <td>CM-2017-1</td>\n",
       "      <td>[{'description': 'POSSESSION OF CONTROLLED DAN...</td>\n",
       "      <td>https://www.oscn.net/dockets/GetCaseInformatio...</td>\n",
       "      <td></td>\n",
       "    </tr>\n",
       "    <tr>\n",
       "      <th>1</th>\n",
       "      <td>2017-01-03</td>\n",
       "      <td>mayes</td>\n",
       "      <td>CM</td>\n",
       "      <td>CM-2017-2</td>\n",
       "      <td>[{'description': 'PUBLIC INTOXICATION'}]</td>\n",
       "      <td>https://www.oscn.net/dockets/GetCaseInformatio...</td>\n",
       "      <td></td>\n",
       "    </tr>\n",
       "    <tr>\n",
       "      <th>2</th>\n",
       "      <td>2017-01-04</td>\n",
       "      <td>mayes</td>\n",
       "      <td>CM</td>\n",
       "      <td>CM-2017-3</td>\n",
       "      <td>[{'description': 'PETIT LARCENY'}, {'descripti...</td>\n",
       "      <td>https://www.oscn.net/dockets/GetCaseInformatio...</td>\n",
       "      <td></td>\n",
       "    </tr>\n",
       "    <tr>\n",
       "      <th>3</th>\n",
       "      <td>2017-01-04</td>\n",
       "      <td>mayes</td>\n",
       "      <td>CM</td>\n",
       "      <td>CM-2017-4</td>\n",
       "      <td>[{'description': 'DOMESTIC ABUSE - ASSAULT AND...</td>\n",
       "      <td>https://www.oscn.net/dockets/GetCaseInformatio...</td>\n",
       "      <td></td>\n",
       "    </tr>\n",
       "    <tr>\n",
       "      <th>4</th>\n",
       "      <td>2017-01-04</td>\n",
       "      <td>mayes</td>\n",
       "      <td>CM</td>\n",
       "      <td>CM-2017-5</td>\n",
       "      <td>[{'description': 'POSSESSION OF CONTROLLED DAN...</td>\n",
       "      <td>https://www.oscn.net/dockets/GetCaseInformatio...</td>\n",
       "      <td></td>\n",
       "    </tr>\n",
       "  </tbody>\n",
       "</table>\n",
       "</div>"
      ],
      "text/plain": [
       "       Filed County Type CaseNumber  \\\n",
       "0 2017-01-03  mayes   CM  CM-2017-1   \n",
       "1 2017-01-03  mayes   CM  CM-2017-2   \n",
       "2 2017-01-04  mayes   CM  CM-2017-3   \n",
       "3 2017-01-04  mayes   CM  CM-2017-4   \n",
       "4 2017-01-04  mayes   CM  CM-2017-5   \n",
       "\n",
       "                                              Counts  \\\n",
       "0  [{'description': 'POSSESSION OF CONTROLLED DAN...   \n",
       "1           [{'description': 'PUBLIC INTOXICATION'}]   \n",
       "2  [{'description': 'PETIT LARCENY'}, {'descripti...   \n",
       "3  [{'description': 'DOMESTIC ABUSE - ASSAULT AND...   \n",
       "4  [{'description': 'POSSESSION OF CONTROLLED DAN...   \n",
       "\n",
       "                                              Source Charge  \n",
       "0  https://www.oscn.net/dockets/GetCaseInformatio...         \n",
       "1  https://www.oscn.net/dockets/GetCaseInformatio...         \n",
       "2  https://www.oscn.net/dockets/GetCaseInformatio...         \n",
       "3  https://www.oscn.net/dockets/GetCaseInformatio...         \n",
       "4  https://www.oscn.net/dockets/GetCaseInformatio...         "
      ]
     },
     "execution_count": 21,
     "metadata": {},
     "output_type": "execute_result"
    }
   ],
   "source": [
    "all_cases.head(5)"
   ]
  },
  {
   "cell_type": "code",
   "execution_count": 22,
   "metadata": {},
   "outputs": [],
   "source": [
    "# charge_list = lambda charges:[charge['description'] for charge in charges ] if charges else []\n",
    "\n",
    "# all_cases['Charge'] = [charge_list(counts) for counts in all_cases['Counts'] ] \n",
    "\n",
    "# all_cases.drop(columns=['Charge'])"
   ]
  },
  {
   "cell_type": "markdown",
   "metadata": {},
   "source": [
    "## Expand Counts"
   ]
  },
  {
   "cell_type": "code",
   "execution_count": 40,
   "metadata": {
    "scrolled": true
   },
   "outputs": [],
   "source": [
    "# convert the date from a string to a python DateTime type\n",
    "all_cases['FiledDate'] = pd.to_datetime(all_cases['Filed'])\n",
    "\n",
    "# create a map to all the existing non Count data\n",
    "\n",
    "safe_len = lambda counts: len(counts) if counts else 0\n",
    "lens = all_cases['Counts'].apply(safe_len)\n",
    "vals = range(all_cases.shape[0])\n",
    "ilocations = np.repeat(vals, lens)\n",
    "\n",
    "# get the index of all non Count columns\n",
    "cols = [i for i,c in enumerate(all_cases.columns) if c != 'Counts']\n",
    "# create a new expanded data frame and copy the old data\n",
    "count_frame = all_cases.iloc[ilocations, cols].copy()\n",
    "\n",
    "# Create a new column with the exanded data\n",
    "\n",
    "description = lambda count: count['description'] if count else \"\"\n",
    "safe_counts = lambda counts: counts if counts else {}\n",
    "count_frame['Charge'] = [description(item) for items in all_cases['Counts'] for item in items]\n",
    "count_frame.reset_index( inplace=True)"
   ]
  },
  {
   "cell_type": "markdown",
   "metadata": {},
   "source": [
    "### Count of counts"
   ]
  },
  {
   "cell_type": "code",
   "execution_count": 43,
   "metadata": {},
   "outputs": [
    {
     "data": {
      "text/html": [
       "<div>\n",
       "<style scoped>\n",
       "    .dataframe tbody tr th:only-of-type {\n",
       "        vertical-align: middle;\n",
       "    }\n",
       "\n",
       "    .dataframe tbody tr th {\n",
       "        vertical-align: top;\n",
       "    }\n",
       "\n",
       "    .dataframe thead th {\n",
       "        text-align: right;\n",
       "    }\n",
       "</style>\n",
       "<table border=\"1\" class=\"dataframe\">\n",
       "  <thead>\n",
       "    <tr style=\"text-align: right;\">\n",
       "      <th></th>\n",
       "      <th>Filed</th>\n",
       "      <th>County</th>\n",
       "      <th>Type</th>\n",
       "      <th>CaseNumber</th>\n",
       "      <th>Source</th>\n",
       "      <th>Charge</th>\n",
       "      <th>FiledDate</th>\n",
       "    </tr>\n",
       "  </thead>\n",
       "  <tbody>\n",
       "    <tr>\n",
       "      <th>0</th>\n",
       "      <td>2017-01-03</td>\n",
       "      <td>mayes</td>\n",
       "      <td>CM</td>\n",
       "      <td>CM-2017-1</td>\n",
       "      <td>https://www.oscn.net/dockets/GetCaseInformatio...</td>\n",
       "      <td>POSSESSION OF CONTROLLED DANGEROUS SUBSTANCE</td>\n",
       "      <td>2017-01-03</td>\n",
       "    </tr>\n",
       "    <tr>\n",
       "      <th>0</th>\n",
       "      <td>2017-01-03</td>\n",
       "      <td>mayes</td>\n",
       "      <td>CM</td>\n",
       "      <td>CM-2017-1</td>\n",
       "      <td>https://www.oscn.net/dockets/GetCaseInformatio...</td>\n",
       "      <td>UNLAWFUL POSSESSION OF DRUG PARAPHERNALIA</td>\n",
       "      <td>2017-01-03</td>\n",
       "    </tr>\n",
       "    <tr>\n",
       "      <th>1</th>\n",
       "      <td>2017-01-03</td>\n",
       "      <td>mayes</td>\n",
       "      <td>CM</td>\n",
       "      <td>CM-2017-2</td>\n",
       "      <td>https://www.oscn.net/dockets/GetCaseInformatio...</td>\n",
       "      <td>PUBLIC INTOXICATION</td>\n",
       "      <td>2017-01-03</td>\n",
       "    </tr>\n",
       "    <tr>\n",
       "      <th>2</th>\n",
       "      <td>2017-01-04</td>\n",
       "      <td>mayes</td>\n",
       "      <td>CM</td>\n",
       "      <td>CM-2017-3</td>\n",
       "      <td>https://www.oscn.net/dockets/GetCaseInformatio...</td>\n",
       "      <td>PETIT LARCENY</td>\n",
       "      <td>2017-01-04</td>\n",
       "    </tr>\n",
       "    <tr>\n",
       "      <th>2</th>\n",
       "      <td>2017-01-04</td>\n",
       "      <td>mayes</td>\n",
       "      <td>CM</td>\n",
       "      <td>CM-2017-3</td>\n",
       "      <td>https://www.oscn.net/dockets/GetCaseInformatio...</td>\n",
       "      <td>OBSTRUCTING OFFICER</td>\n",
       "      <td>2017-01-04</td>\n",
       "    </tr>\n",
       "  </tbody>\n",
       "</table>\n",
       "</div>"
      ],
      "text/plain": [
       "       Filed County Type CaseNumber  \\\n",
       "0 2017-01-03  mayes   CM  CM-2017-1   \n",
       "0 2017-01-03  mayes   CM  CM-2017-1   \n",
       "1 2017-01-03  mayes   CM  CM-2017-2   \n",
       "2 2017-01-04  mayes   CM  CM-2017-3   \n",
       "2 2017-01-04  mayes   CM  CM-2017-3   \n",
       "\n",
       "                                              Source  \\\n",
       "0  https://www.oscn.net/dockets/GetCaseInformatio...   \n",
       "0  https://www.oscn.net/dockets/GetCaseInformatio...   \n",
       "1  https://www.oscn.net/dockets/GetCaseInformatio...   \n",
       "2  https://www.oscn.net/dockets/GetCaseInformatio...   \n",
       "2  https://www.oscn.net/dockets/GetCaseInformatio...   \n",
       "\n",
       "                                         Charge  FiledDate  \n",
       "0  POSSESSION OF CONTROLLED DANGEROUS SUBSTANCE 2017-01-03  \n",
       "0     UNLAWFUL POSSESSION OF DRUG PARAPHERNALIA 2017-01-03  \n",
       "1                           PUBLIC INTOXICATION 2017-01-03  \n",
       "2                                 PETIT LARCENY 2017-01-04  \n",
       "2                           OBSTRUCTING OFFICER 2017-01-04  "
      ]
     },
     "execution_count": 43,
     "metadata": {},
     "output_type": "execute_result"
    }
   ],
   "source": [
    "count_frame.head()\n"
   ]
  },
  {
   "cell_type": "markdown",
   "metadata": {},
   "source": [
    "    ## Filter for bugus check counts"
   ]
  },
  {
   "cell_type": "code",
   "execution_count": 44,
   "metadata": {},
   "outputs": [
    {
     "data": {
      "text/html": [
       "<div>\n",
       "<style scoped>\n",
       "    .dataframe tbody tr th:only-of-type {\n",
       "        vertical-align: middle;\n",
       "    }\n",
       "\n",
       "    .dataframe tbody tr th {\n",
       "        vertical-align: top;\n",
       "    }\n",
       "\n",
       "    .dataframe thead th {\n",
       "        text-align: right;\n",
       "    }\n",
       "</style>\n",
       "<table border=\"1\" class=\"dataframe\">\n",
       "  <thead>\n",
       "    <tr style=\"text-align: right;\">\n",
       "      <th></th>\n",
       "      <th>Filed</th>\n",
       "      <th>County</th>\n",
       "      <th>Type</th>\n",
       "      <th>CaseNumber</th>\n",
       "      <th>Source</th>\n",
       "      <th>Charge</th>\n",
       "      <th>FiledDate</th>\n",
       "    </tr>\n",
       "  </thead>\n",
       "  <tbody>\n",
       "    <tr>\n",
       "      <th>count</th>\n",
       "      <td>6937</td>\n",
       "      <td>6938</td>\n",
       "      <td>6938</td>\n",
       "      <td>6938</td>\n",
       "      <td>6938</td>\n",
       "      <td>6938</td>\n",
       "      <td>6937</td>\n",
       "    </tr>\n",
       "    <tr>\n",
       "      <th>unique</th>\n",
       "      <td>418</td>\n",
       "      <td>2</td>\n",
       "      <td>2</td>\n",
       "      <td>2617</td>\n",
       "      <td>4191</td>\n",
       "      <td>918</td>\n",
       "      <td>418</td>\n",
       "    </tr>\n",
       "    <tr>\n",
       "      <th>top</th>\n",
       "      <td>2017-02-14 00:00:00</td>\n",
       "      <td>delaware</td>\n",
       "      <td>CM</td>\n",
       "      <td>CM-2017-53</td>\n",
       "      <td>https://www.oscn.net/dockets/GetCaseInformatio...</td>\n",
       "      <td>UNLAWFUL POSSESSION OF DRUG PARAPHERNALIA, A M...</td>\n",
       "      <td>2017-02-14 00:00:00</td>\n",
       "    </tr>\n",
       "    <tr>\n",
       "      <th>freq</th>\n",
       "      <td>69</td>\n",
       "      <td>3841</td>\n",
       "      <td>3815</td>\n",
       "      <td>52</td>\n",
       "      <td>51</td>\n",
       "      <td>257</td>\n",
       "      <td>69</td>\n",
       "    </tr>\n",
       "    <tr>\n",
       "      <th>first</th>\n",
       "      <td>2017-01-03 00:00:00</td>\n",
       "      <td>NaN</td>\n",
       "      <td>NaN</td>\n",
       "      <td>NaN</td>\n",
       "      <td>NaN</td>\n",
       "      <td>NaN</td>\n",
       "      <td>2017-01-03 00:00:00</td>\n",
       "    </tr>\n",
       "    <tr>\n",
       "      <th>last</th>\n",
       "      <td>2018-09-10 00:00:00</td>\n",
       "      <td>NaN</td>\n",
       "      <td>NaN</td>\n",
       "      <td>NaN</td>\n",
       "      <td>NaN</td>\n",
       "      <td>NaN</td>\n",
       "      <td>2018-09-10 00:00:00</td>\n",
       "    </tr>\n",
       "  </tbody>\n",
       "</table>\n",
       "</div>"
      ],
      "text/plain": [
       "                      Filed    County  Type  CaseNumber  \\\n",
       "count                  6937      6938  6938        6938   \n",
       "unique                  418         2     2        2617   \n",
       "top     2017-02-14 00:00:00  delaware    CM  CM-2017-53   \n",
       "freq                     69      3841  3815          52   \n",
       "first   2017-01-03 00:00:00       NaN   NaN         NaN   \n",
       "last    2018-09-10 00:00:00       NaN   NaN         NaN   \n",
       "\n",
       "                                                   Source  \\\n",
       "count                                                6938   \n",
       "unique                                               4191   \n",
       "top     https://www.oscn.net/dockets/GetCaseInformatio...   \n",
       "freq                                                   51   \n",
       "first                                                 NaN   \n",
       "last                                                  NaN   \n",
       "\n",
       "                                                   Charge            FiledDate  \n",
       "count                                                6938                 6937  \n",
       "unique                                                918                  418  \n",
       "top     UNLAWFUL POSSESSION OF DRUG PARAPHERNALIA, A M...  2017-02-14 00:00:00  \n",
       "freq                                                  257                   69  \n",
       "first                                                 NaN  2017-01-03 00:00:00  \n",
       "last                                                  NaN  2018-09-10 00:00:00  "
      ]
     },
     "execution_count": 44,
     "metadata": {},
     "output_type": "execute_result"
    }
   ],
   "source": [
    "count_frame.describe()"
   ]
  },
  {
   "cell_type": "code",
   "execution_count": 50,
   "metadata": {},
   "outputs": [],
   "source": [
    "import re\n",
    "\n",
    "bogus_count = re.compile(r'(utter.*forged|bogus)', re.I | re.M)\n",
    "\n",
    "is_check_case= lambda row: True if bogus_count.search(row['Charge']) else False\n",
    "    \n",
    "\n",
    "count_frame['Bogus_Check'] = count_frame.apply(is_check_case, axis=1)\n"
   ]
  },
  {
   "cell_type": "code",
   "execution_count": 75,
   "metadata": {},
   "outputs": [
    {
     "data": {
      "text/html": [
       "<div>\n",
       "<style scoped>\n",
       "    .dataframe tbody tr th:only-of-type {\n",
       "        vertical-align: middle;\n",
       "    }\n",
       "\n",
       "    .dataframe tbody tr th {\n",
       "        vertical-align: top;\n",
       "    }\n",
       "\n",
       "    .dataframe thead th {\n",
       "        text-align: right;\n",
       "    }\n",
       "</style>\n",
       "<table border=\"1\" class=\"dataframe\">\n",
       "  <thead>\n",
       "    <tr style=\"text-align: right;\">\n",
       "      <th></th>\n",
       "      <th>index</th>\n",
       "      <th>Filed</th>\n",
       "      <th>County</th>\n",
       "      <th>Type</th>\n",
       "      <th>CaseNumber</th>\n",
       "      <th>Source</th>\n",
       "      <th>Charge</th>\n",
       "      <th>FiledDate</th>\n",
       "      <th>Bogus_Check</th>\n",
       "    </tr>\n",
       "  </thead>\n",
       "  <tbody>\n",
       "    <tr>\n",
       "      <th>0</th>\n",
       "      <td>0</td>\n",
       "      <td>2017-01-03</td>\n",
       "      <td>mayes</td>\n",
       "      <td>CM</td>\n",
       "      <td>CM-2017-1</td>\n",
       "      <td>https://www.oscn.net/dockets/GetCaseInformatio...</td>\n",
       "      <td>POSSESSION OF CONTROLLED DANGEROUS SUBSTANCE</td>\n",
       "      <td>2017-01-03</td>\n",
       "      <td>False</td>\n",
       "    </tr>\n",
       "    <tr>\n",
       "      <th>1</th>\n",
       "      <td>0</td>\n",
       "      <td>2017-01-03</td>\n",
       "      <td>mayes</td>\n",
       "      <td>CM</td>\n",
       "      <td>CM-2017-1</td>\n",
       "      <td>https://www.oscn.net/dockets/GetCaseInformatio...</td>\n",
       "      <td>UNLAWFUL POSSESSION OF DRUG PARAPHERNALIA</td>\n",
       "      <td>2017-01-03</td>\n",
       "      <td>False</td>\n",
       "    </tr>\n",
       "    <tr>\n",
       "      <th>2</th>\n",
       "      <td>1</td>\n",
       "      <td>2017-01-03</td>\n",
       "      <td>mayes</td>\n",
       "      <td>CM</td>\n",
       "      <td>CM-2017-2</td>\n",
       "      <td>https://www.oscn.net/dockets/GetCaseInformatio...</td>\n",
       "      <td>PUBLIC INTOXICATION</td>\n",
       "      <td>2017-01-03</td>\n",
       "      <td>False</td>\n",
       "    </tr>\n",
       "    <tr>\n",
       "      <th>3</th>\n",
       "      <td>2</td>\n",
       "      <td>2017-01-04</td>\n",
       "      <td>mayes</td>\n",
       "      <td>CM</td>\n",
       "      <td>CM-2017-3</td>\n",
       "      <td>https://www.oscn.net/dockets/GetCaseInformatio...</td>\n",
       "      <td>PETIT LARCENY</td>\n",
       "      <td>2017-01-04</td>\n",
       "      <td>False</td>\n",
       "    </tr>\n",
       "    <tr>\n",
       "      <th>4</th>\n",
       "      <td>2</td>\n",
       "      <td>2017-01-04</td>\n",
       "      <td>mayes</td>\n",
       "      <td>CM</td>\n",
       "      <td>CM-2017-3</td>\n",
       "      <td>https://www.oscn.net/dockets/GetCaseInformatio...</td>\n",
       "      <td>OBSTRUCTING OFFICER</td>\n",
       "      <td>2017-01-04</td>\n",
       "      <td>False</td>\n",
       "    </tr>\n",
       "  </tbody>\n",
       "</table>\n",
       "</div>"
      ],
      "text/plain": [
       "   index      Filed County Type CaseNumber  \\\n",
       "0      0 2017-01-03  mayes   CM  CM-2017-1   \n",
       "1      0 2017-01-03  mayes   CM  CM-2017-1   \n",
       "2      1 2017-01-03  mayes   CM  CM-2017-2   \n",
       "3      2 2017-01-04  mayes   CM  CM-2017-3   \n",
       "4      2 2017-01-04  mayes   CM  CM-2017-3   \n",
       "\n",
       "                                              Source  \\\n",
       "0  https://www.oscn.net/dockets/GetCaseInformatio...   \n",
       "1  https://www.oscn.net/dockets/GetCaseInformatio...   \n",
       "2  https://www.oscn.net/dockets/GetCaseInformatio...   \n",
       "3  https://www.oscn.net/dockets/GetCaseInformatio...   \n",
       "4  https://www.oscn.net/dockets/GetCaseInformatio...   \n",
       "\n",
       "                                         Charge  FiledDate  Bogus_Check  \n",
       "0  POSSESSION OF CONTROLLED DANGEROUS SUBSTANCE 2017-01-03        False  \n",
       "1     UNLAWFUL POSSESSION OF DRUG PARAPHERNALIA 2017-01-03        False  \n",
       "2                           PUBLIC INTOXICATION 2017-01-03        False  \n",
       "3                                 PETIT LARCENY 2017-01-04        False  \n",
       "4                           OBSTRUCTING OFFICER 2017-01-04        False  "
      ]
     },
     "execution_count": 75,
     "metadata": {},
     "output_type": "execute_result"
    }
   ],
   "source": [
    "count_frame.reset_index( inplace=True)\n",
    "count_frame.head()\n"
   ]
  },
  {
   "cell_type": "code",
   "execution_count": 76,
   "metadata": {},
   "outputs": [
    {
     "data": {
      "text/plain": [
       "County    Bogus_Check\n",
       "delaware  False          3670\n",
       "          True            171\n",
       "mayes     False          3061\n",
       "          True             36\n",
       "Name: Bogus_Check, dtype: int64"
      ]
     },
     "execution_count": 76,
     "metadata": {},
     "output_type": "execute_result"
    }
   ],
   "source": [
    "count_frame.groupby(['County'])['Bogus_Check'].value_counts()\n"
   ]
  },
  {
   "cell_type": "code",
   "execution_count": 78,
   "metadata": {},
   "outputs": [
    {
     "data": {
      "text/plain": [
       "<matplotlib.axes._subplots.AxesSubplot at 0x134a56278>"
      ]
     },
     "execution_count": 78,
     "metadata": {},
     "output_type": "execute_result"
    },
    {
     "data": {
      "image/png": "[encoded data removed]",
      "text/plain": [
       "<Figure size 432x288 with 1 Axes>"
      ]
     },
     "metadata": {},
     "output_type": "display_data"
    }
   ],
   "source": [
    "import matplotlib.pyplot as plt\n",
    "\n",
    "month = count_frame.FiledDate.dt.to_period(\"M\")\n",
    "\n",
    "counts_with_bogus = count_frame.query(\"Bogus_Check == True\")\n",
    "groups = [month]\n",
    "by_month=round(counts_with_bogus.groupby(groups).size()/count_frame.groupby(groups).size()*100,2)\n",
    "by_month.plot.line()"
   ]
  },
  {
   "cell_type": "code",
   "execution_count": 74,
   "metadata": {},
   "outputs": [
    {
     "data": {
      "text/plain": [
       "0      2017-01\n",
       "0      2017-01\n",
       "1      2017-01\n",
       "2      2017-01\n",
       "2      2017-01\n",
       "2      2017-01\n",
       "3      2017-01\n",
       "4      2017-01\n",
       "4      2017-01\n",
       "5      2017-01\n",
       "5      2017-01\n",
       "6      2017-01\n",
       "7      2017-01\n",
       "8      2017-01\n",
       "8      2017-01\n",
       "8      2017-01\n",
       "8      2017-01\n",
       "9      2017-01\n",
       "10     2017-01\n",
       "11     2017-01\n",
       "12     2017-01\n",
       "13     2017-01\n",
       "14     2017-01\n",
       "14     2017-01\n",
       "15     2017-01\n",
       "15     2017-01\n",
       "15     2017-01\n",
       "16     2017-01\n",
       "17     2017-01\n",
       "17     2017-01\n",
       "         ...  \n",
       "4185   2018-09\n",
       "4185   2018-09\n",
       "4185   2018-09\n",
       "4186   2018-09\n",
       "4186   2018-09\n",
       "4186   2018-09\n",
       "4187   2018-08\n",
       "4188   2018-08\n",
       "4189   2018-08\n",
       "4190   2018-08\n",
       "4190   2018-08\n",
       "4190   2018-08\n",
       "4190   2018-08\n",
       "4190   2018-08\n",
       "4190   2018-08\n",
       "4191   2018-09\n",
       "4191   2018-09\n",
       "4192   2018-09\n",
       "4193   2018-09\n",
       "4193   2018-09\n",
       "4193   2018-09\n",
       "4193   2018-09\n",
       "4194   2018-09\n",
       "4194   2018-09\n",
       "4195   2018-09\n",
       "4196   2018-09\n",
       "4196   2018-09\n",
       "4196   2018-09\n",
       "4197   2018-09\n",
       "4197   2018-09\n",
       "Name: FiledDate, Length: 6938, dtype: object"
      ]
     },
     "execution_count": 74,
     "metadata": {},
     "output_type": "execute_result"
    }
   ],
   "source": []
  },
  {
   "cell_type": "code",
   "execution_count": null,
   "metadata": {},
   "outputs": [],
   "source": []
  }
 ],
 "metadata": {
  "colab": {
   "name": "delaware county pro se.ipynb",
   "provenance": [],
   "toc_visible": true,
   "version": "0.3.2"
  },
  "kernelspec": {
   "display_name": "Python 3",
   "language": "python",
   "name": "python3"
  },
  "language_info": {
   "codemirror_mode": {
    "name": "ipython",
    "version": 3
   },
   "file_extension": ".py",
   "mimetype": "text/x-python",
   "name": "python",
   "nbconvert_exporter": "python",
   "pygments_lexer": "ipython3",
   "version": "3.6.5"
  }
 },
 "nbformat": 4,
 "nbformat_minor": 1
}
