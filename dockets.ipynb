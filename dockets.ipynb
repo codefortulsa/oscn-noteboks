{
 "cells": [
  {
   "cell_type": "markdown",
   "metadata": {
    "colab_type": "text",
    "id": "5LBBUqGyJQ8Q"
   },
   "source": [
    "### Set up environment"
   ]
  },
  {
   "cell_type": "code",
   "execution_count": 2,
   "metadata": {
    "colab": {
     "base_uri": "https://localhost:8080/",
     "height": 213
    },
    "colab_type": "code",
    "id": "bpG2zPdyJNtf",
    "outputId": "bc9f2919-8c18-4b9a-95eb-fa50eb13d21b"
   },
   "outputs": [
    {
     "name": "stdout",
     "output_type": "stream",
     "text": [
      "Requirement already satisfied: oscn==0.0.0.67 in /Users/owner/projects/venvs/notebooks/lib/python3.6/site-packages (0.0.0.67)\n",
      "Requirement already satisfied: boto3 in /Users/owner/projects/venvs/notebooks/lib/python3.6/site-packages (from oscn==0.0.0.67) (1.14.0)\n",
      "Requirement already satisfied: requests in /Users/owner/projects/venvs/notebooks/lib/python3.6/site-packages (from oscn==0.0.0.67) (2.19.1)\n",
      "Requirement already satisfied: beautifulsoup4 in /Users/owner/projects/venvs/notebooks/lib/python3.6/site-packages (from oscn==0.0.0.67) (4.6.0)\n",
      "Requirement already satisfied: jmespath<1.0.0,>=0.7.1 in /Users/owner/projects/venvs/notebooks/lib/python3.6/site-packages (from boto3->oscn==0.0.0.67) (0.10.0)\n",
      "Requirement already satisfied: botocore<1.18.0,>=1.17.0 in /Users/owner/projects/venvs/notebooks/lib/python3.6/site-packages (from boto3->oscn==0.0.0.67) (1.17.0)\n",
      "Requirement already satisfied: s3transfer<0.4.0,>=0.3.0 in /Users/owner/projects/venvs/notebooks/lib/python3.6/site-packages (from boto3->oscn==0.0.0.67) (0.3.3)\n",
      "Requirement already satisfied: urllib3<1.24,>=1.21.1 in /Users/owner/projects/venvs/notebooks/lib/python3.6/site-packages (from requests->oscn==0.0.0.67) (1.23)\n",
      "Requirement already satisfied: idna<2.8,>=2.5 in /Users/owner/projects/venvs/notebooks/lib/python3.6/site-packages (from requests->oscn==0.0.0.67) (2.7)\n",
      "Requirement already satisfied: chardet<3.1.0,>=3.0.2 in /Users/owner/projects/venvs/notebooks/lib/python3.6/site-packages (from requests->oscn==0.0.0.67) (3.0.4)\n",
      "Requirement already satisfied: certifi>=2017.4.17 in /Users/owner/projects/venvs/notebooks/lib/python3.6/site-packages (from requests->oscn==0.0.0.67) (2018.4.16)\n",
      "Requirement already satisfied: docutils<0.16,>=0.10 in /Users/owner/projects/venvs/notebooks/lib/python3.6/site-packages (from botocore<1.18.0,>=1.17.0->boto3->oscn==0.0.0.67) (0.15.2)\n",
      "Requirement already satisfied: python-dateutil<3.0.0,>=2.1 in /Users/owner/projects/venvs/notebooks/lib/python3.6/site-packages (from botocore<1.18.0,>=1.17.0->boto3->oscn==0.0.0.67) (2.7.3)\n",
      "Requirement already satisfied: six>=1.5 in /Users/owner/projects/venvs/notebooks/lib/python3.6/site-packages (from python-dateutil<3.0.0,>=2.1->botocore<1.18.0,>=1.17.0->boto3->oscn==0.0.0.67) (1.11.0)\n"
     ]
    }
   ],
   "source": [
    "!pip install oscn==0.0.0.67\n",
    "\n",
    "import oscn"
   ]
  },
  {
   "cell_type": "markdown",
   "metadata": {
    "colab_type": "text",
    "id": "SpYkP0g316dT"
   },
   "source": [
    "### Set up the OSCN information needed"
   ]
  },
  {
   "cell_type": "code",
   "execution_count": 3,
   "metadata": {
    "colab": {},
    "colab_type": "code",
    "id": "ePxYAgknPIYw"
   },
   "outputs": [],
   "source": [
    "\n",
    "years = ['2016','2017','2018']\n",
    "counties = ['mayes', 'love','rogers','delaware']\n",
    "types =['CM','CF']"
   ]
  },
  {
   "cell_type": "markdown",
   "metadata": {},
   "source": [
    "### Request the cases from OSCN and save as files\n",
    "This takes a couple hours"
   ]
  },
  {
   "cell_type": "code",
   "execution_count": 4,
   "metadata": {
    "colab": {
     "base_uri": "https://localhost:8080/",
     "height": 623
    },
    "colab_type": "code",
    "id": "901XB5X2PLMQ",
    "outputId": "0a055488-40dd-4cd3-ce7e-6fbc8f3925e6"
   },
   "outputs": [],
   "source": [
    "import pickle\n",
    "\n",
    "\n",
    "# for county in counties:\n",
    "#   for year in years:\n",
    "#     for type in types:      \n",
    "#       cases=oscn.request.CaseList(type=type, year=year,county=county)\n",
    "#       all_cases = [c for c in cases]\n",
    "#       file_name = f'data/{type}.{county}.{year}.oscn'\n",
    "#       f = open(file_name, 'wb')\n",
    "#       z(all_cases, f)\n",
    "#       f.close()\n",
    "#       print(f'{file_name}: {len(all_cases)}')\n"
   ]
  },
  {
   "cell_type": "markdown",
   "metadata": {},
   "source": [
    "### Retrieve the saved files"
   ]
  },
  {
   "cell_type": "code",
   "execution_count": 5,
   "metadata": {
    "colab": {
     "base_uri": "https://localhost:8080/",
     "height": 237
    },
    "colab_type": "code",
    "id": "qVsbnkB-1v6T",
    "outputId": "80d17652-1b74-4cc6-b8a6-6b611e3a1bfe",
    "scrolled": true
   },
   "outputs": [
    {
     "ename": "FileNotFoundError",
     "evalue": "[Errno 2] No such file or directory: 'data/CM.mayes.2016.oscn'",
     "output_type": "error",
     "traceback": [
      "\u001b[0;31m---------------------------------------------------------------------------\u001b[0m",
      "\u001b[0;31mFileNotFoundError\u001b[0m                         Traceback (most recent call last)",
      "\u001b[0;32m<ipython-input-5-f367fbfc724e>\u001b[0m in \u001b[0;36m<module>\u001b[0;34m()\u001b[0m\n\u001b[1;32m      8\u001b[0m     \u001b[0;32mfor\u001b[0m \u001b[0mtype\u001b[0m \u001b[0;32min\u001b[0m \u001b[0mtypes\u001b[0m\u001b[0;34m:\u001b[0m\u001b[0;34m\u001b[0m\u001b[0;34m\u001b[0m\u001b[0m\n\u001b[1;32m      9\u001b[0m       \u001b[0mfile_name\u001b[0m \u001b[0;34m=\u001b[0m \u001b[0;34mf'data/{type}.{county}.{year}.oscn'\u001b[0m\u001b[0;34m\u001b[0m\u001b[0;34m\u001b[0m\u001b[0m\n\u001b[0;32m---> 10\u001b[0;31m       \u001b[0mnew_cases\u001b[0m \u001b[0;34m=\u001b[0m \u001b[0mpickle\u001b[0m\u001b[0;34m.\u001b[0m\u001b[0mload\u001b[0m\u001b[0;34m(\u001b[0m\u001b[0mopen\u001b[0m\u001b[0;34m(\u001b[0m\u001b[0mfile_name\u001b[0m\u001b[0;34m,\u001b[0m \u001b[0;34m'rb'\u001b[0m\u001b[0;34m)\u001b[0m\u001b[0;34m)\u001b[0m\u001b[0;34m\u001b[0m\u001b[0;34m\u001b[0m\u001b[0m\n\u001b[0m\u001b[1;32m     11\u001b[0m       \u001b[0mnew_case_count\u001b[0m \u001b[0;34m=\u001b[0m \u001b[0mlen\u001b[0m\u001b[0;34m(\u001b[0m\u001b[0mnew_cases\u001b[0m\u001b[0;34m)\u001b[0m\u001b[0;34m\u001b[0m\u001b[0;34m\u001b[0m\u001b[0m\n\u001b[1;32m     12\u001b[0m       \u001b[0mcase_count\u001b[0m \u001b[0;34m+=\u001b[0m \u001b[0mnew_case_count\u001b[0m\u001b[0;34m\u001b[0m\u001b[0;34m\u001b[0m\u001b[0m\n",
      "\u001b[0;31mFileNotFoundError\u001b[0m: [Errno 2] No such file or directory: 'data/CM.mayes.2016.oscn'"
     ]
    }
   ],
   "source": [
    "import pickle\n",
    "\n",
    "case_count =0 \n",
    "saved_cases =[]\n",
    "\n",
    "for county in counties:\n",
    "  for year in years:\n",
    "    for type in types:      \n",
    "      file_name = f'data/{type}.{county}.{year}.oscn'\n",
    "      new_cases = pickle.load(open(file_name, 'rb'))\n",
    "      new_case_count = len(new_cases)\n",
    "      case_count += new_case_count\n",
    "      print(f'{file_name} added {new_case_count}')\n",
    "      saved_cases += new_cases\n",
    "        \n",
    "print(f'counted case: {case_count} length saved {len(saved_cases)}')\n"
   ]
  },
  {
   "cell_type": "markdown",
   "metadata": {},
   "source": [
    "## Create a pandas dataframe"
   ]
  },
  {
   "cell_type": "code",
   "execution_count": null,
   "metadata": {
    "colab": {
     "base_uri": "https://localhost:8080/",
     "height": 35
    },
    "colab_type": "code",
    "id": "gbDCRWzhxVSh",
    "outputId": "a61c3a75-95c9-4c5f-d15f-94a051809a45"
   },
   "outputs": [],
   "source": [
    "import re\n",
    "import numpy as np\n",
    "import pandas as pd\n",
    "\n",
    "columns = ['Filed','County','Type', 'CaseNumber', 'Docket','Source']\n",
    "case_data = lambda c: [c.filed, c.county, c.type, c.case_number, c.docket, c.source]\n",
    "%time all_cases = pd.DataFrame([case_data(c) for c in saved_cases], columns = columns)"
   ]
  },
  {
   "cell_type": "code",
   "execution_count": null,
   "metadata": {
    "scrolled": true
   },
   "outputs": [],
   "source": [
    "all_cases.groupby(['County']).count()"
   ]
  },
  {
   "cell_type": "code",
   "execution_count": null,
   "metadata": {},
   "outputs": [],
   "source": [
    "minute_list = lambda docket:[minute.description for minute in docket ] if docket else []\n",
    "\n",
    "all_cases['Minutes'] = [minute_list(docket) for docket in all_cases['Docket'] ] "
   ]
  },
  {
   "cell_type": "markdown",
   "metadata": {},
   "source": [
    "## Expand minutes"
   ]
  },
  {
   "cell_type": "code",
   "execution_count": null,
   "metadata": {
    "scrolled": true
   },
   "outputs": [],
   "source": [
    "# convert the date from a string to a python DateTime type\n",
    "all_cases['FiledDate'] = pd.to_datetime(all_cases['Filed'])\n",
    "\n",
    "# create a map to all the existing non Count data\n",
    "\n",
    "safe_len = lambda counts: len(counts) if counts else 0\n",
    "lens = all_cases['Minutes'].apply(safe_len)\n",
    "vals = range(all_cases.shape[0])\n",
    "ilocations = np.repeat(vals, lens)\n",
    "\n",
    "# get the index of all non Count columns\n",
    "cols = [i for i,c in enumerate(all_cases.columns) if c != 'Minutes']\n",
    "# create a new expanded data frame and copy the old data\n",
    "count_frame = all_cases.iloc[ilocations, cols].copy()\n",
    "\n",
    "# Create a new column with the exanded data\n",
    "# count_desc = [item for sublist in all_cases['Counts'] for item in sublist] \n",
    "\n",
    "description = lambda count: count['description'] if count else \"\"\n",
    "safe_counts = lambda counts: counts if counts else {}\n",
    "count_frame['Minute'] = [minute for minutes in all_cases['Minutes'] for minute in minutes ]\n",
    "# count_frame.reset_index()\n",
    "count_frame.count()"
   ]
  },
  {
   "cell_type": "markdown",
   "metadata": {},
   "source": [
    "### Count of counts"
   ]
  },
  {
   "cell_type": "code",
   "execution_count": null,
   "metadata": {},
   "outputs": [],
   "source": [
    "# count_frame.drop(['Count'])\n",
    "count_frame.head()\n",
    "\n"
   ]
  },
  {
   "cell_type": "markdown",
   "metadata": {},
   "source": [
    "### Distribution of single count cases"
   ]
  },
  {
   "cell_type": "code",
   "execution_count": null,
   "metadata": {},
   "outputs": [],
   "source": [
    "import spacy\n",
    "nlp = spacy.load('en')\n",
    "from nltk.corpus import stopwords\n",
    "stopwords = stopwords.words('english')\n",
    "import string\n",
    "punctuations = string.punctuation\n",
    "\n",
    "document = lambda count: nlp(count, disable=['parser', 'ner'])\n",
    "tokens =  lambda count: [tok.lemma_.lower().strip() for tok in document(count) if tok.lemma_ != '-PRON-']\n",
    "clean_tokens = lambda count: [tok for tok in tokens(count) if tok not in stopwords and tok not in punctuations]\n",
    "\n",
    "%time count_frame['Tokens'] = count_frame['Minute'].apply(clean_tokens)\n",
    "\n",
    "count_frame.head(10)"
   ]
  },
  {
   "cell_type": "code",
   "execution_count": null,
   "metadata": {},
   "outputs": [],
   "source": [
    "count_frame.describe()"
   ]
  },
  {
   "cell_type": "code",
   "execution_count": null,
   "metadata": {},
   "outputs": [],
   "source": [
    "import gensim\n",
    "from gensim import corpora, models\n",
    "\n",
    "dictionary = corpora.Dictionary(count_frame['Tokens'])\n",
    "corpus = [dictionary.doc2bow(doc) for doc in count_frame['Tokens']]\n",
    "lda_model = gensim.models.ldamodel.LdaModel(corpus, num_topics = 10, id2word=dictionary, passes=10)\n"
   ]
  },
  {
   "cell_type": "code",
   "execution_count": null,
   "metadata": {},
   "outputs": [],
   "source": [
    "[c for c in lda_model.print_topics(num_topics=20, num_words=3)]"
   ]
  },
  {
   "cell_type": "code",
   "execution_count": null,
   "metadata": {},
   "outputs": [],
   "source": [
    "import pyLDAvis\n",
    "import pyLDAvis.gensim  # don't skip this\n",
    "import matplotlib.pyplot as plt\n",
    "%matplotlib inline"
   ]
  },
  {
   "cell_type": "code",
   "execution_count": null,
   "metadata": {},
   "outputs": [],
   "source": [
    "pyLDAvis.enable_notebook()\n",
    "vis = pyLDAvis.gensim.prepare(lda_model, corpus, dictionary)\n",
    "vis"
   ]
  },
  {
   "cell_type": "code",
   "execution_count": null,
   "metadata": {},
   "outputs": [],
   "source": []
  }
 ],
 "metadata": {
  "colab": {
   "name": "delaware county pro se.ipynb",
   "provenance": [],
   "toc_visible": true,
   "version": "0.3.2"
  },
  "kernelspec": {
   "display_name": "Python 3",
   "language": "python",
   "name": "python3"
  },
  "language_info": {
   "codemirror_mode": {
    "name": "ipython",
    "version": 3
   },
   "file_extension": ".py",
   "mimetype": "text/x-python",
   "name": "python",
   "nbconvert_exporter": "python",
   "pygments_lexer": "ipython3",
   "version": "3.6.7"
  }
 },
 "nbformat": 4,
 "nbformat_minor": 1
}
