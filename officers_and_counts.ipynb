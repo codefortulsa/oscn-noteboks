{
 "cells": [
  {
   "cell_type": "markdown",
   "metadata": {},
   "source": [
    "[View in Colaboratory](https://colab.research.google.com/github/jdungan/oscn-notebooks/blob/master/criminal_justice_summit.ipynb)"
   ]
  },
  {
   "cell_type": "markdown",
   "metadata": {},
   "source": [
    "# Analysis of Counts by Officers"
   ]
  },
  {
   "cell_type": "code",
   "execution_count": 23,
   "metadata": {},
   "outputs": [
    {
     "name": "stdout",
     "output_type": "stream",
     "text": [
      "Collecting oscn==0.0.0.20\n",
      "  Using cached https://files.pythonhosted.org/packages/1c/3b/5d19b769d859a53d079a482b8731042071fe0c77e52a506e65f534419177/oscn-0.0.0.20-py3-none-any.whl\n",
      "Requirement already satisfied: requests in /Users/owner/projects/python_envs/oscn/lib/python3.6/site-packages (from oscn==0.0.0.20) (2.19.1)\n",
      "Requirement already satisfied: beautifulsoup4 in /Users/owner/projects/python_envs/oscn/lib/python3.6/site-packages (from oscn==0.0.0.20) (4.6.0)\n",
      "Requirement already satisfied: urllib3<1.24,>=1.21.1 in /Users/owner/projects/python_envs/oscn/lib/python3.6/site-packages (from requests->oscn==0.0.0.20) (1.23)\n",
      "Requirement already satisfied: certifi>=2017.4.17 in /Users/owner/projects/python_envs/oscn/lib/python3.6/site-packages (from requests->oscn==0.0.0.20) (2018.4.16)\n",
      "Requirement already satisfied: chardet<3.1.0,>=3.0.2 in /Users/owner/projects/python_envs/oscn/lib/python3.6/site-packages (from requests->oscn==0.0.0.20) (3.0.4)\n",
      "Requirement already satisfied: idna<2.8,>=2.5 in /Users/owner/projects/python_envs/oscn/lib/python3.6/site-packages (from requests->oscn==0.0.0.20) (2.7)\n",
      "Installing collected packages: oscn\n",
      "Successfully installed oscn-0.0.0.20\n"
     ]
    }
   ],
   "source": [
    "# !pip uninstall -y oscn\n",
    "!pip install oscn==0.0.0.20\n"
   ]
  },
  {
   "cell_type": "markdown",
   "metadata": {},
   "source": [
    "## Request and save cases from Rogers and Love \n",
    "\n",
    "\n",
    "### Step 1. Define the data to request"
   ]
  },
  {
   "cell_type": "code",
   "execution_count": 49,
   "metadata": {},
   "outputs": [],
   "source": [
    "import oscn\n",
    "cases = oscn.request.CaseList(county='adair', year='2017', type='CF', stop=50)\n"
   ]
  },
  {
   "cell_type": "markdown",
   "metadata": {},
   "source": [
    "### Step 2.  Request and save the cases\n"
   ]
  },
  {
   "cell_type": "code",
   "execution_count": 50,
   "metadata": {},
   "outputs": [
    {
     "name": "stdout",
     "output_type": "stream",
     "text": [
      "CF-2017-1\n",
      "CF-2017-2\n",
      "CF-2017-3\n",
      "CF-2017-4\n",
      "CF-2017-5\n",
      "CF-2017-6\n",
      "CF-2017-7\n",
      "CF-2017-8\n",
      "CF-2017-9\n",
      "CF-2017-10\n",
      "CF-2017-11\n",
      "CF-2017-12\n",
      "CF-2017-13\n",
      "CF-2017-14\n",
      "CF-2017-15\n",
      "CF-2017-16\n",
      "CF-2017-17\n",
      "CF-2017-18\n",
      "CF-2017-19\n",
      "CF-2017-20\n",
      "CF-2017-21\n",
      "CF-2017-22\n",
      "CF-2017-23\n",
      "CF-2017-24\n",
      "CF-2017-25\n",
      "CF-2017-26\n",
      "CF-2017-27\n",
      "CF-2017-28\n",
      "CF-2017-29\n",
      "CF-2017-30\n",
      "CF-2017-31\n",
      "CF-2017-32\n",
      "CF-2017-33\n",
      "CF-2017-34\n",
      "CF-2017-35\n",
      "CF-2017-36\n",
      "CF-2017-37\n",
      "CF-2017-38\n",
      "CF-2017-39\n",
      "CF-2017-40\n",
      "CF-2017-41\n",
      "CF-2017-42\n",
      "CF-2017-43\n",
      "CF-2017-44\n",
      "CF-2017-45\n",
      "CF-2017-46\n",
      "CF-2017-47\n",
      "CF-2017-48\n",
      "CF-2017-49\n",
      "CF-2017-50\n",
      "CF.adair.2017.pckl                criminal_justice_summit.ipynb\n",
      "CF.harper.2017.pckl               \u001b[34mdata\u001b[m\u001b[m\n",
      "README.md                         delaware_county_pro_se.ipynb\n",
      "Searching_count_description.ipynb officers_and_counts.ipynb\n",
      "arresting_agency-Copy1.ipynb      oscn_example.ipynb\n",
      "arresting_agency.ipynb\n"
     ]
    }
   ],
   "source": [
    "import pickle\n",
    "\n",
    "all_cases = [c for c in cases]\n",
    "f = open(f'CF.adair.2017.pckl', 'wb')\n",
    "pickle.dump(all_cases, f)\n",
    "f.close()\n",
    "!ls"
   ]
  },
  {
   "cell_type": "markdown",
   "metadata": {},
   "source": [
    "### Step 2.  Retrieve the data from saved files"
   ]
  },
  {
   "cell_type": "code",
   "execution_count": 51,
   "metadata": {},
   "outputs": [
    {
     "name": "stdout",
     "output_type": "stream",
     "text": [
      "CF.adair.2017.pckl\n",
      " added 50\n",
      "counted case: 50 length saved 50\n"
     ]
    }
   ],
   "source": [
    "\n",
    "\n",
    "import pickle\n",
    "\n",
    "\n",
    "saved_cases = []\n",
    "case_count =0 \n",
    "file_name = f'CF.adair.2017.pckl'\n",
    "print(file_name)\n",
    "new_cases = pickle.load(open(file_name, 'rb'))\n",
    "new_case_count = len(new_cases)\n",
    "case_count += new_case_count\n",
    "print(f' added {new_case_count}')\n",
    "saved_cases += new_cases\n",
    "        \n",
    "print(f'counted case: {case_count} length saved {len(saved_cases)}')\n"
   ]
  },
  {
   "cell_type": "markdown",
   "metadata": {},
   "source": [
    "### Step 3.  Load the data for analysis\n",
    "This takes about 8 minutes"
   ]
  },
  {
   "cell_type": "code",
   "execution_count": 52,
   "metadata": {},
   "outputs": [
    {
     "name": "stdout",
     "output_type": "stream",
     "text": [
      "CPU times: user 1.08 ms, sys: 181 µs, total: 1.26 ms\n",
      "Wall time: 1.27 ms\n"
     ]
    }
   ],
   "source": [
    "import numpy as np\n",
    "\n",
    "import pandas as pd\n",
    "\n",
    "\n",
    "columns = ['Year','County','Type','Agency','Case Number', 'Count']\n",
    "\n",
    "\n",
    "\n",
    "def agency(case):\n",
    "  agency_desc = 'ARRESTING AGENCY'\n",
    "  for p in case.parties:\n",
    "    if agency_desc in p['type']:\n",
    "      return p['name']\n",
    "  return 'UNKNOWN'\n",
    "\n",
    "  \n",
    "count_data = lambda c, desc: [c.year, c.county, c.type, agency(c), c.case_number, desc ]\n",
    "\n",
    "panda_data = []\n",
    "for case in saved_cases:\n",
    "    for count in case.counts:\n",
    "#         print(count['description'])\n",
    "        panda_data.append(count_data(case, count['description']))\n",
    "\n",
    "%time df = pd.DataFrame(panda_data, columns = columns)"
   ]
  },
  {
   "cell_type": "code",
   "execution_count": 53,
   "metadata": {},
   "outputs": [
    {
     "data": {
      "text/plain": [
       "<matplotlib.axes._subplots.AxesSubplot at 0x11421d630>"
      ]
     },
     "execution_count": 53,
     "metadata": {},
     "output_type": "execute_result"
    },
    {
     "data": {
      "image/png": "[encoded data removed]",
      "text/plain": [
       "<Figure size 360x360 with 1 Axes>"
      ]
     },
     "metadata": {},
     "output_type": "display_data"
    }
   ],
   "source": [
    "import numpy as np\n",
    "\n",
    "import pandas as pd\n",
    "import matplotlib.pyplot as plt\n",
    "\n",
    "\n",
    "\n",
    "df['Year'].value_counts()\n",
    "# df['Type'].value_counts()\n",
    "# df['Agency'].value_counts()\n",
    "# df.filter(like='LIGHTHORSE',axis=0)\n",
    "# qf = df.query(\"Type == 'CF'\")\n",
    "\n",
    "top_ten = df['Count'].value_counts().head(10)\n",
    "\n",
    "\n",
    "top_ten.plot.pie(y='Count', figsize=(5, 5))\n"
   ]
  },
  {
   "cell_type": "code",
   "execution_count": null,
   "metadata": {},
   "outputs": [],
   "source": [
    "\n"
   ]
  }
 ],
 "metadata": {
  "kernelspec": {
   "display_name": "Python 3",
   "language": "python",
   "name": "python3"
  },
  "language_info": {
   "codemirror_mode": {
    "name": "ipython",
    "version": 3
   },
   "file_extension": ".py",
   "mimetype": "text/x-python",
   "name": "python",
   "nbconvert_exporter": "python",
   "pygments_lexer": "ipython3",
   "version": "3.6.5"
  }
 },
 "nbformat": 4,
 "nbformat_minor": 2
}
