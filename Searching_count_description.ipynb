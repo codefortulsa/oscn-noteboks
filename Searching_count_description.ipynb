{
 "cells": [
  {
   "cell_type": "markdown",
   "metadata": {
    "colab_type": "text",
    "id": "view-in-github"
   },
   "source": [
    "[View in Colaboratory](https://colab.research.google.com/github/jdungan/oscn-notebooks/blob/master/Searching_count_description.ipynb)"
   ]
  },
  {
   "cell_type": "markdown",
   "metadata": {
    "colab_type": "text",
    "id": "hAuCbCPTIxuD"
   },
   "source": [
    "# OSCN search\n",
    "\n",
    "Finds and display pages"
   ]
  },
  {
   "cell_type": "code",
   "execution_count": 1,
   "metadata": {
    "colab": {
     "base_uri": "https://localhost:8080/",
     "height": 193
    },
    "colab_type": "code",
    "id": "pY7saG1dIwaC",
    "outputId": "20766e37-d569-4a4b-bcad-384de8f6be3c"
   },
   "outputs": [
    {
     "name": "stdout",
     "output_type": "stream",
     "text": [
      "Collecting oscn\n",
      "  Downloading https://files.pythonhosted.org/packages/84/ef/a12ae07f95b407c2cce90c83ec62d48997ab159341ae1364c70812f3dfa4/oscn-0.0.0.13-py3-none-any.whl\n",
      "Requirement already satisfied: requests in /usr/local/lib/python3.6/dist-packages (from oscn) (2.18.4)\n",
      "Requirement already satisfied: beautifulsoup4 in /usr/local/lib/python3.6/dist-packages (from oscn) (4.6.1)\n",
      "Requirement already satisfied: certifi>=2017.4.17 in /usr/local/lib/python3.6/dist-packages (from requests->oscn) (2018.4.16)\n",
      "Requirement already satisfied: idna<2.7,>=2.5 in /usr/local/lib/python3.6/dist-packages (from requests->oscn) (2.6)\n",
      "Requirement already satisfied: chardet<3.1.0,>=3.0.2 in /usr/local/lib/python3.6/dist-packages (from requests->oscn) (3.0.4)\n",
      "Requirement already satisfied: urllib3<1.23,>=1.21.1 in /usr/local/lib/python3.6/dist-packages (from requests->oscn) (1.22)\n",
      "Installing collected packages: oscn\n",
      "Successfully installed oscn-0.0.0.13\n"
     ]
    }
   ],
   "source": [
    "import IPython\n",
    "\n",
    "!pip install oscn\n",
    "import oscn\n"
   ]
  },
  {
   "cell_type": "code",
   "execution_count": 0,
   "metadata": {
    "colab": {},
    "colab_type": "code",
    "id": "2GIjxAtTogGP"
   },
   "outputs": [],
   "source": [
    "cases = oscn.request.CaseList(county='bryan', year='2018', stop=60)\n",
    "\n",
    "# Create a test function\n",
    "count_text = 'OBSTRUCT'\n",
    "def count_test(counts):\n",
    "    for count in counts:\n",
    "        if count_text in count['description']:\n",
    "            return True\n",
    "    return False\n",
    "\n",
    "# define the Case attr to test and the function to use\n",
    "\n",
    "cases = oscn.request.CaseList(county='bryan', year='2018', stop=60).find(counts=count_test)\n"
   ]
  },
  {
   "cell_type": "code",
   "execution_count": 5,
   "metadata": {
    "colab": {
     "base_uri": "https://localhost:8080/",
     "height": 375
    },
    "colab_type": "code",
    "id": "Sd58NZdLPh0Z",
    "outputId": "ea3dad44-f3ed-41d4-e498-7c5d5d99fba3"
   },
   "outputs": [
    {
     "data": {
      "text/html": [
       "<iframe src=https://www.oscn.net/dockets/GetCaseInformation.aspx?db=bryan&number=CF-2018-4 width=700 height=350></iframe>"
      ],
      "text/plain": [
       "<IPython.core.display.HTML object>"
      ]
     },
     "execution_count": 5,
     "metadata": {
      "tags": []
     },
     "output_type": "execute_result"
    }
   ],
   "source": [
    "\n",
    "case = next(cases)\n",
    "iframe = '<iframe src=' + case.source + ' width=700 height=350></iframe>'\n",
    "IPython.display.HTML(iframe)"
   ]
  },
  {
   "cell_type": "code",
   "execution_count": 0,
   "metadata": {
    "colab": {},
    "colab_type": "code",
    "id": "fIEZlrn-oWfW"
   },
   "outputs": [],
   "source": []
  }
 ],
 "metadata": {
  "colab": {
   "include_colab_link": true,
   "name": "Searching count description.ipynb",
   "provenance": [],
   "version": "0.3.2"
  },
  "kernelspec": {
   "display_name": "Python 3",
   "language": "python",
   "name": "python3"
  },
  "language_info": {
   "codemirror_mode": {
    "name": "ipython",
    "version": 3
   },
   "file_extension": ".py",
   "mimetype": "text/x-python",
   "name": "python",
   "nbconvert_exporter": "python",
   "pygments_lexer": "ipython3",
   "version": "3.6.5"
  }
 },
 "nbformat": 4,
 "nbformat_minor": 1
}
