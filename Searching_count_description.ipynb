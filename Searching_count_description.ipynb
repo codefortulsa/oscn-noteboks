{
  "nbformat": 4,
  "nbformat_minor": 0,
  "metadata": {
    "colab": {
      "name": "Searching count description.ipynb",
      "version": "0.3.2",
      "provenance": [],
      "include_colab_link": true
    },
    "kernelspec": {
      "name": "python3",
      "display_name": "Python 3"
    }
  },
  "cells": [
    {
      "cell_type": "markdown",
      "metadata": {
        "id": "view-in-github",
        "colab_type": "text"
      },
      "source": [
        "[View in Colaboratory](https://colab.research.google.com/github/jdungan/oscn-notebooks/blob/master/Searching_count_description.ipynb)"
      ]
    },
    {
      "metadata": {
        "id": "hAuCbCPTIxuD",
        "colab_type": "text"
      },
      "cell_type": "markdown",
      "source": [
        "# OSCN search\n",
        "\n",
        "Finds and display pages"
      ]
    },
    {
      "metadata": {
        "id": "pY7saG1dIwaC",
        "colab_type": "code",
        "colab": {
          "base_uri": "https://localhost:8080/",
          "height": 193
        },
        "outputId": "20766e37-d569-4a4b-bcad-384de8f6be3c"
      },
      "cell_type": "code",
      "source": [
        "import IPython\n",
        "\n",
        "!pip install oscn\n",
        "import oscn\n"
      ],
      "execution_count": 1,
      "outputs": [
        {
          "output_type": "stream",
          "text": [
            "Collecting oscn\n",
            "  Downloading https://files.pythonhosted.org/packages/84/ef/a12ae07f95b407c2cce90c83ec62d48997ab159341ae1364c70812f3dfa4/oscn-0.0.0.13-py3-none-any.whl\n",
            "Requirement already satisfied: requests in /usr/local/lib/python3.6/dist-packages (from oscn) (2.18.4)\n",
            "Requirement already satisfied: beautifulsoup4 in /usr/local/lib/python3.6/dist-packages (from oscn) (4.6.1)\n",
            "Requirement already satisfied: certifi>=2017.4.17 in /usr/local/lib/python3.6/dist-packages (from requests->oscn) (2018.4.16)\n",
            "Requirement already satisfied: idna<2.7,>=2.5 in /usr/local/lib/python3.6/dist-packages (from requests->oscn) (2.6)\n",
            "Requirement already satisfied: chardet<3.1.0,>=3.0.2 in /usr/local/lib/python3.6/dist-packages (from requests->oscn) (3.0.4)\n",
            "Requirement already satisfied: urllib3<1.23,>=1.21.1 in /usr/local/lib/python3.6/dist-packages (from requests->oscn) (1.22)\n",
            "Installing collected packages: oscn\n",
            "Successfully installed oscn-0.0.0.13\n"
          ],
          "name": "stdout"
        }
      ]
    },
    {
      "metadata": {
        "id": "2GIjxAtTogGP",
        "colab_type": "code",
        "colab": {}
      },
      "cell_type": "code",
      "source": [
        "cases = oscn.request.CaseList(county='bryan', year='2018', stop=60)\n",
        "\n",
        "# Create a test function\n",
        "count_text = 'OBSTRUCT'\n",
        "def count_test(counts):\n",
        "    for count in counts:\n",
        "        if count_text in count['description']:\n",
        "            return True\n",
        "    return False\n",
        "\n",
        "# define the Case attr to test and the function to use\n",
        "\n",
        "cases = oscn.request.CaseList(county='bryan', year='2018', stop=60).find(counts=count_test)\n"
      ],
      "execution_count": 0,
      "outputs": []
    },
    {
      "metadata": {
        "id": "Sd58NZdLPh0Z",
        "colab_type": "code",
        "colab": {
          "base_uri": "https://localhost:8080/",
          "height": 375
        },
        "outputId": "ea3dad44-f3ed-41d4-e498-7c5d5d99fba3"
      },
      "cell_type": "code",
      "source": [
        "\n",
        "case = next(cases)\n",
        "iframe = '<iframe src=' + case.source + ' width=700 height=350></iframe>'\n",
        "IPython.display.HTML(iframe)"
      ],
      "execution_count": 5,
      "outputs": [
        {
          "output_type": "execute_result",
          "data": {
            "text/html": [
              "<iframe src=https://www.oscn.net/dockets/GetCaseInformation.aspx?db=bryan&number=CF-2018-4 width=700 height=350></iframe>"
            ],
            "text/plain": [
              "<IPython.core.display.HTML object>"
            ]
          },
          "metadata": {
            "tags": []
          },
          "execution_count": 5
        }
      ]
    },
    {
      "metadata": {
        "id": "fIEZlrn-oWfW",
        "colab_type": "code",
        "colab": {}
      },
      "cell_type": "code",
      "source": [
        ""
      ],
      "execution_count": 0,
      "outputs": []
    }
  ]
}