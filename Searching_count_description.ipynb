{
  "nbformat": 4,
  "nbformat_minor": 0,
  "metadata": {
    "colab": {
      "name": "Searching count description.ipynb",
      "version": "0.3.2",
      "provenance": [],
      "include_colab_link": true
    },
    "kernelspec": {
      "name": "python3",
      "display_name": "Python 3"
    }
  },
  "cells": [
    {
      "cell_type": "markdown",
      "metadata": {
        "id": "view-in-github",
        "colab_type": "text"
      },
      "source": [
        "[View in Colaboratory](https://colab.research.google.com/github/jdungan/oscn-notebooks/blob/master/Searching_count_description.ipynb)"
      ]
    },
    {
      "metadata": {
        "id": "hAuCbCPTIxuD",
        "colab_type": "text"
      },
      "cell_type": "markdown",
      "source": [
        "# OSCN search\n",
        "\n",
        "Finds and display pages"
      ]
    },
    {
      "metadata": {
        "id": "pY7saG1dIwaC",
        "colab_type": "code",
        "colab": {}
      },
      "cell_type": "code",
      "source": [
        "import IPython\n",
        "\n",
        "!pip install oscn\n",
        "import oscn\n"
      ],
      "execution_count": 0,
      "outputs": []
    },
    {
      "metadata": {
        "id": "2GIjxAtTogGP",
        "colab_type": "code",
        "colab": {}
      },
      "cell_type": "code",
      "source": [
        "cases = oscn.request.CaseList(county='bryan', year='2018', stop=60)\n",
        "\n",
        "# Create a test function\n",
        "count_text = 'OBSTRUCT'\n",
        "def count_test(counts):\n",
        "    for count in counts:\n",
        "        if count_text in count['description']:\n",
        "            return True\n",
        "    return False\n",
        "\n",
        "# define the Case attr to test and the function to use\n",
        "\n",
        "cases = oscn.request.CaseList(county='bryan', year='2018', stop=60)\n",
        "cases.find(counts=count_test)\n"
      ],
      "execution_count": 0,
      "outputs": []
    },
    {
      "metadata": {
        "id": "Sd58NZdLPh0Z",
        "colab_type": "code",
        "colab": {
          "base_uri": "https://localhost:8080/",
          "height": 375
        },
        "outputId": "6ae784f4-3d05-4b6b-d7b9-000e3f75ae44"
      },
      "cell_type": "code",
      "source": [
        "\n",
        "case = cases.__next__()\n",
        "iframe = '<iframe src=' + case.source + ' width=700 height=350></iframe>'\n",
        "IPython.display.HTML(iframe)"
      ],
      "execution_count": 14,
      "outputs": [
        {
          "output_type": "execute_result",
          "data": {
            "text/html": [
              "<iframe src=https://www.oscn.net/dockets/GetCaseInformation.aspx?db=bryan&number=CF-2018-51 width=700 height=350></iframe>"
            ],
            "text/plain": [
              "<IPython.core.display.HTML object>"
            ]
          },
          "metadata": {
            "tags": []
          },
          "execution_count": 14
        }
      ]
    },
    {
      "metadata": {
        "id": "fIEZlrn-oWfW",
        "colab_type": "code",
        "colab": {}
      },
      "cell_type": "code",
      "source": [
        ""
      ],
      "execution_count": 0,
      "outputs": []
    }
  ]
}