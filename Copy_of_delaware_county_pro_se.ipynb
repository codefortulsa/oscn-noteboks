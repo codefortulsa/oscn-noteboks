{
  "nbformat": 4,
  "nbformat_minor": 0,
  "metadata": {
    "colab": {
      "name": "Copy of delaware county pro se.ipynb",
      "version": "0.3.2",
      "provenance": [],
      "collapsed_sections": [],
      "toc_visible": true,
      "include_colab_link": true
    },
    "kernelspec": {
      "name": "python3",
      "display_name": "Python 3"
    }
  },
  "cells": [
    {
      "cell_type": "markdown",
      "metadata": {
        "id": "view-in-github",
        "colab_type": "text"
      },
      "source": [
        "[View in Colaboratory](https://colab.research.google.com/github/jdungan/oscn-notebooks/blob/master/Copy_of_delaware_county_pro_se.ipynb)"
      ]
    },
    {
      "metadata": {
        "id": "r4YClOh81xIu",
        "colab_type": "text"
      },
      "cell_type": "markdown",
      "source": [
        "# **Pro Se Cases in Delaware County**"
      ]
    },
    {
      "metadata": {
        "id": "5LBBUqGyJQ8Q",
        "colab_type": "text"
      },
      "cell_type": "markdown",
      "source": [
        "### Set up environment"
      ]
    },
    {
      "metadata": {
        "id": "bpG2zPdyJNtf",
        "colab_type": "code",
        "colab": {
          "base_uri": "https://localhost:8080/",
          "height": 159
        },
        "outputId": "982aa871-e599-4987-9806-ca8afa66018f"
      },
      "cell_type": "code",
      "source": [
        "!pip install oscn\n",
        "\n",
        "import oscn"
      ],
      "execution_count": 6,
      "outputs": [
        {
          "output_type": "stream",
          "text": [
            "Requirement already satisfied: oscn in /usr/local/lib/python3.6/dist-packages (0.0.0.9)\r\n",
            "Requirement already satisfied: requests in /usr/local/lib/python3.6/dist-packages (from oscn) (2.18.4)\r\n",
            "Requirement already satisfied: beautifulsoup4 in /usr/local/lib/python3.6/dist-packages (from oscn) (4.6.1)\r\n",
            "Requirement already satisfied: chardet<3.1.0,>=3.0.2 in /usr/local/lib/python3.6/dist-packages (from requests->oscn) (3.0.4)\r\n",
            "Requirement already satisfied: certifi>=2017.4.17 in /usr/local/lib/python3.6/dist-packages (from requests->oscn) (2018.4.16)\r\n",
            "Requirement already satisfied: urllib3<1.23,>=1.21.1 in /usr/local/lib/python3.6/dist-packages (from requests->oscn) (1.22)\n",
            "Requirement already satisfied: idna<2.7,>=2.5 in /usr/local/lib/python3.6/dist-packages (from requests->oscn) (2.6)\n"
          ],
          "name": "stdout"
        }
      ]
    },
    {
      "metadata": {
        "id": "SpYkP0g316dT",
        "colab_type": "text"
      },
      "cell_type": "markdown",
      "source": [
        "### Step 1.  Collect all CM and CF cases in Delaware county in 2017 and 2018"
      ]
    },
    {
      "metadata": {
        "id": "HJKxeJg2OB5W",
        "colab_type": "code",
        "colab": {
          "base_uri": "https://localhost:8080/",
          "height": 69
        },
        "outputId": "46fd5aad-76e6-41f1-eb3a-2bfef304d708"
      },
      "cell_type": "code",
      "source": [
        "\n",
        "\n",
        "cm_cases = oscn.request.CaseList(type='CM', county='delaware', year=['2017', '2018'])\n",
        "cf_cases = oscn.request.CaseList(type=\"CF\", county='delaware', year=['2017', '2018'])\n",
        "\n",
        "case_details = lambda case: {'case_number': case.case_number, 'docket': case.docket}\n",
        "    \n",
        "cm_dockets = [case_details(c) for c in cm_cases]\n",
        "cf_dockets = [case_details(c) for c in cf_cases]\n",
        "\n",
        "all_dockets = cm_dockets + cf_dockets\n",
        "\n",
        "print(f'CM dockets: {len(cm_dockets)}')\n",
        "print(f'CF dockets: {len(cf_dockets)}')\n",
        "print(f'ALL dockets: {len(all_dockets)}')\n"
      ],
      "execution_count": 7,
      "outputs": [
        {
          "output_type": "stream",
          "text": [
            "CM dockets: 32\n",
            "CF dockets: 43\n",
            "ALL dockets: 75\n"
          ],
          "name": "stdout"
        }
      ]
    },
    {
      "metadata": {
        "id": "tI-TYfn6HXEv",
        "colab_type": "code",
        "colab": {
          "base_uri": "https://localhost:8080/",
          "height": 34
        },
        "outputId": "9d2ecab2-041e-4048-f067-177301037c4f"
      },
      "cell_type": "code",
      "source": [
        "%store all_dockets"
      ],
      "execution_count": 8,
      "outputs": [
        {
          "output_type": "stream",
          "text": [
            "Stored 'all_dockets' (list)\n"
          ],
          "name": "stdout"
        }
      ]
    },
    {
      "metadata": {
        "id": "CIqvWd132fQ_",
        "colab_type": "text"
      },
      "cell_type": "markdown",
      "source": [
        "### Step 2.  Find all pro se cases"
      ]
    },
    {
      "metadata": {
        "id": "Nx8il8iRIdMK",
        "colab_type": "code",
        "colab": {}
      },
      "cell_type": "code",
      "source": [
        "%store -r"
      ],
      "execution_count": 0,
      "outputs": []
    },
    {
      "metadata": {
        "id": "tqLRNIxFqbGQ",
        "colab_type": "code",
        "colab": {
          "base_uri": "https://localhost:8080/",
          "height": 52
        },
        "outputId": "fb8bd192-4646-4be8-ef80-878dc86a0307"
      },
      "cell_type": "code",
      "source": [
        "import re\n",
        "\n",
        "def is_pro_se(docket):\n",
        "  pro_se_re = re.compile(r'waive.*right.*attorney', re.IGNORECASE) \n",
        "  if docket: \n",
        "    for event in docket:\n",
        "      if pro_se_re.match(event.Description):\n",
        "        return True\n",
        "\n",
        "    \n",
        "pro_se_cases = [case for case in all_dockets\n",
        "                if is_pro_se(case['docket'])]\n",
        "\n",
        "    \n",
        "print(f'pro se cases: {len(pro_se_cases)}')    \n",
        "print(f'all cases: {len(all_dockets)}')\n",
        "  \n",
        "  "
      ],
      "execution_count": 5,
      "outputs": [
        {
          "output_type": "stream",
          "text": [
            "pro se cases: 11\n",
            "all cases: 75\n"
          ],
          "name": "stdout"
        }
      ]
    }
  ]
}