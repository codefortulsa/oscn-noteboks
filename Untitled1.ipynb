{
  "nbformat": 4,
  "nbformat_minor": 0,
  "metadata": {
    "colab": {
      "name": "Untitled1.ipynb",
      "version": "0.3.2",
      "provenance": [],
      "collapsed_sections": [],
      "include_colab_link": true
    },
    "kernelspec": {
      "name": "python3",
      "display_name": "Python 3"
    }
  },
  "cells": [
    {
      "cell_type": "markdown",
      "metadata": {
        "id": "view-in-github",
        "colab_type": "text"
      },
      "source": [
        "[View in Colaboratory](https://colab.research.google.com/github/jdungan/oscn-notebooks/blob/master/Untitled1.ipynb)"
      ]
    },
    {
      "metadata": {
        "id": "zAXG7gCcC4ID",
        "colab_type": "text"
      },
      "cell_type": "markdown",
      "source": [
        "Testing Count Descriptions with spaCy"
      ]
    },
    {
      "metadata": {
        "id": "RfyDN8rjClS2",
        "colab_type": "code",
        "colab": {
          "base_uri": "https://localhost:8080/",
          "height": 70
        },
        "outputId": "3d671952-2b72-4267-ad25-10ad3398ad79"
      },
      "cell_type": "code",
      "source": [
        "\n",
        "x = 'howdy'\n",
        "\n",
        "%store x\n",
        "\n",
        "%store"
      ],
      "execution_count": 2,
      "outputs": [
        {
          "output_type": "stream",
          "text": [
            "Stored 'x' (str)\n",
            "Stored variables and their in-db values:\n",
            "x             -> 'howdy'\n"
          ],
          "name": "stdout"
        }
      ]
    },
    {
      "metadata": {
        "id": "p1MUAnqUDRRa",
        "colab_type": "code",
        "colab": {}
      },
      "cell_type": "code",
      "source": [
        ""
      ],
      "execution_count": 0,
      "outputs": []
    }
  ]
}