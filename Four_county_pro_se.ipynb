{
 "cells": [
  {
   "cell_type": "markdown",
   "metadata": {
    "colab_type": "text",
    "id": "r4YClOh81xIu"
   },
   "source": [
    "# Comparision of Pro Se cases by county"
   ]
  },
  {
   "cell_type": "markdown",
   "metadata": {
    "colab_type": "text",
    "id": "5LBBUqGyJQ8Q"
   },
   "source": [
    "### Set up environment"
   ]
  },
  {
   "cell_type": "code",
   "execution_count": 1,
   "metadata": {
    "colab": {
     "base_uri": "https://localhost:8080/",
     "height": 213
    },
    "colab_type": "code",
    "id": "bpG2zPdyJNtf",
    "outputId": "bc9f2919-8c18-4b9a-95eb-fa50eb13d21b"
   },
   "outputs": [
    {
     "name": "stdout",
     "output_type": "stream",
     "text": [
      "Requirement already satisfied: oscn==0.0.0.25 in /Users/owner/projects/python_envs/oscn/src/oscn (0.0.0.25)\n",
      "Requirement already satisfied: requests in /Users/owner/projects/python_envs/oscn/lib/python3.6/site-packages (from oscn==0.0.0.25) (2.19.1)\n",
      "Requirement already satisfied: beautifulsoup4 in /Users/owner/projects/python_envs/oscn/lib/python3.6/site-packages (from oscn==0.0.0.25) (4.6.0)\n",
      "Requirement already satisfied: chardet<3.1.0,>=3.0.2 in /Users/owner/projects/python_envs/oscn/lib/python3.6/site-packages (from requests->oscn==0.0.0.25) (3.0.4)\n",
      "Requirement already satisfied: urllib3<1.24,>=1.21.1 in /Users/owner/projects/python_envs/oscn/lib/python3.6/site-packages (from requests->oscn==0.0.0.25) (1.23)\n",
      "Requirement already satisfied: certifi>=2017.4.17 in /Users/owner/projects/python_envs/oscn/lib/python3.6/site-packages (from requests->oscn==0.0.0.25) (2018.4.16)\n",
      "Requirement already satisfied: idna<2.8,>=2.5 in /Users/owner/projects/python_envs/oscn/lib/python3.6/site-packages (from requests->oscn==0.0.0.25) (2.7)\n"
     ]
    }
   ],
   "source": [
    "!pip install oscn==0.0.0.25\n",
    "\n",
    "import oscn"
   ]
  },
  {
   "cell_type": "markdown",
   "metadata": {
    "colab_type": "text",
    "id": "SpYkP0g316dT"
   },
   "source": [
    "### Set up the OSCN information needed"
   ]
  },
  {
   "cell_type": "code",
   "execution_count": 2,
   "metadata": {
    "colab": {},
    "colab_type": "code",
    "id": "ePxYAgknPIYw"
   },
   "outputs": [],
   "source": [
    "\n",
    "years = ['2016','2017','2018']\n",
    "counties = ['mayes', 'love','rogers','delaware']\n",
    "types =['CM','CF']\n",
    "\n"
   ]
  },
  {
   "cell_type": "markdown",
   "metadata": {},
   "source": [
    "### Request the cases from OSCN and save as files\n",
    "This takes a couple hours"
   ]
  },
  {
   "cell_type": "code",
   "execution_count": 3,
   "metadata": {
    "colab": {
     "base_uri": "https://localhost:8080/",
     "height": 623
    },
    "colab_type": "code",
    "id": "901XB5X2PLMQ",
    "outputId": "0a055488-40dd-4cd3-ce7e-6fbc8f3925e6"
   },
   "outputs": [],
   "source": [
    "import pickle\n",
    "\n",
    "\n",
    "# for county in counties:\n",
    "#   for year in years:\n",
    "#     for type in types:      \n",
    "#       cases=oscn.request.CaseList(type=type, year=year,county=county)\n",
    "#       all_cases = [c for c in cases]\n",
    "#       file_name = f'data/{type}.{county}.{year}.oscn'\n",
    "#       f = open(file_name, 'wb')\n",
    "#       pickle.dump(all_cases, f)\n",
    "#       f.close()\n",
    "#       print(f'{file_name}: {len(all_cases)}')\n"
   ]
  },
  {
   "cell_type": "markdown",
   "metadata": {},
   "source": [
    "### Retrieve the saved files"
   ]
  },
  {
   "cell_type": "code",
   "execution_count": 4,
   "metadata": {
    "colab": {
     "base_uri": "https://localhost:8080/",
     "height": 237
    },
    "colab_type": "code",
    "id": "qVsbnkB-1v6T",
    "outputId": "80d17652-1b74-4cc6-b8a6-6b611e3a1bfe"
   },
   "outputs": [
    {
     "name": "stdout",
     "output_type": "stream",
     "text": [
      "data/CM.mayes.2016.oscn added 535\n",
      "data/CF.mayes.2016.oscn added 512\n",
      "data/CM.mayes.2017.oscn added 632\n",
      "data/CF.mayes.2017.oscn added 425\n",
      "data/CM.mayes.2018.oscn added 392\n",
      "data/CF.mayes.2018.oscn added 277\n",
      "data/CM.love.2016.oscn added 636\n",
      "data/CF.love.2016.oscn added 339\n",
      "data/CM.love.2017.oscn added 766\n",
      "data/CF.love.2017.oscn added 305\n",
      "data/CM.love.2018.oscn added 593\n",
      "data/CF.love.2018.oscn added 212\n",
      "data/CM.rogers.2016.oscn added 1116\n",
      "data/CF.rogers.2016.oscn added 1107\n",
      "data/CM.rogers.2017.oscn added 1114\n",
      "data/CF.rogers.2017.oscn added 1060\n",
      "data/CM.rogers.2018.oscn added 924\n",
      "data/CF.rogers.2018.oscn added 592\n",
      "data/CM.delaware.2016.oscn added 750\n",
      "data/CF.delaware.2016.oscn added 444\n",
      "data/CM.delaware.2017.oscn added 935\n",
      "data/CF.delaware.2017.oscn added 439\n",
      "data/CM.delaware.2018.oscn added 741\n",
      "data/CF.delaware.2018.oscn added 357\n",
      "counted case: 15203 length saved 15203\n"
     ]
    }
   ],
   "source": [
    "import pickle\n",
    "\n",
    "case_count =0 \n",
    "saved_cases = []\n",
    "for county in counties:\n",
    "  for year in years:\n",
    "    for type in types:      \n",
    "      file_name = f'data/{type}.{county}.{year}.oscn'\n",
    "      new_cases = pickle.load(open(file_name, 'rb'))\n",
    "      new_case_count = len(new_cases)\n",
    "      case_count += new_case_count\n",
    "      print(f'{file_name} added {new_case_count}')\n",
    "      saved_cases += new_cases\n",
    "        \n",
    "print(f'counted case: {case_count} length saved {len(saved_cases)}')\n"
   ]
  },
  {
   "cell_type": "markdown",
   "metadata": {},
   "source": [
    "## Create a pandas dataframe\n",
    "This takes several minutes to run.\n",
    "The first cell creates the basic dataframe\n",
    "Then next cells add the columns for reporting"
   ]
  },
  {
   "cell_type": "code",
   "execution_count": 5,
   "metadata": {},
   "outputs": [
    {
     "name": "stdout",
     "output_type": "stream",
     "text": [
      "CPU times: user 1.42 s, sys: 21.9 ms, total: 1.44 s\n",
      "Wall time: 1.45 s\n"
     ]
    },
    {
     "data": {
      "text/html": [
       "<div>\n",
       "<style scoped>\n",
       "    .dataframe tbody tr th:only-of-type {\n",
       "        vertical-align: middle;\n",
       "    }\n",
       "\n",
       "    .dataframe tbody tr th {\n",
       "        vertical-align: top;\n",
       "    }\n",
       "\n",
       "    .dataframe thead th {\n",
       "        text-align: right;\n",
       "    }\n",
       "</style>\n",
       "<table border=\"1\" class=\"dataframe\">\n",
       "  <thead>\n",
       "    <tr style=\"text-align: right;\">\n",
       "      <th></th>\n",
       "      <th>Filed</th>\n",
       "      <th>County</th>\n",
       "      <th>Type</th>\n",
       "      <th>Judge</th>\n",
       "      <th>Case Number</th>\n",
       "      <th>Source</th>\n",
       "    </tr>\n",
       "  </thead>\n",
       "  <tbody>\n",
       "    <tr>\n",
       "      <th>count</th>\n",
       "      <td>15126</td>\n",
       "      <td>15203</td>\n",
       "      <td>15203</td>\n",
       "      <td>15203</td>\n",
       "      <td>15203</td>\n",
       "      <td>15203</td>\n",
       "    </tr>\n",
       "    <tr>\n",
       "      <th>unique</th>\n",
       "      <td>675</td>\n",
       "      <td>4</td>\n",
       "      <td>2</td>\n",
       "      <td>18</td>\n",
       "      <td>6256</td>\n",
       "      <td>15203</td>\n",
       "    </tr>\n",
       "    <tr>\n",
       "      <th>top</th>\n",
       "      <td>2017-04-25 00:00:00</td>\n",
       "      <td>rogers</td>\n",
       "      <td>CM</td>\n",
       "      <td>UNASSIGNED</td>\n",
       "      <td>CM-2016-425</td>\n",
       "      <td>https://www.oscn.net/dockets/GetCaseInformatio...</td>\n",
       "    </tr>\n",
       "    <tr>\n",
       "      <th>freq</th>\n",
       "      <td>66</td>\n",
       "      <td>5913</td>\n",
       "      <td>9037</td>\n",
       "      <td>3708</td>\n",
       "      <td>4</td>\n",
       "      <td>1</td>\n",
       "    </tr>\n",
       "    <tr>\n",
       "      <th>first</th>\n",
       "      <td>2016-01-04 00:00:00</td>\n",
       "      <td>NaN</td>\n",
       "      <td>NaN</td>\n",
       "      <td>NaN</td>\n",
       "      <td>NaN</td>\n",
       "      <td>NaN</td>\n",
       "    </tr>\n",
       "    <tr>\n",
       "      <th>last</th>\n",
       "      <td>2018-09-10 00:00:00</td>\n",
       "      <td>NaN</td>\n",
       "      <td>NaN</td>\n",
       "      <td>NaN</td>\n",
       "      <td>NaN</td>\n",
       "      <td>NaN</td>\n",
       "    </tr>\n",
       "  </tbody>\n",
       "</table>\n",
       "</div>"
      ],
      "text/plain": [
       "                      Filed  County   Type       Judge  Case Number  \\\n",
       "count                 15126   15203  15203       15203        15203   \n",
       "unique                  675       4      2          18         6256   \n",
       "top     2017-04-25 00:00:00  rogers     CM  UNASSIGNED  CM-2016-425   \n",
       "freq                     66    5913   9037        3708            4   \n",
       "first   2016-01-04 00:00:00     NaN    NaN         NaN          NaN   \n",
       "last    2018-09-10 00:00:00     NaN    NaN         NaN          NaN   \n",
       "\n",
       "                                                   Source  \n",
       "count                                               15203  \n",
       "unique                                              15203  \n",
       "top     https://www.oscn.net/dockets/GetCaseInformatio...  \n",
       "freq                                                    1  \n",
       "first                                                 NaN  \n",
       "last                                                  NaN  "
      ]
     },
     "execution_count": 5,
     "metadata": {},
     "output_type": "execute_result"
    }
   ],
   "source": [
    "import numpy as np\n",
    "import pandas as pd\n",
    "\n",
    "columns = ['Filed','County','Type','Judge','Case Number', 'Source']\n",
    "case_data = lambda c: [c.filed, c.county, c.type, c.judge,  c.case_number, c.source]\n",
    "%time all_cases = pd.DataFrame([case_data(c) for c in saved_cases], columns = columns)\n",
    "all_cases.describe()\n"
   ]
  },
  {
   "cell_type": "code",
   "execution_count": 6,
   "metadata": {},
   "outputs": [
    {
     "data": {
      "text/html": [
       "<div>\n",
       "<style scoped>\n",
       "    .dataframe tbody tr th:only-of-type {\n",
       "        vertical-align: middle;\n",
       "    }\n",
       "\n",
       "    .dataframe tbody tr th {\n",
       "        vertical-align: top;\n",
       "    }\n",
       "\n",
       "    .dataframe thead th {\n",
       "        text-align: right;\n",
       "    }\n",
       "</style>\n",
       "<table border=\"1\" class=\"dataframe\">\n",
       "  <thead>\n",
       "    <tr style=\"text-align: right;\">\n",
       "      <th></th>\n",
       "      <th>Filed</th>\n",
       "      <th>County</th>\n",
       "      <th>Type</th>\n",
       "      <th>Judge</th>\n",
       "      <th>Case Number</th>\n",
       "      <th>Source</th>\n",
       "      <th>FirstCount</th>\n",
       "    </tr>\n",
       "  </thead>\n",
       "  <tbody>\n",
       "    <tr>\n",
       "      <th>0</th>\n",
       "      <td>2016-01-04</td>\n",
       "      <td>mayes</td>\n",
       "      <td>CM</td>\n",
       "      <td>UNASSIGNED</td>\n",
       "      <td>CM-2016-1</td>\n",
       "      <td>https://www.oscn.net/dockets/GetCaseInformatio...</td>\n",
       "      <td>POSSESSION OF CONTROLLED SUBSTANCE (MARIJUANA)</td>\n",
       "    </tr>\n",
       "    <tr>\n",
       "      <th>1</th>\n",
       "      <td>2016-01-04</td>\n",
       "      <td>mayes</td>\n",
       "      <td>CM</td>\n",
       "      <td>UNASSIGNED</td>\n",
       "      <td>CM-2016-2</td>\n",
       "      <td>https://www.oscn.net/dockets/GetCaseInformatio...</td>\n",
       "      <td>PUBLIC INTOXICATION</td>\n",
       "    </tr>\n",
       "    <tr>\n",
       "      <th>2</th>\n",
       "      <td>2016-01-04</td>\n",
       "      <td>mayes</td>\n",
       "      <td>CM</td>\n",
       "      <td>UNASSIGNED</td>\n",
       "      <td>CM-2016-3</td>\n",
       "      <td>https://www.oscn.net/dockets/GetCaseInformatio...</td>\n",
       "      <td>DRIVING UNDER THE INFLUENCE - AGGRAVATED, in v...</td>\n",
       "    </tr>\n",
       "    <tr>\n",
       "      <th>3</th>\n",
       "      <td>2016-01-04</td>\n",
       "      <td>mayes</td>\n",
       "      <td>CM</td>\n",
       "      <td>UNASSIGNED</td>\n",
       "      <td>CM-2016-4</td>\n",
       "      <td>https://www.oscn.net/dockets/GetCaseInformatio...</td>\n",
       "      <td>POSSESSION OF CONTROLLED SUBSTANCE (MARIJUANA)</td>\n",
       "    </tr>\n",
       "    <tr>\n",
       "      <th>4</th>\n",
       "      <td>2016-01-04</td>\n",
       "      <td>mayes</td>\n",
       "      <td>CM</td>\n",
       "      <td>UNASSIGNED</td>\n",
       "      <td>CM-2016-5</td>\n",
       "      <td>https://www.oscn.net/dockets/GetCaseInformatio...</td>\n",
       "      <td>DRIVING UNDER THE INFLUENCE - ALCOHOL</td>\n",
       "    </tr>\n",
       "  </tbody>\n",
       "</table>\n",
       "</div>"
      ],
      "text/plain": [
       "       Filed County Type       Judge Case Number  \\\n",
       "0 2016-01-04  mayes   CM  UNASSIGNED   CM-2016-1   \n",
       "1 2016-01-04  mayes   CM  UNASSIGNED   CM-2016-2   \n",
       "2 2016-01-04  mayes   CM  UNASSIGNED   CM-2016-3   \n",
       "3 2016-01-04  mayes   CM  UNASSIGNED   CM-2016-4   \n",
       "4 2016-01-04  mayes   CM  UNASSIGNED   CM-2016-5   \n",
       "\n",
       "                                              Source  \\\n",
       "0  https://www.oscn.net/dockets/GetCaseInformatio...   \n",
       "1  https://www.oscn.net/dockets/GetCaseInformatio...   \n",
       "2  https://www.oscn.net/dockets/GetCaseInformatio...   \n",
       "3  https://www.oscn.net/dockets/GetCaseInformatio...   \n",
       "4  https://www.oscn.net/dockets/GetCaseInformatio...   \n",
       "\n",
       "                                          FirstCount  \n",
       "0     POSSESSION OF CONTROLLED SUBSTANCE (MARIJUANA)  \n",
       "1                                PUBLIC INTOXICATION  \n",
       "2  DRIVING UNDER THE INFLUENCE - AGGRAVATED, in v...  \n",
       "3     POSSESSION OF CONTROLLED SUBSTANCE (MARIJUANA)  \n",
       "4              DRIVING UNDER THE INFLUENCE - ALCOHOL  "
      ]
     },
     "execution_count": 6,
     "metadata": {},
     "output_type": "execute_result"
    }
   ],
   "source": [
    "def get_first_count(row):\n",
    "#   row.name is the row's index\n",
    "    case = saved_cases[row.name]\n",
    "    try:\n",
    "      first_count = case.counts[0]['description']\n",
    "    except:\n",
    "      first_count = 'unknown' \n",
    "    return first_count\n",
    "\n",
    "all_cases['FirstCount'] =  all_cases.apply(get_first_count, axis=1)\n",
    "all_cases.head()"
   ]
  },
  {
   "cell_type": "code",
   "execution_count": 7,
   "metadata": {
    "colab": {
     "base_uri": "https://localhost:8080/",
     "height": 35
    },
    "colab_type": "code",
    "id": "gbDCRWzhxVSh",
    "outputId": "a61c3a75-95c9-4c5f-d15f-94a051809a45"
   },
   "outputs": [],
   "source": [
    "import re\n",
    "\n",
    "# this is the regex for finding pro se cases\n",
    "pro_se_re = re.compile(r'(waive.*right.*attorney|represented.*pro se)', re.I | re.M)\n",
    "\n",
    "# this function determines if a case is Pro Se or not\n",
    "def is_pro_se(row):\n",
    "    case = saved_cases[row.name]\n",
    "# First see if the Pro Se text is anywhere on the page to speed up processing\n",
    "    if pro_se_re.search(case.text):\n",
    "        if case.docket:\n",
    "            for minute in case.docket:\n",
    "                if pro_se_re.search(minute.description):\n",
    "                    return True\n",
    "    return False\n",
    "\n",
    "all_cases['Pro_Se'] = all_cases.apply(is_pro_se, axis=1)\n"
   ]
  },
  {
   "cell_type": "code",
   "execution_count": 8,
   "metadata": {},
   "outputs": [],
   "source": [
    "# convert the date from a string to a ptyhon DateTime type\n",
    "all_cases['FiledDate'] = pd.to_datetime(all_cases['Filed'])\n"
   ]
  },
  {
   "cell_type": "markdown",
   "metadata": {},
   "source": [
    "## General description of the data"
   ]
  },
  {
   "cell_type": "code",
   "execution_count": 9,
   "metadata": {},
   "outputs": [
    {
     "data": {
      "text/html": [
       "<div>\n",
       "<style scoped>\n",
       "    .dataframe tbody tr th:only-of-type {\n",
       "        vertical-align: middle;\n",
       "    }\n",
       "\n",
       "    .dataframe tbody tr th {\n",
       "        vertical-align: top;\n",
       "    }\n",
       "\n",
       "    .dataframe thead th {\n",
       "        text-align: right;\n",
       "    }\n",
       "</style>\n",
       "<table border=\"1\" class=\"dataframe\">\n",
       "  <thead>\n",
       "    <tr style=\"text-align: right;\">\n",
       "      <th></th>\n",
       "      <th>Filed</th>\n",
       "      <th>County</th>\n",
       "      <th>Type</th>\n",
       "      <th>Judge</th>\n",
       "      <th>Case Number</th>\n",
       "      <th>Source</th>\n",
       "      <th>FirstCount</th>\n",
       "      <th>Pro_Se</th>\n",
       "      <th>FiledDate</th>\n",
       "    </tr>\n",
       "  </thead>\n",
       "  <tbody>\n",
       "    <tr>\n",
       "      <th>count</th>\n",
       "      <td>15126</td>\n",
       "      <td>15203</td>\n",
       "      <td>15203</td>\n",
       "      <td>15203</td>\n",
       "      <td>15203</td>\n",
       "      <td>15203</td>\n",
       "      <td>15203</td>\n",
       "      <td>15203</td>\n",
       "      <td>15126</td>\n",
       "    </tr>\n",
       "    <tr>\n",
       "      <th>unique</th>\n",
       "      <td>675</td>\n",
       "      <td>4</td>\n",
       "      <td>2</td>\n",
       "      <td>18</td>\n",
       "      <td>6256</td>\n",
       "      <td>15203</td>\n",
       "      <td>2066</td>\n",
       "      <td>2</td>\n",
       "      <td>675</td>\n",
       "    </tr>\n",
       "    <tr>\n",
       "      <th>top</th>\n",
       "      <td>2017-04-25 00:00:00</td>\n",
       "      <td>rogers</td>\n",
       "      <td>CM</td>\n",
       "      <td>UNASSIGNED</td>\n",
       "      <td>CM-2016-425</td>\n",
       "      <td>https://www.oscn.net/dockets/GetCaseInformatio...</td>\n",
       "      <td>POSSESSION OF CONTROLLED DANGEROUS SUBSTANCE,</td>\n",
       "      <td>False</td>\n",
       "      <td>2017-04-25 00:00:00</td>\n",
       "    </tr>\n",
       "    <tr>\n",
       "      <th>freq</th>\n",
       "      <td>66</td>\n",
       "      <td>5913</td>\n",
       "      <td>9037</td>\n",
       "      <td>3708</td>\n",
       "      <td>4</td>\n",
       "      <td>1</td>\n",
       "      <td>853</td>\n",
       "      <td>14684</td>\n",
       "      <td>66</td>\n",
       "    </tr>\n",
       "    <tr>\n",
       "      <th>first</th>\n",
       "      <td>2016-01-04 00:00:00</td>\n",
       "      <td>NaN</td>\n",
       "      <td>NaN</td>\n",
       "      <td>NaN</td>\n",
       "      <td>NaN</td>\n",
       "      <td>NaN</td>\n",
       "      <td>NaN</td>\n",
       "      <td>NaN</td>\n",
       "      <td>2016-01-04 00:00:00</td>\n",
       "    </tr>\n",
       "    <tr>\n",
       "      <th>last</th>\n",
       "      <td>2018-09-10 00:00:00</td>\n",
       "      <td>NaN</td>\n",
       "      <td>NaN</td>\n",
       "      <td>NaN</td>\n",
       "      <td>NaN</td>\n",
       "      <td>NaN</td>\n",
       "      <td>NaN</td>\n",
       "      <td>NaN</td>\n",
       "      <td>2018-09-10 00:00:00</td>\n",
       "    </tr>\n",
       "  </tbody>\n",
       "</table>\n",
       "</div>"
      ],
      "text/plain": [
       "                      Filed  County   Type       Judge  Case Number  \\\n",
       "count                 15126   15203  15203       15203        15203   \n",
       "unique                  675       4      2          18         6256   \n",
       "top     2017-04-25 00:00:00  rogers     CM  UNASSIGNED  CM-2016-425   \n",
       "freq                     66    5913   9037        3708            4   \n",
       "first   2016-01-04 00:00:00     NaN    NaN         NaN          NaN   \n",
       "last    2018-09-10 00:00:00     NaN    NaN         NaN          NaN   \n",
       "\n",
       "                                                   Source  \\\n",
       "count                                               15203   \n",
       "unique                                              15203   \n",
       "top     https://www.oscn.net/dockets/GetCaseInformatio...   \n",
       "freq                                                    1   \n",
       "first                                                 NaN   \n",
       "last                                                  NaN   \n",
       "\n",
       "                                           FirstCount Pro_Se  \\\n",
       "count                                           15203  15203   \n",
       "unique                                           2066      2   \n",
       "top     POSSESSION OF CONTROLLED DANGEROUS SUBSTANCE,  False   \n",
       "freq                                              853  14684   \n",
       "first                                             NaN    NaN   \n",
       "last                                              NaN    NaN   \n",
       "\n",
       "                  FiledDate  \n",
       "count                 15126  \n",
       "unique                  675  \n",
       "top     2017-04-25 00:00:00  \n",
       "freq                     66  \n",
       "first   2016-01-04 00:00:00  \n",
       "last    2018-09-10 00:00:00  "
      ]
     },
     "execution_count": 9,
     "metadata": {},
     "output_type": "execute_result"
    }
   ],
   "source": [
    "\n",
    "all_cases.describe()"
   ]
  },
  {
   "cell_type": "code",
   "execution_count": 10,
   "metadata": {},
   "outputs": [
    {
     "data": {
      "text/html": [
       "<div>\n",
       "<style scoped>\n",
       "    .dataframe tbody tr th:only-of-type {\n",
       "        vertical-align: middle;\n",
       "    }\n",
       "\n",
       "    .dataframe tbody tr th {\n",
       "        vertical-align: top;\n",
       "    }\n",
       "\n",
       "    .dataframe thead th {\n",
       "        text-align: right;\n",
       "    }\n",
       "</style>\n",
       "<table border=\"1\" class=\"dataframe\">\n",
       "  <thead>\n",
       "    <tr style=\"text-align: right;\">\n",
       "      <th></th>\n",
       "      <th>Filed</th>\n",
       "      <th>County</th>\n",
       "      <th>Type</th>\n",
       "      <th>Judge</th>\n",
       "      <th>Case Number</th>\n",
       "      <th>Source</th>\n",
       "      <th>FirstCount</th>\n",
       "      <th>Pro_Se</th>\n",
       "      <th>FiledDate</th>\n",
       "    </tr>\n",
       "  </thead>\n",
       "  <tbody>\n",
       "    <tr>\n",
       "      <th>0</th>\n",
       "      <td>2016-01-04</td>\n",
       "      <td>mayes</td>\n",
       "      <td>CM</td>\n",
       "      <td>UNASSIGNED</td>\n",
       "      <td>CM-2016-1</td>\n",
       "      <td>https://www.oscn.net/dockets/GetCaseInformatio...</td>\n",
       "      <td>POSSESSION OF CONTROLLED SUBSTANCE (MARIJUANA)</td>\n",
       "      <td>False</td>\n",
       "      <td>2016-01-04</td>\n",
       "    </tr>\n",
       "    <tr>\n",
       "      <th>1</th>\n",
       "      <td>2016-01-04</td>\n",
       "      <td>mayes</td>\n",
       "      <td>CM</td>\n",
       "      <td>UNASSIGNED</td>\n",
       "      <td>CM-2016-2</td>\n",
       "      <td>https://www.oscn.net/dockets/GetCaseInformatio...</td>\n",
       "      <td>PUBLIC INTOXICATION</td>\n",
       "      <td>False</td>\n",
       "      <td>2016-01-04</td>\n",
       "    </tr>\n",
       "    <tr>\n",
       "      <th>2</th>\n",
       "      <td>2016-01-04</td>\n",
       "      <td>mayes</td>\n",
       "      <td>CM</td>\n",
       "      <td>UNASSIGNED</td>\n",
       "      <td>CM-2016-3</td>\n",
       "      <td>https://www.oscn.net/dockets/GetCaseInformatio...</td>\n",
       "      <td>DRIVING UNDER THE INFLUENCE - AGGRAVATED, in v...</td>\n",
       "      <td>False</td>\n",
       "      <td>2016-01-04</td>\n",
       "    </tr>\n",
       "    <tr>\n",
       "      <th>3</th>\n",
       "      <td>2016-01-04</td>\n",
       "      <td>mayes</td>\n",
       "      <td>CM</td>\n",
       "      <td>UNASSIGNED</td>\n",
       "      <td>CM-2016-4</td>\n",
       "      <td>https://www.oscn.net/dockets/GetCaseInformatio...</td>\n",
       "      <td>POSSESSION OF CONTROLLED SUBSTANCE (MARIJUANA)</td>\n",
       "      <td>False</td>\n",
       "      <td>2016-01-04</td>\n",
       "    </tr>\n",
       "    <tr>\n",
       "      <th>4</th>\n",
       "      <td>2016-01-04</td>\n",
       "      <td>mayes</td>\n",
       "      <td>CM</td>\n",
       "      <td>UNASSIGNED</td>\n",
       "      <td>CM-2016-5</td>\n",
       "      <td>https://www.oscn.net/dockets/GetCaseInformatio...</td>\n",
       "      <td>DRIVING UNDER THE INFLUENCE - ALCOHOL</td>\n",
       "      <td>False</td>\n",
       "      <td>2016-01-04</td>\n",
       "    </tr>\n",
       "    <tr>\n",
       "      <th>5</th>\n",
       "      <td>2016-01-04</td>\n",
       "      <td>mayes</td>\n",
       "      <td>CM</td>\n",
       "      <td>UNASSIGNED</td>\n",
       "      <td>CM-2016-6</td>\n",
       "      <td>https://www.oscn.net/dockets/GetCaseInformatio...</td>\n",
       "      <td>DRIVING UNDER THE INFLUENCE - ALCOHOL</td>\n",
       "      <td>False</td>\n",
       "      <td>2016-01-04</td>\n",
       "    </tr>\n",
       "    <tr>\n",
       "      <th>6</th>\n",
       "      <td>2016-01-04</td>\n",
       "      <td>mayes</td>\n",
       "      <td>CM</td>\n",
       "      <td>UNASSIGNED</td>\n",
       "      <td>CM-2016-7</td>\n",
       "      <td>https://www.oscn.net/dockets/GetCaseInformatio...</td>\n",
       "      <td>DRIVING UNDER THE INFLUENCE - DRUGS</td>\n",
       "      <td>False</td>\n",
       "      <td>2016-01-04</td>\n",
       "    </tr>\n",
       "    <tr>\n",
       "      <th>7</th>\n",
       "      <td>2016-01-04</td>\n",
       "      <td>mayes</td>\n",
       "      <td>CM</td>\n",
       "      <td>UNASSIGNED</td>\n",
       "      <td>CM-2016-8</td>\n",
       "      <td>https://www.oscn.net/dockets/GetCaseInformatio...</td>\n",
       "      <td>PUBLIC INTOXICATION</td>\n",
       "      <td>False</td>\n",
       "      <td>2016-01-04</td>\n",
       "    </tr>\n",
       "    <tr>\n",
       "      <th>8</th>\n",
       "      <td>2016-01-04</td>\n",
       "      <td>mayes</td>\n",
       "      <td>CM</td>\n",
       "      <td>UNASSIGNED</td>\n",
       "      <td>CM-2016-9</td>\n",
       "      <td>https://www.oscn.net/dockets/GetCaseInformatio...</td>\n",
       "      <td>PUBLIC INTOXICATION</td>\n",
       "      <td>False</td>\n",
       "      <td>2016-01-04</td>\n",
       "    </tr>\n",
       "    <tr>\n",
       "      <th>9</th>\n",
       "      <td>2016-01-05</td>\n",
       "      <td>mayes</td>\n",
       "      <td>CM</td>\n",
       "      <td>UNASSIGNED</td>\n",
       "      <td>CM-2016-10</td>\n",
       "      <td>https://www.oscn.net/dockets/GetCaseInformatio...</td>\n",
       "      <td>SKIPPED</td>\n",
       "      <td>False</td>\n",
       "      <td>2016-01-05</td>\n",
       "    </tr>\n",
       "  </tbody>\n",
       "</table>\n",
       "</div>"
      ],
      "text/plain": [
       "       Filed County Type       Judge Case Number  \\\n",
       "0 2016-01-04  mayes   CM  UNASSIGNED   CM-2016-1   \n",
       "1 2016-01-04  mayes   CM  UNASSIGNED   CM-2016-2   \n",
       "2 2016-01-04  mayes   CM  UNASSIGNED   CM-2016-3   \n",
       "3 2016-01-04  mayes   CM  UNASSIGNED   CM-2016-4   \n",
       "4 2016-01-04  mayes   CM  UNASSIGNED   CM-2016-5   \n",
       "5 2016-01-04  mayes   CM  UNASSIGNED   CM-2016-6   \n",
       "6 2016-01-04  mayes   CM  UNASSIGNED   CM-2016-7   \n",
       "7 2016-01-04  mayes   CM  UNASSIGNED   CM-2016-8   \n",
       "8 2016-01-04  mayes   CM  UNASSIGNED   CM-2016-9   \n",
       "9 2016-01-05  mayes   CM  UNASSIGNED  CM-2016-10   \n",
       "\n",
       "                                              Source  \\\n",
       "0  https://www.oscn.net/dockets/GetCaseInformatio...   \n",
       "1  https://www.oscn.net/dockets/GetCaseInformatio...   \n",
       "2  https://www.oscn.net/dockets/GetCaseInformatio...   \n",
       "3  https://www.oscn.net/dockets/GetCaseInformatio...   \n",
       "4  https://www.oscn.net/dockets/GetCaseInformatio...   \n",
       "5  https://www.oscn.net/dockets/GetCaseInformatio...   \n",
       "6  https://www.oscn.net/dockets/GetCaseInformatio...   \n",
       "7  https://www.oscn.net/dockets/GetCaseInformatio...   \n",
       "8  https://www.oscn.net/dockets/GetCaseInformatio...   \n",
       "9  https://www.oscn.net/dockets/GetCaseInformatio...   \n",
       "\n",
       "                                          FirstCount  Pro_Se  FiledDate  \n",
       "0     POSSESSION OF CONTROLLED SUBSTANCE (MARIJUANA)   False 2016-01-04  \n",
       "1                                PUBLIC INTOXICATION   False 2016-01-04  \n",
       "2  DRIVING UNDER THE INFLUENCE - AGGRAVATED, in v...   False 2016-01-04  \n",
       "3     POSSESSION OF CONTROLLED SUBSTANCE (MARIJUANA)   False 2016-01-04  \n",
       "4              DRIVING UNDER THE INFLUENCE - ALCOHOL   False 2016-01-04  \n",
       "5              DRIVING UNDER THE INFLUENCE - ALCOHOL   False 2016-01-04  \n",
       "6                DRIVING UNDER THE INFLUENCE - DRUGS   False 2016-01-04  \n",
       "7                                PUBLIC INTOXICATION   False 2016-01-04  \n",
       "8                                PUBLIC INTOXICATION   False 2016-01-04  \n",
       "9                                            SKIPPED   False 2016-01-05  "
      ]
     },
     "execution_count": 10,
     "metadata": {},
     "output_type": "execute_result"
    }
   ],
   "source": [
    "\n",
    "all_cases.head(10)"
   ]
  },
  {
   "cell_type": "markdown",
   "metadata": {},
   "source": [
    "### Count of all cases by county and type "
   ]
  },
  {
   "cell_type": "code",
   "execution_count": 11,
   "metadata": {},
   "outputs": [
    {
     "data": {
      "text/plain": [
       "County\n",
       "delaware    3666\n",
       "love        2851\n",
       "mayes       2770\n",
       "rogers      5839\n",
       "Name: Filed, dtype: int64"
      ]
     },
     "execution_count": 11,
     "metadata": {},
     "output_type": "execute_result"
    }
   ],
   "source": [
    "year = all_cases.FiledDate.dt.to_period(\"Y\")\n",
    "\n",
    "all_cases.groupby(['County']).count()['Filed']"
   ]
  },
  {
   "cell_type": "markdown",
   "metadata": {},
   "source": [
    "### Case count by type, county, and judge"
   ]
  },
  {
   "cell_type": "code",
   "execution_count": 12,
   "metadata": {},
   "outputs": [
    {
     "data": {
      "text/plain": [
       "County    Judge                 Type\n",
       "delaware  DENNEY, BARRY         CM       101\n",
       "                                CF        77\n",
       "          HANEY, ROBERT G       CF       134\n",
       "                                CM        62\n",
       "          LITTLEFIELD, ALICIA   CM      1441\n",
       "                                CF      1010\n",
       "          UNASSIGNED            CM       725\n",
       "                                CF       116\n",
       "love      COPPEDGE, WALLACE     CF       245\n",
       "                                CM       166\n",
       "          CORBIN,  LAURA J      CM         2\n",
       "          HICKS,  TODD          CM      1798\n",
       "                                CF       592\n",
       "          JOHNSON,  GREG        CF        12\n",
       "                                CM         4\n",
       "          MIGLIORINO,  CHARLES  CM         3\n",
       "                                CF         1\n",
       "          ROBERTS,  CHARLES E   CF         2\n",
       "                                CM         2\n",
       "          UNASSIGNED            CM        20\n",
       "                                CF         4\n",
       "mayes     CROSSON,  TERRELL S   CM         1\n",
       "          MCBRIDE,  TERRY H     CF         1\n",
       "          TAYLOR,  SHAWN S      CF         2\n",
       "          UNASSIGNED            CM      1558\n",
       "                                CF      1211\n",
       "rogers    CONDREN, SHEILA A     CF         1\n",
       "          CROSSON, TERRELL S    CM      3091\n",
       "          GORE, REBECCA J       CF         1\n",
       "          MCBRIDE, TERRY H      CF         1\n",
       "                                CM         1\n",
       "          STEIDLEY, J           CF      2744\n",
       "          UNASSIGNED            CM        62\n",
       "                                CF        12\n",
       "Name: Type, dtype: int64"
      ]
     },
     "execution_count": 12,
     "metadata": {},
     "output_type": "execute_result"
    }
   ],
   "source": [
    "all_cases.groupby(['County','Judge'])['Type'].value_counts()"
   ]
  },
  {
   "cell_type": "markdown",
   "metadata": {},
   "source": [
    "### Count of Pro Se cases by county and year"
   ]
  },
  {
   "cell_type": "code",
   "execution_count": 13,
   "metadata": {},
   "outputs": [
    {
     "data": {
      "text/plain": [
       "County    FiledDate  Pro_Se\n",
       "delaware  2016       False     1045\n",
       "                     True       149\n",
       "          2017       False     1163\n",
       "                     True       211\n",
       "          2018       False      990\n",
       "                     True       108\n",
       "love      2016       False      975\n",
       "          2017       False     1071\n",
       "          2018       False      805\n",
       "mayes     2016       False     1046\n",
       "                     True         1\n",
       "          2017       False     1054\n",
       "          2018       False      669\n",
       "rogers    2016       False     2137\n",
       "                     True        33\n",
       "          2017       False     2141\n",
       "                     True        16\n",
       "          2018       False     1511\n",
       "                     True         1\n",
       "Name: Pro_Se, dtype: int64"
      ]
     },
     "execution_count": 13,
     "metadata": {},
     "output_type": "execute_result"
    }
   ],
   "source": [
    "all_cases.groupby(['County',year])['Pro_Se'].value_counts()"
   ]
  },
  {
   "cell_type": "markdown",
   "metadata": {},
   "source": [
    "### Count of Pro Se cases by county, judge and type\n"
   ]
  },
  {
   "cell_type": "code",
   "execution_count": 14,
   "metadata": {
    "colab": {},
    "colab_type": "code",
    "id": "Z7AAKuj8EGcq"
   },
   "outputs": [
    {
     "data": {
      "text/plain": [
       "County    Judge                Type\n",
       "delaware  DENNEY, BARRY        CM       19\n",
       "          HANEY, ROBERT G      CM       10\n",
       "          LITTLEFIELD, ALICIA  CM      399\n",
       "                               CF       23\n",
       "          UNASSIGNED           CM       17\n",
       "mayes     UNASSIGNED           CM        1\n",
       "rogers    CROSSON, TERRELL S   CM       16\n",
       "          STEIDLEY, J          CF       34\n",
       "Name: Type, dtype: int64"
      ]
     },
     "execution_count": 14,
     "metadata": {},
     "output_type": "execute_result"
    }
   ],
   "source": [
    "pro_se_cases = all_cases.query(\"Pro_Se == True\")\n",
    "pro_se_cases.groupby(['County','Judge'])['Type'].value_counts()"
   ]
  },
  {
   "cell_type": "markdown",
   "metadata": {},
   "source": [
    "### Graph of Pro Se case count by judge"
   ]
  },
  {
   "cell_type": "code",
   "execution_count": 15,
   "metadata": {
    "slideshow": {
     "slide_type": "slide"
    }
   },
   "outputs": [
    {
     "data": {
      "text/plain": [
       "<matplotlib.axes._subplots.AxesSubplot at 0x10ae06198>"
      ]
     },
     "execution_count": 15,
     "metadata": {},
     "output_type": "execute_result"
    }
   ],
   "source": [
    "import matplotlib.pyplot as plt\n",
    "pro_se_cases['Judge'].value_counts().plot.bar()"
   ]
  },
  {
   "cell_type": "markdown",
   "metadata": {},
   "source": [
    "### Pro Se Cases by county, judge, and type"
   ]
  },
  {
   "cell_type": "code",
   "execution_count": 16,
   "metadata": {},
   "outputs": [
    {
     "data": {
      "text/plain": [
       "County    Judge                Type\n",
       "delaware  DENNEY, BARRY        CM       19\n",
       "          HANEY, ROBERT G      CM       10\n",
       "          LITTLEFIELD, ALICIA  CM      399\n",
       "                               CF       23\n",
       "          UNASSIGNED           CM       17\n",
       "mayes     UNASSIGNED           CM        1\n",
       "rogers    CROSSON, TERRELL S   CM       16\n",
       "          STEIDLEY, J          CF       34\n",
       "Name: Type, dtype: int64"
      ]
     },
     "execution_count": 16,
     "metadata": {},
     "output_type": "execute_result"
    }
   ],
   "source": [
    "pro_se_cases.groupby(['County','Judge'])['Type'].value_counts()"
   ]
  },
  {
   "cell_type": "markdown",
   "metadata": {},
   "source": [
    "### Percentage Pro Se by Year, County and Type"
   ]
  },
  {
   "cell_type": "code",
   "execution_count": 17,
   "metadata": {},
   "outputs": [
    {
     "data": {
      "text/plain": [
       "FiledDate  County    Type\n",
       "2016       delaware  CF       2.15\n",
       "                     CM      19.09\n",
       "           love      CF        NaN\n",
       "                     CM        NaN\n",
       "           mayes     CF        NaN\n",
       "                     CM       0.19\n",
       "           rogers    CF       1.73\n",
       "                     CM       1.31\n",
       "2017       delaware  CF       2.08\n",
       "                     CM      22.51\n",
       "           love      CF        NaN\n",
       "                     CM        NaN\n",
       "           mayes     CF        NaN\n",
       "                     CM        NaN\n",
       "           rogers    CF       1.32\n",
       "                     CM       0.18\n",
       "2018       delaware  CF       0.77\n",
       "                     CM      14.83\n",
       "           love      CF        NaN\n",
       "                     CM        NaN\n",
       "           mayes     CF        NaN\n",
       "                     CM        NaN\n",
       "           rogers    CF       0.17\n",
       "                     CM        NaN\n",
       "dtype: float64"
      ]
     },
     "execution_count": 17,
     "metadata": {},
     "output_type": "execute_result"
    }
   ],
   "source": [
    "year = all_cases.FiledDate.dt.to_period(\"Y\")\n",
    "\n",
    "groups = [year,'County','Type']\n",
    "round(pro_se_cases.groupby(groups).size()/all_cases.groupby(groups).size()*100,2)\n"
   ]
  },
  {
   "cell_type": "code",
   "execution_count": null,
   "metadata": {},
   "outputs": [],
   "source": []
  },
  {
   "cell_type": "markdown",
   "metadata": {},
   "source": [
    "### Percentage Pro Se by Year, Type, and Judge"
   ]
  },
  {
   "cell_type": "code",
   "execution_count": 18,
   "metadata": {
    "scrolled": true
   },
   "outputs": [
    {
     "data": {
      "text/plain": [
       "FiledDate  Type  Judge               \n",
       "2016       CF    COPPEDGE, WALLACE         NaN\n",
       "                 DENNEY, BARRY             NaN\n",
       "                 HANEY, ROBERT G           NaN\n",
       "                 HICKS,  TODD              NaN\n",
       "                 JOHNSON,  GREG            NaN\n",
       "                 LITTLEFIELD, ALICIA      2.70\n",
       "                 MCBRIDE, TERRY H          NaN\n",
       "                 MIGLIORINO,  CHARLES      NaN\n",
       "                 ROBERTS,  CHARLES E       NaN\n",
       "                 STEIDLEY, J              1.73\n",
       "                 TAYLOR,  SHAWN S          NaN\n",
       "                 UNASSIGNED                NaN\n",
       "           CM    COPPEDGE, WALLACE         NaN\n",
       "                 CROSSON,  TERRELL S       NaN\n",
       "                 CROSSON, TERRELL S       1.31\n",
       "                 DENNEY, BARRY           16.13\n",
       "                 HANEY, ROBERT G          9.52\n",
       "                 HICKS,  TODD              NaN\n",
       "                 JOHNSON,  GREG            NaN\n",
       "                 LITTLEFIELD, ALICIA     28.19\n",
       "                 MIGLIORINO,  CHARLES      NaN\n",
       "                 ROBERTS,  CHARLES E       NaN\n",
       "                 UNASSIGNED               0.66\n",
       "2017       CF    CONDREN, SHEILA A         NaN\n",
       "                 COPPEDGE, WALLACE         NaN\n",
       "                 DENNEY, BARRY             NaN\n",
       "                 HANEY, ROBERT G           NaN\n",
       "                 HICKS,  TODD              NaN\n",
       "                 JOHNSON,  GREG            NaN\n",
       "                 LITTLEFIELD, ALICIA      2.74\n",
       "                                         ...  \n",
       "                 ROBERTS,  CHARLES E       NaN\n",
       "                 STEIDLEY, J              1.32\n",
       "                 UNASSIGNED                NaN\n",
       "           CM    COPPEDGE, WALLACE         NaN\n",
       "                 CROSSON, TERRELL S       0.18\n",
       "                 DENNEY, BARRY           18.92\n",
       "                 HANEY, ROBERT G         20.83\n",
       "                 HICKS,  TODD              NaN\n",
       "                 JOHNSON,  GREG            NaN\n",
       "                 LITTLEFIELD, ALICIA     30.94\n",
       "                 ROBERTS,  CHARLES E       NaN\n",
       "                 UNASSIGNED               0.90\n",
       "2018       CF    COPPEDGE, WALLACE         NaN\n",
       "                 DENNEY, BARRY             NaN\n",
       "                 GORE, REBECCA J           NaN\n",
       "                 HANEY, ROBERT G           NaN\n",
       "                 HICKS,  TODD              NaN\n",
       "                 LITTLEFIELD, ALICIA      1.09\n",
       "                 STEIDLEY, J              0.17\n",
       "                 UNASSIGNED                NaN\n",
       "           CM    COPPEDGE, WALLACE         NaN\n",
       "                 CORBIN,  LAURA J          NaN\n",
       "                 CROSSON, TERRELL S        NaN\n",
       "                 DENNEY, BARRY           21.21\n",
       "                 HANEY, ROBERT G         17.65\n",
       "                 HICKS,  TODD              NaN\n",
       "                 JOHNSON,  GREG            NaN\n",
       "                 LITTLEFIELD, ALICIA     22.39\n",
       "                 MCBRIDE, TERRY H          NaN\n",
       "                 UNASSIGNED               0.76\n",
       "Length: 61, dtype: float64"
      ]
     },
     "execution_count": 18,
     "metadata": {},
     "output_type": "execute_result"
    }
   ],
   "source": [
    "year = all_cases.FiledDate.dt.to_period(\"Y\")\n",
    "\n",
    "groups = [year,'Type','Judge']\n",
    "round(pro_se_cases.groupby(groups).size()/all_cases.groupby(groups).size()*100,2)\n"
   ]
  },
  {
   "cell_type": "markdown",
   "metadata": {},
   "source": [
    "### History of Percentage CM Pro Se cases in Delaware County\n",
    "### (January 2017 - August 2018)"
   ]
  },
  {
   "cell_type": "code",
   "execution_count": 19,
   "metadata": {},
   "outputs": [
    {
     "data": {
      "text/plain": [
       "<matplotlib.axes._subplots.AxesSubplot at 0x130dc8780>"
      ]
     },
     "execution_count": 19,
     "metadata": {},
     "output_type": "execute_result"
    },
    {
     "data": {
      "image/png": "[encoded data removed]",
      "text/plain": [
       "<Figure size 432x288 with 1 Axes>"
      ]
     },
     "metadata": {},
     "output_type": "display_data"
    }
   ],
   "source": [
    "month = all_cases.FiledDate.dt.to_period(\"M\")\n",
    "\n",
    "delaware_cases = all_cases.query(\"County == 'delaware'\").query(\"Type == 'CM'\")\n",
    "delaware_pro_se_cases = delaware_cases.query(\"Pro_Se == True\")\n",
    "groups = [month]\n",
    "by_month=round(delaware_pro_se_cases.groupby(groups).size()/delaware_cases.groupby(groups).size()*100,2)\n",
    "by_month.plot.line()"
   ]
  },
  {
   "cell_type": "code",
   "execution_count": 20,
   "metadata": {},
   "outputs": [],
   "source": [
    "delaware_pro_se_cases.to_csv('pro_se_cases.csv')\n"
   ]
  },
  {
   "cell_type": "code",
   "execution_count": null,
   "metadata": {},
   "outputs": [],
   "source": []
  }
 ],
 "metadata": {
  "colab": {
   "name": "delaware county pro se.ipynb",
   "provenance": [],
   "toc_visible": true,
   "version": "0.3.2"
  },
  "kernelspec": {
   "display_name": "Python 3",
   "language": "python",
   "name": "python3"
  },
  "language_info": {
   "codemirror_mode": {
    "name": "ipython",
    "version": 3
   },
   "file_extension": ".py",
   "mimetype": "text/x-python",
   "name": "python",
   "nbconvert_exporter": "python",
   "pygments_lexer": "ipython3",
   "version": "3.6.5"
  }
 },
 "nbformat": 4,
 "nbformat_minor": 1
}
